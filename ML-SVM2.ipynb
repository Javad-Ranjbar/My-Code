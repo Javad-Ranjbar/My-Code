{
 "cells": [
  {
   "cell_type": "markdown",
   "id": "68f8f145",
   "metadata": {},
   "source": [
    "## Javad Ranjbar Kermani\n",
    "## SVM (support vector method)"
   ]
  },
  {
   "cell_type": "code",
   "execution_count": 60,
   "id": "8d8d9068",
   "metadata": {},
   "outputs": [
    {
     "data": {
      "text/html": [
       "<div>\n",
       "<style scoped>\n",
       "    .dataframe tbody tr th:only-of-type {\n",
       "        vertical-align: middle;\n",
       "    }\n",
       "\n",
       "    .dataframe tbody tr th {\n",
       "        vertical-align: top;\n",
       "    }\n",
       "\n",
       "    .dataframe thead th {\n",
       "        text-align: right;\n",
       "    }\n",
       "</style>\n",
       "<table border=\"1\" class=\"dataframe\">\n",
       "  <thead>\n",
       "    <tr style=\"text-align: right;\">\n",
       "      <th></th>\n",
       "      <th>Feature1</th>\n",
       "      <th>Feature2</th>\n",
       "      <th>Confirmed</th>\n",
       "    </tr>\n",
       "  </thead>\n",
       "  <tbody>\n",
       "    <tr>\n",
       "      <th>0</th>\n",
       "      <td>0.051267</td>\n",
       "      <td>0.69956</td>\n",
       "      <td>1</td>\n",
       "    </tr>\n",
       "    <tr>\n",
       "      <th>1</th>\n",
       "      <td>-0.092742</td>\n",
       "      <td>0.68494</td>\n",
       "      <td>1</td>\n",
       "    </tr>\n",
       "    <tr>\n",
       "      <th>2</th>\n",
       "      <td>-0.213710</td>\n",
       "      <td>0.69225</td>\n",
       "      <td>1</td>\n",
       "    </tr>\n",
       "    <tr>\n",
       "      <th>3</th>\n",
       "      <td>-0.375000</td>\n",
       "      <td>0.50219</td>\n",
       "      <td>1</td>\n",
       "    </tr>\n",
       "    <tr>\n",
       "      <th>4</th>\n",
       "      <td>-0.513250</td>\n",
       "      <td>0.46564</td>\n",
       "      <td>1</td>\n",
       "    </tr>\n",
       "  </tbody>\n",
       "</table>\n",
       "</div>"
      ],
      "text/plain": [
       "   Feature1  Feature2  Confirmed\n",
       "0  0.051267   0.69956          1\n",
       "1 -0.092742   0.68494          1\n",
       "2 -0.213710   0.69225          1\n",
       "3 -0.375000   0.50219          1\n",
       "4 -0.513250   0.46564          1"
      ]
     },
     "execution_count": 60,
     "metadata": {},
     "output_type": "execute_result"
    }
   ],
   "source": [
    "# import libreries\n",
    "import numpy as np\n",
    "import pandas as pd\n",
    "import matplotlib.pyplot as plt\n",
    "import copy\n",
    "data = pd.read_csv('micro_test_data.txt',names=['Feature1', 'Feature2', 'Confirmed'])\n",
    "data.head()"
   ]
  },
  {
   "cell_type": "code",
   "execution_count": 62,
   "id": "b8d82684",
   "metadata": {},
   "outputs": [],
   "source": [
    "# function for feature mapping and creating new features from pervious features\n",
    "def Feature_mapping(data, features, degree):\n",
    "    \"\"\"\n",
    "        This function reuturns df (new dataset after feature mapping)\n",
    "        data : data in dataset\n",
    "        features : number of features\n",
    "        degree = degree of feature mapping\n",
    "    \"\"\"\n",
    "    df = copy.deepcopy(data)\n",
    "    degree = degree\n",
    "    df.insert(0, 'Ones', 1) # Insert a first column with ones.\n",
    "    x = []\n",
    "    for n in range(1, features + 1):\n",
    "        x.append(df.iloc[:, n])\n",
    "    for i in range(1, degree + 1):\n",
    "        for j in range(0, i + 1):\n",
    "            df['x' + str(i) + str(j)] = np.power(x[0], i-j) * np.power(x[1], j)\n",
    "    cols = [0, 1, 2] # unnecessary and repetitious columns\n",
    "    df.drop(df.columns[cols], axis=1, inplace=True)\n",
    "    cols = df.columns.tolist()\n",
    "    cols = cols[1:] + [cols[0]]\n",
    "    df = df[cols]\n",
    "    return df"
   ]
  },
  {
   "cell_type": "code",
   "execution_count": 63,
   "id": "0f3ff3ca",
   "metadata": {},
   "outputs": [],
   "source": [
    "df = Feature_mapping(data, features=2, degree=2)\n",
    "x1 = df.iloc[:, 0:-1]\n",
    "y1 = df.iloc[:, -1]"
   ]
  },
  {
   "cell_type": "code",
   "execution_count": 64,
   "id": "fc57bdc9",
   "metadata": {},
   "outputs": [],
   "source": [
    "#split the dataset into train and test\n",
    "from sklearn.model_selection import train_test_split\n",
    "x1_train, x1_test, y1_train, y1_test = train_test_split(x1, y1, test_size=0.2, random_state=42)"
   ]
  },
  {
   "cell_type": "markdown",
   "id": "e23226be",
   "metadata": {},
   "source": [
    "## logistic model"
   ]
  },
  {
   "cell_type": "code",
   "execution_count": 65,
   "id": "2775b857",
   "metadata": {},
   "outputs": [
    {
     "data": {
      "text/plain": [
       "LogisticRegression(C=0.1)"
      ]
     },
     "execution_count": 65,
     "metadata": {},
     "output_type": "execute_result"
    }
   ],
   "source": [
    "from sklearn.linear_model import LogisticRegression\n",
    "logistic_model = LogisticRegression(C=0.1)\n",
    "logistic_model.fit(x1_train, y1_train)"
   ]
  },
  {
   "cell_type": "code",
   "execution_count": 66,
   "id": "a3798c2f",
   "metadata": {},
   "outputs": [
    {
     "name": "stdout",
     "output_type": "stream",
     "text": [
      "precision score = 0.5454545454545454 \n",
      "\n",
      "accuracy score = 0.5416666666666666 \n",
      "\n",
      "f1 score = 0.5217391304347826 \n",
      "\n",
      "recall score = 0.5 \n",
      "\n"
     ]
    }
   ],
   "source": [
    "from sklearn.metrics import precision_score, f1_score, accuracy_score, recall_score\n",
    "y_pred_logistic_model = logistic_model.predict(x1_test)\n",
    "print('precision score =', precision_score(y1_test, y_pred_logistic_model), '\\n')\n",
    "print('accuracy score =', accuracy_score(y1_test, y_pred_logistic_model), '\\n')\n",
    "print('f1 score =', f1_score(y1_test, y_pred_logistic_model), '\\n')\n",
    "print('recall score =', recall_score(y1_test, y_pred_logistic_model), '\\n')"
   ]
  },
  {
   "cell_type": "code",
   "execution_count": 67,
   "id": "071c134b",
   "metadata": {},
   "outputs": [],
   "source": [
    "x2 = data.iloc[:, 0:-1]\n",
    "y2 = data.iloc[:, -1]"
   ]
  },
  {
   "cell_type": "code",
   "execution_count": 68,
   "id": "01f1deff",
   "metadata": {},
   "outputs": [],
   "source": [
    "#split the dataset into train and test\n",
    "from sklearn.model_selection import train_test_split\n",
    "x2_train, x2_test, y2_train, y2_test = train_test_split(x2, y2, test_size=0.2, random_state=42)"
   ]
  },
  {
   "cell_type": "markdown",
   "id": "a9e62949",
   "metadata": {},
   "source": [
    "## SVM Method"
   ]
  },
  {
   "cell_type": "markdown",
   "id": "c56c1f98",
   "metadata": {},
   "source": [
    "### Poly  kernel"
   ]
  },
  {
   "cell_type": "code",
   "execution_count": 69,
   "id": "03644540",
   "metadata": {},
   "outputs": [
    {
     "data": {
      "text/plain": [
       "SVC(degree=4, kernel='poly')"
      ]
     },
     "execution_count": 69,
     "metadata": {},
     "output_type": "execute_result"
    }
   ],
   "source": [
    "from sklearn.svm import SVC\n",
    "poly2_model = SVC(kernel='poly', degree = 2) #poly degree2\n",
    "poly4_model = SVC(kernel='poly', degree = 4) #poly degree4\n",
    "poly2_model.fit(x2_train,y2_train)\n",
    "poly4_model.fit(x2_train,y2_train)"
   ]
  },
  {
   "cell_type": "code",
   "execution_count": 70,
   "id": "4e07a318",
   "metadata": {},
   "outputs": [
    {
     "name": "stdout",
     "output_type": "stream",
     "text": [
      "poly kernel degree2 : \n",
      "\n",
      "precision score poly4 = 1.0\n",
      "accuracy score poly4 = 0.9583333333333334\n",
      "f1 score poly4 = 0.9565217391304348\n",
      "recall score poly4= 0.9166666666666666 \n",
      "\n",
      "poly kernel degree4 : \n",
      "\n",
      "precision score poly4 = 0.8\n",
      "accuracy score poly4 = 0.875\n",
      "f1 score poly4 = 0.888888888888889\n",
      "recall score poly4= 1.0 \n",
      "\n"
     ]
    }
   ],
   "source": [
    "y_pred_poly2_model = poly2_model.predict(x2_test)\n",
    "y_pred_poly4_model = poly4_model.predict(x2_test)\n",
    "print('poly kernel degree2 :', '\\n')\n",
    "print('precision score poly4 =', precision_score(y2_test, y_pred_poly2_model))\n",
    "print('accuracy score poly4 =', accuracy_score(y2_test, y_pred_poly2_model))\n",
    "print('f1 score poly4 =', f1_score(y2_test, y_pred_poly2_model))\n",
    "print('recall score poly4=',recall_score(y2_test, y_pred_poly2_model), '\\n')\n",
    "print('poly kernel degree4 :', '\\n')\n",
    "print('precision score poly4 =', precision_score(y2_test, y_pred_poly4_model))\n",
    "print('accuracy score poly4 =', accuracy_score(y2_test, y_pred_poly4_model))\n",
    "print('f1 score poly4 =', f1_score(y2_test, y_pred_poly4_model))\n",
    "print('recall score poly4=',recall_score(y2_test, y_pred_poly4_model), '\\n')"
   ]
  },
  {
   "cell_type": "markdown",
   "id": "7ad4c072",
   "metadata": {},
   "source": [
    "### rbf kernel"
   ]
  },
  {
   "cell_type": "code",
   "execution_count": 71,
   "id": "b8367260",
   "metadata": {},
   "outputs": [
    {
     "data": {
      "text/plain": [
       "SVC()"
      ]
     },
     "execution_count": 71,
     "metadata": {},
     "output_type": "execute_result"
    }
   ],
   "source": [
    "rbf_model = SVC(kernel='rbf', gamma ='scale')\n",
    "rbf_model.fit(x2_train, y2_train)"
   ]
  },
  {
   "cell_type": "code",
   "execution_count": 72,
   "id": "049b7d49",
   "metadata": {},
   "outputs": [
    {
     "name": "stdout",
     "output_type": "stream",
     "text": [
      "precision score = 0.9 \n",
      "\n",
      "accuracy score = 0.8333333333333334 \n",
      "\n",
      "f1 score = 0.8181818181818182 \n",
      "\n",
      "recall score = 0.75 \n",
      "\n"
     ]
    }
   ],
   "source": [
    "y_pred_rbf_model= rbf_model.predict(x2_test)\n",
    "print('precision score =', precision_score(y2_test, y_pred_rbf_model), '\\n')\n",
    "print('accuracy score =', accuracy_score(y2_test, y_pred_rbf_model), '\\n')\n",
    "print('f1 score =', f1_score(y2_test, y_pred_rbf_model), '\\n')\n",
    "print('recall score =', recall_score(y2_test, y_pred_rbf_model), '\\n')"
   ]
  },
  {
   "cell_type": "markdown",
   "id": "2f3d5dad",
   "metadata": {},
   "source": [
    "### Plot ROC and compare AUC"
   ]
  },
  {
   "cell_type": "code",
   "execution_count": 74,
   "id": "395b1f42",
   "metadata": {},
   "outputs": [
    {
     "data": {
      "image/png": "[encoded data removed]",
      "text/plain": [
       "<Figure size 500x400 with 1 Axes>"
      ]
     },
     "metadata": {},
     "output_type": "display_data"
    }
   ],
   "source": [
    "from sklearn.metrics import roc_curve, auc\n",
    "\n",
    "y_pred_logistic = logistic_model .decision_function(x1_test)\n",
    "y_pred_poly2 = poly2_model.decision_function(x2_test)\n",
    "y_pred_poly4 = poly4_model.decision_function(x2_test)\n",
    "y_pred_rbf = rbf_model.decision_function(x2_test)  \n",
    "\n",
    "logistic_fpr, logistic_tpr, threshold = roc_curve(y1_test, y_pred_logistic)\n",
    "logistic_auc = auc(logistic_fpr, logistic_tpr)\n",
    "\n",
    "poly2_fpr, poly2_tpr, threshold = roc_curve(y2_test, y_pred_poly2)\n",
    "poly2_auc = auc(poly2_fpr, poly2_tpr)\n",
    "\n",
    "poly4_fpr, poly4_tpr, threshold = roc_curve(y2_test, y_pred_poly4)\n",
    "poly4_auc = auc(poly4_fpr, poly4_tpr)\n",
    "\n",
    "rbf_fpr, rbf_tpr, threshold = roc_curve(y2_test, y_pred_rbf)\n",
    "rbf_auc = auc(rbf_fpr, rbf_tpr)\n",
    "\n",
    "plt.figure(figsize = (5,4))\n",
    "plt.plot(logistic_fpr, logistic_tpr , linestyle = '--', label='logistic(AUC = %0.3f)' % logistic_auc)\n",
    "plt.plot(poly2_fpr, poly2_tpr,color = 'green', linestyle = '-.', label='poly2(AUC = %0.3f)' % poly2_auc)\n",
    "plt.plot(poly4_fpr, poly4_tpr,color = 'black', linestyle = '-.', label='poly4(AUC = %0.3f)' % poly4_auc)\n",
    "plt.plot(rbf_fpr, rbf_tpr, linestyle = '-.', label='rbf(AUC = %0.3f)' % rbf_auc)\n",
    "\n",
    "\n",
    "\n",
    "plt.xlabel('False Positive Rate')\n",
    "plt.ylabel('True Positive Rate')\n",
    "plt.legend(loc=4, prop={'size': 8})\n",
    "plt.show()\n"
   ]
  }
 ],
 "metadata": {
  "kernelspec": {
   "display_name": "Python 3 (ipykernel)",
   "language": "python",
   "name": "python3"
  },
  "language_info": {
   "codemirror_mode": {
    "name": "ipython",
    "version": 3
   },
   "file_extension": ".py",
   "mimetype": "text/x-python",
   "name": "python",
   "nbconvert_exporter": "python",
   "pygments_lexer": "ipython3",
   "version": "3.9.13"
  }
 },
 "nbformat": 4,
 "nbformat_minor": 5
}
