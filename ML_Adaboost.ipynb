{
 "cells": [
  {
   "cell_type": "markdown",
   "id": "26b81002",
   "metadata": {},
   "source": [
    "## Javad Ranjbar Kermani\n",
    "## Adaboost"
   ]
  },
  {
   "cell_type": "code",
   "execution_count": 26,
   "id": "8fe1a070",
   "metadata": {},
   "outputs": [],
   "source": [
    "#importing libraries\n",
    "import numpy as np\n",
    "import pandas as pd\n",
    "import matplotlib.pyplot as plt"
   ]
  },
  {
   "cell_type": "code",
   "execution_count": 27,
   "id": "ddcf35f4",
   "metadata": {},
   "outputs": [
    {
     "data": {
      "text/html": [
       "<div>\n",
       "<style scoped>\n",
       "    .dataframe tbody tr th:only-of-type {\n",
       "        vertical-align: middle;\n",
       "    }\n",
       "\n",
       "    .dataframe tbody tr th {\n",
       "        vertical-align: top;\n",
       "    }\n",
       "\n",
       "    .dataframe thead th {\n",
       "        text-align: right;\n",
       "    }\n",
       "</style>\n",
       "<table border=\"1\" class=\"dataframe\">\n",
       "  <thead>\n",
       "    <tr style=\"text-align: right;\">\n",
       "      <th></th>\n",
       "      <th>Recency (months)</th>\n",
       "      <th>Frequency (times)</th>\n",
       "      <th>Monetary (c.c. blood)</th>\n",
       "      <th>Time (months)</th>\n",
       "      <th>whether he/she donated blood in March 2007</th>\n",
       "    </tr>\n",
       "  </thead>\n",
       "  <tbody>\n",
       "    <tr>\n",
       "      <th>0</th>\n",
       "      <td>2</td>\n",
       "      <td>50</td>\n",
       "      <td>12500</td>\n",
       "      <td>98</td>\n",
       "      <td>1</td>\n",
       "    </tr>\n",
       "    <tr>\n",
       "      <th>1</th>\n",
       "      <td>0</td>\n",
       "      <td>13</td>\n",
       "      <td>3250</td>\n",
       "      <td>28</td>\n",
       "      <td>1</td>\n",
       "    </tr>\n",
       "    <tr>\n",
       "      <th>2</th>\n",
       "      <td>1</td>\n",
       "      <td>16</td>\n",
       "      <td>4000</td>\n",
       "      <td>35</td>\n",
       "      <td>1</td>\n",
       "    </tr>\n",
       "    <tr>\n",
       "      <th>3</th>\n",
       "      <td>2</td>\n",
       "      <td>20</td>\n",
       "      <td>5000</td>\n",
       "      <td>45</td>\n",
       "      <td>1</td>\n",
       "    </tr>\n",
       "    <tr>\n",
       "      <th>4</th>\n",
       "      <td>1</td>\n",
       "      <td>24</td>\n",
       "      <td>6000</td>\n",
       "      <td>77</td>\n",
       "      <td>0</td>\n",
       "    </tr>\n",
       "  </tbody>\n",
       "</table>\n",
       "</div>"
      ],
      "text/plain": [
       "   Recency (months)  Frequency (times)  Monetary (c.c. blood)  Time (months)  \\\n",
       "0                 2                 50                  12500             98   \n",
       "1                 0                 13                   3250             28   \n",
       "2                 1                 16                   4000             35   \n",
       "3                 2                 20                   5000             45   \n",
       "4                 1                 24                   6000             77   \n",
       "\n",
       "   whether he/she donated blood in March 2007  \n",
       "0                                           1  \n",
       "1                                           1  \n",
       "2                                           1  \n",
       "3                                           1  \n",
       "4                                           0  "
      ]
     },
     "execution_count": 27,
     "metadata": {},
     "output_type": "execute_result"
    }
   ],
   "source": [
    "df = pd.read_csv('transfusion.data')\n",
    "df.head()"
   ]
  },
  {
   "cell_type": "code",
   "execution_count": 28,
   "id": "ee282b75",
   "metadata": {},
   "outputs": [],
   "source": [
    "x = df.iloc[:, 0:-1] #features\n",
    "y = df.iloc[:, -1] #labels"
   ]
  },
  {
   "cell_type": "code",
   "execution_count": 29,
   "id": "c87e9479",
   "metadata": {},
   "outputs": [],
   "source": [
    "#split the dataset into train, valid and test\n",
    "from sklearn.model_selection import train_test_split\n",
    "x_train_valid, x_test, y_train_valid, y_test = train_test_split(x, y, test_size=0.2, random_state=42)\n",
    "x_train, x_valid, y_train, y_valid = train_test_split(x_train_valid, y_train_valid, test_size=0.1, random_state=42)"
   ]
  },
  {
   "cell_type": "code",
   "execution_count": 30,
   "id": "0c01ee6c",
   "metadata": {},
   "outputs": [],
   "source": [
    "#decision tree max depth 1\n",
    "from sklearn.tree import DecisionTreeClassifier\n",
    "dt_model = DecisionTreeClassifier(max_depth = 1, random_state=42)"
   ]
  },
  {
   "cell_type": "code",
   "execution_count": 31,
   "id": "7dd28c09",
   "metadata": {},
   "outputs": [
    {
     "data": {
      "text/plain": [
       "AdaBoostClassifier(algorithm='SAMME',\n",
       "                   base_estimator=DecisionTreeClassifier(max_depth=1,\n",
       "                                                         random_state=42),\n",
       "                   n_estimators=200, random_state=42)"
      ]
     },
     "execution_count": 31,
     "metadata": {},
     "output_type": "execute_result"
    }
   ],
   "source": [
    "# Adaboost algorithm\n",
    "from sklearn.ensemble import AdaBoostClassifier\n",
    "ab_model = AdaBoostClassifier(base_estimator = dt_model, n_estimators = 200, algorithm='SAMME', random_state=42)\n",
    "ab_model.fit(x_train,y_train)"
   ]
  },
  {
   "cell_type": "code",
   "execution_count": 32,
   "id": "bd03107f",
   "metadata": {},
   "outputs": [
    {
     "name": "stdout",
     "output_type": "stream",
     "text": [
      "accuracy_score : \n",
      "\n",
      "train : 0.8178438661710037\n",
      "valid : 0.7666666666666667\n",
      "test : 0.8 \n",
      "\n",
      "precision_score : \n",
      "\n",
      "train : 0.6911764705882353\n",
      "valid : 0.7142857142857143\n",
      "test : 0.8181818181818182 \n",
      "\n",
      "f1_score : \n",
      "\n",
      "train : 0.48958333333333326\n",
      "valid : 0.4166666666666667\n",
      "test : 0.375 \n",
      "\n",
      "recall_score : \n",
      "\n",
      "train : 0.3790322580645161\n",
      "valid : 0.29411764705882354\n",
      "test : 0.24324324324324326 \n",
      "\n"
     ]
    }
   ],
   "source": [
    "from sklearn.metrics import precision_score, f1_score, accuracy_score, recall_score\n",
    "y_pred_train = ab_model.predict(x_train)\n",
    "y_pred_valid = ab_model.predict(x_valid)\n",
    "y_pred_test = ab_model.predict(x_test)\n",
    "print('accuracy_score :', '\\n')\n",
    "print(f'train : {accuracy_score(y_train, y_pred_train)}')\n",
    "print(f'valid : {accuracy_score(y_valid, y_pred_valid)}')\n",
    "print(f'test : {accuracy_score(y_test, y_pred_test)}', '\\n')\n",
    "print('precision_score :', '\\n')\n",
    "print(f'train : {precision_score(y_train, y_pred_train)}')\n",
    "print(f'valid : {precision_score(y_valid, y_pred_valid)}')\n",
    "print(f'test : {precision_score(y_test, y_pred_test)}', '\\n')\n",
    "print('f1_score :', '\\n')\n",
    "print(f'train : {f1_score(y_train, y_pred_train)}')\n",
    "print(f'valid : {f1_score(y_valid, y_pred_valid)}')\n",
    "print(f'test : {f1_score(y_test, y_pred_test)}', '\\n')\n",
    "print('recall_score :', '\\n')\n",
    "print(f'train : {recall_score(y_train, y_pred_train)}')\n",
    "print(f'valid : {recall_score(y_valid, y_pred_valid)}')\n",
    "print(f'test : {recall_score(y_test, y_pred_test)}', '\\n')"
   ]
  }
 ],
 "metadata": {
  "kernelspec": {
   "display_name": "Python 3 (ipykernel)",
   "language": "python",
   "name": "python3"
  },
  "language_info": {
   "codemirror_mode": {
    "name": "ipython",
    "version": 3
   },
   "file_extension": ".py",
   "mimetype": "text/x-python",
   "name": "python",
   "nbconvert_exporter": "python",
   "pygments_lexer": "ipython3",
   "version": "3.9.13"
  }
 },
 "nbformat": 4,
 "nbformat_minor": 5
}
