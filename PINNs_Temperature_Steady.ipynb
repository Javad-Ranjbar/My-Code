{
 "cells": [
  {
   "cell_type": "code",
   "execution_count": 1,
   "id": "0558dbc1",
   "metadata": {},
   "outputs": [],
   "source": [
    "import numpy as np\n",
    "import time\n",
    "import pandas as pd\n",
    "import tensorflow as tf\n",
    "import matplotlib.pyplot as plt\n",
    "from matplotlib import cm\n",
    "from scipy.stats import qmc"
   ]
  },
  {
   "cell_type": "code",
   "execution_count": 2,
   "id": "e5a373ba",
   "metadata": {},
   "outputs": [],
   "source": [
    "tf.keras.backend.set_floatx(\"float64\")"
   ]
  },
  {
   "cell_type": "code",
   "execution_count": 1,
   "id": "ac43d91d",
   "metadata": {},
   "outputs": [
    {
     "ename": "NameError",
     "evalue": "name 'qmc' is not defined",
     "output_type": "error",
     "traceback": [
      "\u001b[1;31m---------------------------------------------------------------------------\u001b[0m",
      "\u001b[1;31mNameError\u001b[0m                                 Traceback (most recent call last)",
      "Input \u001b[1;32mIn [1]\u001b[0m, in \u001b[0;36m<cell line: 5>\u001b[1;34m()\u001b[0m\n\u001b[0;32m      3\u001b[0m n_data_per_bc \u001b[38;5;241m=\u001b[39m \u001b[38;5;241m25\u001b[39m\n\u001b[0;32m      4\u001b[0m \u001b[38;5;66;03m#\u001b[39;00m\n\u001b[1;32m----> 5\u001b[0m engine \u001b[38;5;241m=\u001b[39m \u001b[43mqmc\u001b[49m\u001b[38;5;241m.\u001b[39mLatinHypercube(d\u001b[38;5;241m=\u001b[39m\u001b[38;5;241m1\u001b[39m)\n\u001b[0;32m      6\u001b[0m data \u001b[38;5;241m=\u001b[39m np\u001b[38;5;241m.\u001b[39mzeros([\u001b[38;5;241m4\u001b[39m, \u001b[38;5;241m25\u001b[39m, \u001b[38;5;241m3\u001b[39m])\n\u001b[0;32m      8\u001b[0m \u001b[38;5;28;01mfor\u001b[39;00m i, j \u001b[38;5;129;01min\u001b[39;00m \u001b[38;5;28mzip\u001b[39m(\u001b[38;5;28mrange\u001b[39m(n_bc), [\u001b[38;5;241m-\u001b[39m\u001b[38;5;241m1\u001b[39m, \u001b[38;5;241m+\u001b[39m\u001b[38;5;241m1\u001b[39m, \u001b[38;5;241m-\u001b[39m\u001b[38;5;241m1\u001b[39m, \u001b[38;5;241m+\u001b[39m\u001b[38;5;241m1\u001b[39m]):\n",
      "\u001b[1;31mNameError\u001b[0m: name 'qmc' is not defined"
     ]
    }
   ],
   "source": [
    "### data generation\n",
    "n_bc = 4\n",
    "n_data_per_bc = 25\n",
    "#\n",
    "engine = qmc.LatinHypercube(d=1)\n",
    "data = np.zeros([4, 25, 3])\n",
    "\n",
    "for i, j in zip(range(n_bc), [-1, +1, -1, +1]):\n",
    "    points = (engine.random(n=n_data_per_bc)[:, 0] - 0.5) * 2\n",
    "    if i < 2:\n",
    "        data[i, :, 0] = j\n",
    "        data[i, :, 1] = points\n",
    "    else:\n",
    "        data[i, :, 0] = points\n",
    "        data[i, :, 1] = j\n",
    "\n",
    "# BC Values\n",
    "# normalized in [0, 1]\n",
    "\n",
    "data[0, :, 2] = 300/400\n",
    "data[1, :, 2] = 300/400\n",
    "data[2, :, 2] = 1\n",
    "data[3, :, 2] = 273/400\n",
    "\n",
    "data = data.reshape(n_data_per_bc * n_bc, 3)\n",
    "#\n",
    "x_d, y_d, t_d = map(lambda x: np.expand_dims(x, axis=1), \n",
    "                    [data[:, 0], data[:, 1], data[:, 2]])\n",
    "\n",
    "#\n",
    "\n",
    "Nc = 10000\n",
    "engine = qmc.LatinHypercube(d=2)\n",
    "colloc = engine.random(n=Nc)\n",
    "colloc = 2 * (colloc -0.5)\n",
    "#\n",
    "x_c, y_c = map(lambda x: np.expand_dims(x, axis=1), \n",
    "               [colloc[:, 0], colloc[:, 1]])\n",
    "\n",
    "#\n",
    "\n",
    "x_c, y_c, x_d, y_d, t_d =map(lambda x: tf.convert_to_tensor(x,dtype=tf.float64),\n",
    "                             [x_c, y_c, x_d, y_d, t_d])"
   ]
  },
  {
   "cell_type": "code",
   "execution_count": 63,
   "id": "dd8b1a1a",
   "metadata": {},
   "outputs": [],
   "source": [
    "### model builder function\n",
    "def DNN_builder(in_shape=2, out_shape=1, n_hidden_layers=10, \n",
    "                neuron_per_layer=20, actfn=\"tanh\"):\n",
    "    # input layer\n",
    "    input_layer = tf.keras.layers.Input(shape=(in_shape,))\n",
    "    # hidden layers\n",
    "    hidden = [tf.keras.layers.Dense(neuron_per_layer, activation=actfn)(input_layer)]\n",
    "    for i in range(n_hidden_layers-1):\n",
    "        new_layer = tf.keras.layers.Dense(neuron_per_layer,\n",
    "                                          activation=actfn,\n",
    "                                          activity_regularizer=None)(hidden[-1])\n",
    "        hidden.append(new_layer)\n",
    "    # output layer\n",
    "    output_layer = tf.keras.layers.Dense(1, activation=None)(hidden[-1])\n",
    "    # building the model\n",
    "    name = f\"DNN-{n_hidden_layers}\"\n",
    "    model = tf.keras.Model(input_layer, output_layer, name=name)\n",
    "    return model\n"
   ]
  },
  {
   "cell_type": "code",
   "execution_count": 64,
   "id": "1a3c6d6d",
   "metadata": {},
   "outputs": [
    {
     "name": "stdout",
     "output_type": "stream",
     "text": [
      "Model: \"DNN-9\"\n",
      "_________________________________________________________________\n",
      " Layer (type)                Output Shape              Param #   \n",
      "=================================================================\n",
      " input_1 (InputLayer)        [(None, 2)]               0         \n",
      "                                                                 \n",
      " dense (Dense)               (None, 20)                60        \n",
      "                                                                 \n",
      " dense_1 (Dense)             (None, 20)                420       \n",
      "                                                                 \n",
      " dense_2 (Dense)             (None, 20)                420       \n",
      "                                                                 \n",
      " dense_3 (Dense)             (None, 20)                420       \n",
      "                                                                 \n",
      " dense_4 (Dense)             (None, 20)                420       \n",
      "                                                                 \n",
      " dense_5 (Dense)             (None, 20)                420       \n",
      "                                                                 \n",
      " dense_6 (Dense)             (None, 20)                420       \n",
      "                                                                 \n",
      " dense_7 (Dense)             (None, 20)                420       \n",
      "                                                                 \n",
      " dense_8 (Dense)             (None, 20)                420       \n",
      "                                                                 \n",
      " dense_9 (Dense)             (None, 1)                 21        \n",
      "                                                                 \n",
      "=================================================================\n",
      "Total params: 3,441\n",
      "Trainable params: 3,441\n",
      "Non-trainable params: 0\n",
      "_________________________________________________________________\n",
      "You must install pydot (`pip install pydot`) and install graphviz (see instructions at https://graphviz.gitlab.io/download/) for plot_model/model_to_dot to work.\n"
     ]
    }
   ],
   "source": [
    "tf.keras.backend.clear_session()\n",
    "model = DNN_builder(2, 1, 9, 20, \"tanh\")\n",
    "model.summary()\n",
    "tf.keras.utils.plot_model(model, to_file='model_plot.png', show_shapes=True, \n",
    "                          show_layer_names=True, show_dtype=True, \n",
    "                          show_layer_activations=True)"
   ]
  },
  {
   "cell_type": "code",
   "execution_count": 65,
   "id": "86a9fc15",
   "metadata": {},
   "outputs": [],
   "source": [
    "@tf.function\n",
    "def u(x, y):\n",
    "    u = model(tf.concat([x, y], axis=1))\n",
    "    return u"
   ]
  },
  {
   "cell_type": "code",
   "execution_count": 66,
   "id": "1c86ae69",
   "metadata": {},
   "outputs": [],
   "source": [
    "@tf.function\n",
    "def f(x, y):\n",
    "    u0 = u(x, y)\n",
    "    u_x = tf.gradients(u0, x)[0]\n",
    "    u_y = tf.gradients(u0, y)[0]\n",
    "    u_xx = tf.gradients(u_x, x)[0]\n",
    "    u_yy = tf.gradients(u_y, y)[0]\n",
    "    F = u_xx + u_yy\n",
    "    return tf.reduce_mean(tf.square(F))"
   ]
  },
  {
   "cell_type": "code",
   "execution_count": 67,
   "id": "1d49dd66",
   "metadata": {},
   "outputs": [],
   "source": [
    "@tf.function\n",
    "def mse(y, y_):\n",
    "    return tf.reduce_mean(tf.square(y-y_))"
   ]
  },
  {
   "cell_type": "code",
   "execution_count": 75,
   "id": "34e0db0e",
   "metadata": {},
   "outputs": [
    {
     "name": "stdout",
     "output_type": "stream",
     "text": [
      "    0, 0.001\n",
      "  200, 0.001\n",
      "  400, 0.001\n",
      "  600, 0.001\n",
      "  800, 0.001\n",
      " 1000, 0.001\n",
      " 1200, 0.001\n",
      " 1400, 0.001\n",
      " 1600, 0.001\n",
      " 1800, 0.001\n",
      " 2000, 0.001\n",
      " 2199, 0.001\n",
      "\n",
      "computation time: 1054.307\n",
      "\n"
     ]
    },
    {
     "data": {
      "text/plain": [
       "<matplotlib.legend.Legend at 0x1b1b30ca0b0>"
      ]
     },
     "execution_count": 75,
     "metadata": {},
     "output_type": "execute_result"
    },
    {
     "data": {
      "image/png": "[encoded data removed]",
      "text/plain": [
       "<Figure size 432x288 with 1 Axes>"
      ]
     },
     "metadata": {
      "needs_background": "light"
     },
     "output_type": "display_data"
    }
   ],
   "source": [
    "loss = 0\n",
    "epochs = 2200\n",
    "opt = tf.keras.optimizers.Adam(learning_rate=5e-4)\n",
    "epoch = 0\n",
    "loss_values = np.array([])\n",
    "#\n",
    "start = time.time()\n",
    "#\n",
    "for epoch in range(epochs):\n",
    "    with tf.GradientTape() as tape:\n",
    "        T_ = u(x_d, y_d)\n",
    "        L = f(x_c, y_c)\n",
    "        l = mse(t_d, T_)\n",
    "        loss = l+L\n",
    "    g = tape.gradient(loss, model.trainable_weights)\n",
    "    opt.apply_gradients(zip(g, model.trainable_weights))\n",
    "    loss_values = np.append(loss_values, loss)\n",
    "    if epoch % 200 == 0 or epoch == epochs-1:\n",
    "        print(f\"{epoch:5}, {loss.numpy():.3f}\")\n",
    "\n",
    "#\n",
    "end = time.time()\n",
    "computation_time = {}\n",
    "computation_time[\"pinn\"] = end - start\n",
    "print(f\"\\ncomputation time: {end-start:.3f}\\n\")\n",
    "#\n",
    "plt.semilogy(loss_values, label=model.name)\n",
    "plt.legend()"
   ]
  },
  {
   "cell_type": "code",
   "execution_count": 1,
   "id": "1cdb0444",
   "metadata": {},
   "outputs": [
    {
     "ename": "NameError",
     "evalue": "name 'np' is not defined",
     "output_type": "error",
     "traceback": [
      "\u001b[1;31m---------------------------------------------------------------------------\u001b[0m",
      "\u001b[1;31mNameError\u001b[0m                                 Traceback (most recent call last)",
      "Input \u001b[1;32mIn [1]\u001b[0m, in \u001b[0;36m<cell line: 4>\u001b[1;34m()\u001b[0m\n\u001b[0;32m      2\u001b[0m l \u001b[38;5;241m=\u001b[39m \u001b[38;5;241m1.\u001b[39m\n\u001b[0;32m      3\u001b[0m r \u001b[38;5;241m=\u001b[39m \u001b[38;5;241m2\u001b[39m\u001b[38;5;241m*\u001b[39ml\u001b[38;5;241m/\u001b[39m(n\u001b[38;5;241m+\u001b[39m\u001b[38;5;241m1\u001b[39m)\n\u001b[1;32m----> 4\u001b[0m T \u001b[38;5;241m=\u001b[39m \u001b[43mnp\u001b[49m\u001b[38;5;241m.\u001b[39mzeros([n\u001b[38;5;241m*\u001b[39mn, n\u001b[38;5;241m*\u001b[39mn])\n\u001b[0;32m      6\u001b[0m bc \u001b[38;5;241m=\u001b[39m {\n\u001b[0;32m      7\u001b[0m     \u001b[38;5;124m\"\u001b[39m\u001b[38;5;124mx=-l\u001b[39m\u001b[38;5;124m\"\u001b[39m: \u001b[38;5;241m300.\u001b[39m,\n\u001b[0;32m      8\u001b[0m     \u001b[38;5;124m\"\u001b[39m\u001b[38;5;124mx=+l\u001b[39m\u001b[38;5;124m\"\u001b[39m: \u001b[38;5;241m300.\u001b[39m,\n\u001b[0;32m      9\u001b[0m     \u001b[38;5;124m\"\u001b[39m\u001b[38;5;124my=-l\u001b[39m\u001b[38;5;124m\"\u001b[39m: \u001b[38;5;241m374.\u001b[39m,\n\u001b[0;32m     10\u001b[0m     \u001b[38;5;124m\"\u001b[39m\u001b[38;5;124my=+l\u001b[39m\u001b[38;5;124m\"\u001b[39m: \u001b[38;5;241m400.\u001b[39m\n\u001b[0;32m     11\u001b[0m }\n\u001b[0;32m     12\u001b[0m X \u001b[38;5;241m=\u001b[39m np\u001b[38;5;241m.\u001b[39mlinspace(\u001b[38;5;241m-\u001b[39m\u001b[38;5;241m1\u001b[39m, \u001b[38;5;241m+\u001b[39m\u001b[38;5;241m1\u001b[39m, n)\n",
      "\u001b[1;31mNameError\u001b[0m: name 'np' is not defined"
     ]
    }
   ],
   "source": [
    "n = 100\n",
    "l = 1.\n",
    "r = 2*l/(n+1)\n",
    "T = np.zeros([n*n, n*n])\n",
    "\n",
    "bc = {\n",
    "    \"x=-l\": 300.,\n",
    "    \"x=+l\": 300.,\n",
    "    \"y=-l\": 374.,\n",
    "    \"y=+l\": 400.\n",
    "}\n",
    "X = np.linspace(-1, +1, n)\n",
    "Y = np.linspace(-1, +1, n)\n",
    "X0, Y0 = np.meshgrid(X, Y)\n",
    "X = X0.reshape([n*n, 1])\n",
    "Y = Y0.reshape([n*n, 1])\n",
    "X_T = tf.convert_to_tensor(X)\n",
    "Y_T = tf.convert_to_tensor(Y)\n",
    "S = u(X_T, Y_T)\n",
    "S = S.numpy().reshape(n, n)\n",
    "plt.figure(\"\", figsize=(12, 6))\n",
    "plt.subplot(221)\n",
    "plt.pcolormesh(X0, Y0, 400.*S, cmap=\"magma\")\n",
    "plt.colorbar()\n",
    "plt.xlabel(\"x\")\n",
    "plt.ylabel(\"y\")\n",
    "plt.title(\"PINN\")\n",
    "plt.tight_layout()\n",
    "plt.axis(\"square\")\n",
    "plt.show()\n"
   ]
  },
  {
   "cell_type": "code",
   "execution_count": null,
   "id": "885001bf",
   "metadata": {},
   "outputs": [],
   "source": []
  }
 ],
 "metadata": {
  "kernelspec": {
   "display_name": "Python 3 (ipykernel)",
   "language": "python",
   "name": "python3"
  },
  "language_info": {
   "codemirror_mode": {
    "name": "ipython",
    "version": 3
   },
   "file_extension": ".py",
   "mimetype": "text/x-python",
   "name": "python",
   "nbconvert_exporter": "python",
   "pygments_lexer": "ipython3",
   "version": "3.10.4"
  }
 },
 "nbformat": 4,
 "nbformat_minor": 5
}
