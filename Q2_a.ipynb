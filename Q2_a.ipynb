{
 "cells": [
  {
   "cell_type": "markdown",
   "id": "058e7dc4",
   "metadata": {},
   "source": [
    "## Javad Ranjbar Kermani\n",
    "## 400209795\n",
    "## Question 2 part a\n",
    "## SVM (support vector method)#\n",
    "## Imbalanced data"
   ]
  },
  {
   "cell_type": "code",
   "execution_count": 14,
   "id": "8afc10b8",
   "metadata": {},
   "outputs": [],
   "source": [
    "# import libreries\n",
    "import numpy as np\n",
    "import pandas as pd\n",
    "import matplotlib.pyplot as plt"
   ]
  },
  {
   "cell_type": "code",
   "execution_count": 15,
   "id": "17b66fc2",
   "metadata": {},
   "outputs": [
    {
     "data": {
      "text/html": [
       "<div>\n",
       "<style scoped>\n",
       "    .dataframe tbody tr th:only-of-type {\n",
       "        vertical-align: middle;\n",
       "    }\n",
       "\n",
       "    .dataframe tbody tr th {\n",
       "        vertical-align: top;\n",
       "    }\n",
       "\n",
       "    .dataframe thead th {\n",
       "        text-align: right;\n",
       "    }\n",
       "</style>\n",
       "<table border=\"1\" class=\"dataframe\">\n",
       "  <thead>\n",
       "    <tr style=\"text-align: right;\">\n",
       "      <th></th>\n",
       "      <th>Time</th>\n",
       "      <th>V1</th>\n",
       "      <th>V2</th>\n",
       "      <th>V3</th>\n",
       "      <th>V4</th>\n",
       "      <th>V5</th>\n",
       "      <th>V6</th>\n",
       "      <th>V7</th>\n",
       "      <th>V8</th>\n",
       "      <th>V9</th>\n",
       "      <th>...</th>\n",
       "      <th>V21</th>\n",
       "      <th>V22</th>\n",
       "      <th>V23</th>\n",
       "      <th>V24</th>\n",
       "      <th>V25</th>\n",
       "      <th>V26</th>\n",
       "      <th>V27</th>\n",
       "      <th>V28</th>\n",
       "      <th>Amount</th>\n",
       "      <th>Class</th>\n",
       "    </tr>\n",
       "  </thead>\n",
       "  <tbody>\n",
       "    <tr>\n",
       "      <th>0</th>\n",
       "      <td>0.0</td>\n",
       "      <td>-1.359807</td>\n",
       "      <td>-0.072781</td>\n",
       "      <td>2.536347</td>\n",
       "      <td>1.378155</td>\n",
       "      <td>-0.338321</td>\n",
       "      <td>0.462388</td>\n",
       "      <td>0.239599</td>\n",
       "      <td>0.098698</td>\n",
       "      <td>0.363787</td>\n",
       "      <td>...</td>\n",
       "      <td>-0.018307</td>\n",
       "      <td>0.277838</td>\n",
       "      <td>-0.110474</td>\n",
       "      <td>0.066928</td>\n",
       "      <td>0.128539</td>\n",
       "      <td>-0.189115</td>\n",
       "      <td>0.133558</td>\n",
       "      <td>-0.021053</td>\n",
       "      <td>149.62</td>\n",
       "      <td>0</td>\n",
       "    </tr>\n",
       "    <tr>\n",
       "      <th>1</th>\n",
       "      <td>0.0</td>\n",
       "      <td>1.191857</td>\n",
       "      <td>0.266151</td>\n",
       "      <td>0.166480</td>\n",
       "      <td>0.448154</td>\n",
       "      <td>0.060018</td>\n",
       "      <td>-0.082361</td>\n",
       "      <td>-0.078803</td>\n",
       "      <td>0.085102</td>\n",
       "      <td>-0.255425</td>\n",
       "      <td>...</td>\n",
       "      <td>-0.225775</td>\n",
       "      <td>-0.638672</td>\n",
       "      <td>0.101288</td>\n",
       "      <td>-0.339846</td>\n",
       "      <td>0.167170</td>\n",
       "      <td>0.125895</td>\n",
       "      <td>-0.008983</td>\n",
       "      <td>0.014724</td>\n",
       "      <td>2.69</td>\n",
       "      <td>0</td>\n",
       "    </tr>\n",
       "    <tr>\n",
       "      <th>2</th>\n",
       "      <td>1.0</td>\n",
       "      <td>-1.358354</td>\n",
       "      <td>-1.340163</td>\n",
       "      <td>1.773209</td>\n",
       "      <td>0.379780</td>\n",
       "      <td>-0.503198</td>\n",
       "      <td>1.800499</td>\n",
       "      <td>0.791461</td>\n",
       "      <td>0.247676</td>\n",
       "      <td>-1.514654</td>\n",
       "      <td>...</td>\n",
       "      <td>0.247998</td>\n",
       "      <td>0.771679</td>\n",
       "      <td>0.909412</td>\n",
       "      <td>-0.689281</td>\n",
       "      <td>-0.327642</td>\n",
       "      <td>-0.139097</td>\n",
       "      <td>-0.055353</td>\n",
       "      <td>-0.059752</td>\n",
       "      <td>378.66</td>\n",
       "      <td>0</td>\n",
       "    </tr>\n",
       "    <tr>\n",
       "      <th>3</th>\n",
       "      <td>1.0</td>\n",
       "      <td>-0.966272</td>\n",
       "      <td>-0.185226</td>\n",
       "      <td>1.792993</td>\n",
       "      <td>-0.863291</td>\n",
       "      <td>-0.010309</td>\n",
       "      <td>1.247203</td>\n",
       "      <td>0.237609</td>\n",
       "      <td>0.377436</td>\n",
       "      <td>-1.387024</td>\n",
       "      <td>...</td>\n",
       "      <td>-0.108300</td>\n",
       "      <td>0.005274</td>\n",
       "      <td>-0.190321</td>\n",
       "      <td>-1.175575</td>\n",
       "      <td>0.647376</td>\n",
       "      <td>-0.221929</td>\n",
       "      <td>0.062723</td>\n",
       "      <td>0.061458</td>\n",
       "      <td>123.50</td>\n",
       "      <td>0</td>\n",
       "    </tr>\n",
       "    <tr>\n",
       "      <th>4</th>\n",
       "      <td>2.0</td>\n",
       "      <td>-1.158233</td>\n",
       "      <td>0.877737</td>\n",
       "      <td>1.548718</td>\n",
       "      <td>0.403034</td>\n",
       "      <td>-0.407193</td>\n",
       "      <td>0.095921</td>\n",
       "      <td>0.592941</td>\n",
       "      <td>-0.270533</td>\n",
       "      <td>0.817739</td>\n",
       "      <td>...</td>\n",
       "      <td>-0.009431</td>\n",
       "      <td>0.798278</td>\n",
       "      <td>-0.137458</td>\n",
       "      <td>0.141267</td>\n",
       "      <td>-0.206010</td>\n",
       "      <td>0.502292</td>\n",
       "      <td>0.219422</td>\n",
       "      <td>0.215153</td>\n",
       "      <td>69.99</td>\n",
       "      <td>0</td>\n",
       "    </tr>\n",
       "  </tbody>\n",
       "</table>\n",
       "<p>5 rows × 31 columns</p>\n",
       "</div>"
      ],
      "text/plain": [
       "   Time        V1        V2        V3        V4        V5        V6        V7  \\\n",
       "0   0.0 -1.359807 -0.072781  2.536347  1.378155 -0.338321  0.462388  0.239599   \n",
       "1   0.0  1.191857  0.266151  0.166480  0.448154  0.060018 -0.082361 -0.078803   \n",
       "2   1.0 -1.358354 -1.340163  1.773209  0.379780 -0.503198  1.800499  0.791461   \n",
       "3   1.0 -0.966272 -0.185226  1.792993 -0.863291 -0.010309  1.247203  0.237609   \n",
       "4   2.0 -1.158233  0.877737  1.548718  0.403034 -0.407193  0.095921  0.592941   \n",
       "\n",
       "         V8        V9  ...       V21       V22       V23       V24       V25  \\\n",
       "0  0.098698  0.363787  ... -0.018307  0.277838 -0.110474  0.066928  0.128539   \n",
       "1  0.085102 -0.255425  ... -0.225775 -0.638672  0.101288 -0.339846  0.167170   \n",
       "2  0.247676 -1.514654  ...  0.247998  0.771679  0.909412 -0.689281 -0.327642   \n",
       "3  0.377436 -1.387024  ... -0.108300  0.005274 -0.190321 -1.175575  0.647376   \n",
       "4 -0.270533  0.817739  ... -0.009431  0.798278 -0.137458  0.141267 -0.206010   \n",
       "\n",
       "        V26       V27       V28  Amount  Class  \n",
       "0 -0.189115  0.133558 -0.021053  149.62      0  \n",
       "1  0.125895 -0.008983  0.014724    2.69      0  \n",
       "2 -0.139097 -0.055353 -0.059752  378.66      0  \n",
       "3 -0.221929  0.062723  0.061458  123.50      0  \n",
       "4  0.502292  0.219422  0.215153   69.99      0  \n",
       "\n",
       "[5 rows x 31 columns]"
      ]
     },
     "execution_count": 15,
     "metadata": {},
     "output_type": "execute_result"
    }
   ],
   "source": [
    "df = pd.read_csv('factory products situation.csv')\n",
    "df.head()"
   ]
  },
  {
   "cell_type": "code",
   "execution_count": 16,
   "id": "86daaa1a",
   "metadata": {},
   "outputs": [],
   "source": [
    "values=df.values\n",
    "feature_names=df.columns"
   ]
  },
  {
   "cell_type": "code",
   "execution_count": 17,
   "id": "0fd7f65f",
   "metadata": {},
   "outputs": [
    {
     "name": "stdout",
     "output_type": "stream",
     "text": [
      "(284807, 30)\n",
      "(284807,)\n"
     ]
    }
   ],
   "source": [
    "target =np.where(feature_names =='Class')\n",
    "tags=values[:,target].reshape((values.shape[0],)) # labels\n",
    "features=values[:,0:-1]# features\n",
    "print(features.shape)\n",
    "print(tags.shape)"
   ]
  },
  {
   "cell_type": "code",
   "execution_count": 18,
   "id": "f38da9e3",
   "metadata": {},
   "outputs": [
    {
     "name": "stdout",
     "output_type": "stream",
     "text": [
      "number of class 0 : 284315\n",
      "number of class 1 : 492\n"
     ]
    },
    {
     "data": {
      "image/png": "[encoded data removed]",
      "text/plain": [
       "<Figure size 640x480 with 1 Axes>"
      ]
     },
     "metadata": {},
     "output_type": "display_data"
    }
   ],
   "source": [
    "# plotting numer of class 0 and 1\n",
    "class0_number=np.size(tags[tags==0])\n",
    "class1_number=np.size(tags[tags==1])\n",
    "print ('number of class 0 :', class0_number)\n",
    "print ('number of class 1 :', class1_number)\n",
    "# plotting number of data in two different label\n",
    "a=['class 0','class 1']\n",
    "plot = plt.bar(a,[class0_number,class1_number],width=0.2 , color='m')\n",
    "for value in plot:\n",
    "    height = value.get_height()\n",
    "    plt.text(value.get_x() + value.get_width()/2.,height,str(height), ha='center', va='bottom')"
   ]
  },
  {
   "cell_type": "code",
   "execution_count": 19,
   "id": "3f7491dd",
   "metadata": {},
   "outputs": [
    {
     "data": {
      "text/html": [
       "<div>\n",
       "<style scoped>\n",
       "    .dataframe tbody tr th:only-of-type {\n",
       "        vertical-align: middle;\n",
       "    }\n",
       "\n",
       "    .dataframe tbody tr th {\n",
       "        vertical-align: top;\n",
       "    }\n",
       "\n",
       "    .dataframe thead th {\n",
       "        text-align: right;\n",
       "    }\n",
       "</style>\n",
       "<table border=\"1\" class=\"dataframe\">\n",
       "  <thead>\n",
       "    <tr style=\"text-align: right;\">\n",
       "      <th></th>\n",
       "      <th>Time</th>\n",
       "      <th>V1</th>\n",
       "      <th>V2</th>\n",
       "      <th>V3</th>\n",
       "      <th>V4</th>\n",
       "      <th>V5</th>\n",
       "      <th>V6</th>\n",
       "      <th>V7</th>\n",
       "      <th>V8</th>\n",
       "      <th>V9</th>\n",
       "      <th>...</th>\n",
       "      <th>V21</th>\n",
       "      <th>V22</th>\n",
       "      <th>V23</th>\n",
       "      <th>V24</th>\n",
       "      <th>V25</th>\n",
       "      <th>V26</th>\n",
       "      <th>V27</th>\n",
       "      <th>V28</th>\n",
       "      <th>Amount</th>\n",
       "      <th>Class</th>\n",
       "    </tr>\n",
       "  </thead>\n",
       "  <tbody>\n",
       "    <tr>\n",
       "      <th>105497</th>\n",
       "      <td>69553.0</td>\n",
       "      <td>0.727199</td>\n",
       "      <td>-0.889573</td>\n",
       "      <td>1.052514</td>\n",
       "      <td>0.977337</td>\n",
       "      <td>-1.484970</td>\n",
       "      <td>-0.523723</td>\n",
       "      <td>-0.316659</td>\n",
       "      <td>-0.042922</td>\n",
       "      <td>0.785632</td>\n",
       "      <td>...</td>\n",
       "      <td>0.254813</td>\n",
       "      <td>0.366848</td>\n",
       "      <td>-0.217182</td>\n",
       "      <td>0.785008</td>\n",
       "      <td>0.198980</td>\n",
       "      <td>0.528052</td>\n",
       "      <td>-0.038275</td>\n",
       "      <td>0.067300</td>\n",
       "      <td>240.00</td>\n",
       "      <td>0</td>\n",
       "    </tr>\n",
       "    <tr>\n",
       "      <th>8094</th>\n",
       "      <td>11018.0</td>\n",
       "      <td>-1.505727</td>\n",
       "      <td>0.939956</td>\n",
       "      <td>1.466964</td>\n",
       "      <td>2.916480</td>\n",
       "      <td>0.845103</td>\n",
       "      <td>0.825686</td>\n",
       "      <td>1.834700</td>\n",
       "      <td>-1.232261</td>\n",
       "      <td>1.371772</td>\n",
       "      <td>...</td>\n",
       "      <td>-0.678438</td>\n",
       "      <td>-0.022445</td>\n",
       "      <td>0.005623</td>\n",
       "      <td>-0.457479</td>\n",
       "      <td>0.018187</td>\n",
       "      <td>0.083781</td>\n",
       "      <td>-0.541792</td>\n",
       "      <td>-0.252865</td>\n",
       "      <td>121.42</td>\n",
       "      <td>0</td>\n",
       "    </tr>\n",
       "    <tr>\n",
       "      <th>19973</th>\n",
       "      <td>30691.0</td>\n",
       "      <td>-0.271129</td>\n",
       "      <td>0.726536</td>\n",
       "      <td>1.102154</td>\n",
       "      <td>1.223023</td>\n",
       "      <td>0.187399</td>\n",
       "      <td>0.290764</td>\n",
       "      <td>0.518745</td>\n",
       "      <td>0.174211</td>\n",
       "      <td>-0.168161</td>\n",
       "      <td>...</td>\n",
       "      <td>-0.142642</td>\n",
       "      <td>-0.250575</td>\n",
       "      <td>0.071820</td>\n",
       "      <td>-0.465895</td>\n",
       "      <td>-0.121334</td>\n",
       "      <td>-0.341850</td>\n",
       "      <td>0.325101</td>\n",
       "      <td>0.096659</td>\n",
       "      <td>55.19</td>\n",
       "      <td>0</td>\n",
       "    </tr>\n",
       "    <tr>\n",
       "      <th>268445</th>\n",
       "      <td>163214.0</td>\n",
       "      <td>-2.091522</td>\n",
       "      <td>2.035044</td>\n",
       "      <td>-0.141015</td>\n",
       "      <td>-0.885393</td>\n",
       "      <td>-1.300842</td>\n",
       "      <td>-0.539869</td>\n",
       "      <td>-1.074108</td>\n",
       "      <td>1.660188</td>\n",
       "      <td>0.004978</td>\n",
       "      <td>...</td>\n",
       "      <td>0.068553</td>\n",
       "      <td>-0.371810</td>\n",
       "      <td>0.276925</td>\n",
       "      <td>1.073274</td>\n",
       "      <td>-0.133032</td>\n",
       "      <td>-0.353837</td>\n",
       "      <td>-0.778793</td>\n",
       "      <td>-0.162042</td>\n",
       "      <td>0.77</td>\n",
       "      <td>0</td>\n",
       "    </tr>\n",
       "    <tr>\n",
       "      <th>208151</th>\n",
       "      <td>136995.0</td>\n",
       "      <td>-0.245984</td>\n",
       "      <td>0.963778</td>\n",
       "      <td>-0.723495</td>\n",
       "      <td>-0.951744</td>\n",
       "      <td>0.429541</td>\n",
       "      <td>-0.824693</td>\n",
       "      <td>0.807766</td>\n",
       "      <td>0.282250</td>\n",
       "      <td>0.047345</td>\n",
       "      <td>...</td>\n",
       "      <td>-0.111276</td>\n",
       "      <td>-0.360724</td>\n",
       "      <td>0.042098</td>\n",
       "      <td>0.551980</td>\n",
       "      <td>0.113310</td>\n",
       "      <td>-0.132510</td>\n",
       "      <td>0.056343</td>\n",
       "      <td>-0.037475</td>\n",
       "      <td>32.67</td>\n",
       "      <td>0</td>\n",
       "    </tr>\n",
       "  </tbody>\n",
       "</table>\n",
       "<p>5 rows × 31 columns</p>\n",
       "</div>"
      ],
      "text/plain": [
       "            Time        V1        V2        V3        V4        V5        V6  \\\n",
       "105497   69553.0  0.727199 -0.889573  1.052514  0.977337 -1.484970 -0.523723   \n",
       "8094     11018.0 -1.505727  0.939956  1.466964  2.916480  0.845103  0.825686   \n",
       "19973    30691.0 -0.271129  0.726536  1.102154  1.223023  0.187399  0.290764   \n",
       "268445  163214.0 -2.091522  2.035044 -0.141015 -0.885393 -1.300842 -0.539869   \n",
       "208151  136995.0 -0.245984  0.963778 -0.723495 -0.951744  0.429541 -0.824693   \n",
       "\n",
       "              V7        V8        V9  ...       V21       V22       V23  \\\n",
       "105497 -0.316659 -0.042922  0.785632  ...  0.254813  0.366848 -0.217182   \n",
       "8094    1.834700 -1.232261  1.371772  ... -0.678438 -0.022445  0.005623   \n",
       "19973   0.518745  0.174211 -0.168161  ... -0.142642 -0.250575  0.071820   \n",
       "268445 -1.074108  1.660188  0.004978  ...  0.068553 -0.371810  0.276925   \n",
       "208151  0.807766  0.282250  0.047345  ... -0.111276 -0.360724  0.042098   \n",
       "\n",
       "             V24       V25       V26       V27       V28  Amount  Class  \n",
       "105497  0.785008  0.198980  0.528052 -0.038275  0.067300  240.00      0  \n",
       "8094   -0.457479  0.018187  0.083781 -0.541792 -0.252865  121.42      0  \n",
       "19973  -0.465895 -0.121334 -0.341850  0.325101  0.096659   55.19      0  \n",
       "268445  1.073274 -0.133032 -0.353837 -0.778793 -0.162042    0.77      0  \n",
       "208151  0.551980  0.113310 -0.132510  0.056343 -0.037475   32.67      0  \n",
       "\n",
       "[5 rows x 31 columns]"
      ]
     },
     "execution_count": 19,
     "metadata": {},
     "output_type": "execute_result"
    }
   ],
   "source": [
    "# shuffling data\n",
    "shuffled = df.sample(frac=1)\n",
    "shuffled.head()"
   ]
  },
  {
   "cell_type": "code",
   "execution_count": 20,
   "id": "f1b62688",
   "metadata": {},
   "outputs": [
    {
     "name": "stdout",
     "output_type": "stream",
     "text": [
      "(284807, 5)\n",
      "(284807,)\n"
     ]
    }
   ],
   "source": [
    "x_shuffled = shuffled.iloc[:,1:6] # 5 first features of shuffled data\n",
    "y_shuffled = shuffled.iloc[:,-1] # labels of shuffled data\n",
    "print(x_shuffled.shape)\n",
    "print(y_shuffled.shape)"
   ]
  },
  {
   "cell_type": "code",
   "execution_count": 21,
   "id": "78f6db75",
   "metadata": {},
   "outputs": [],
   "source": [
    "#split the dataset into train and test\n",
    "from sklearn.model_selection import train_test_split\n",
    "x_train, x_test, y_train, y_test = train_test_split(x_shuffled, y_shuffled, test_size = 0.2, random_state = 42)"
   ]
  },
  {
   "cell_type": "markdown",
   "id": "802e8593",
   "metadata": {},
   "source": [
    "## SVM Method"
   ]
  },
  {
   "cell_type": "markdown",
   "id": "afbe8024",
   "metadata": {},
   "source": [
    "### Linear kernel"
   ]
  },
  {
   "cell_type": "code",
   "execution_count": 22,
   "id": "1e090b32",
   "metadata": {},
   "outputs": [
    {
     "data": {
      "text/plain": [
       "SVC(kernel='linear')"
      ]
     },
     "execution_count": 22,
     "metadata": {},
     "output_type": "execute_result"
    }
   ],
   "source": [
    "from sklearn.svm import SVC\n",
    "svm_linear_model = SVC(kernel='linear')\n",
    "svm_linear_model.fit(x_train,y_train)"
   ]
  },
  {
   "cell_type": "code",
   "execution_count": 63,
   "id": "7df10d3b",
   "metadata": {},
   "outputs": [
    {
     "name": "stdout",
     "output_type": "stream",
     "text": [
      "precision score = 0.88 \n",
      "\n",
      "accuracy score = 0.9984726659878516 \n",
      "\n",
      "f1 score = 0.3358778625954198 \n",
      "\n",
      "recall score = 0.20754716981132076 \n",
      "\n"
     ]
    }
   ],
   "source": [
    "from sklearn.metrics import precision_score, f1_score, accuracy_score, recall_score\n",
    "y_pred_linear = svm_linear_model.predict(x_test)\n",
    "print('precision score =', precision_score(y_test, y_pred_linear), '\\n')\n",
    "print('accuracy score =', accuracy_score(y_test, y_pred_linear), '\\n')\n",
    "print('f1 score =', f1_score(y_test, y_pred_linear), '\\n')\n",
    "print('recall score =', recall_score(y_test, y_pred_linear), '\\n')"
   ]
  },
  {
   "cell_type": "markdown",
   "id": "700c1815",
   "metadata": {},
   "source": [
    "### Poly kernel"
   ]
  },
  {
   "cell_type": "code",
   "execution_count": 9,
   "id": "63cd76b9",
   "metadata": {},
   "outputs": [
    {
     "data": {
      "text/plain": [
       "SVC(degree=2, kernel='poly')"
      ]
     },
     "execution_count": 9,
     "metadata": {},
     "output_type": "execute_result"
    }
   ],
   "source": [
    "from sklearn.svm import SVC\n",
    "svm_poly2_model = SVC(kernel='poly', degree = 2) #poly degree 2\n",
    "svm_poly2_model.fit(x_train,y_train)"
   ]
  },
  {
   "cell_type": "code",
   "execution_count": 10,
   "id": "3b188c0b",
   "metadata": {},
   "outputs": [
    {
     "name": "stdout",
     "output_type": "stream",
     "text": [
      "poly degree2 : \n",
      "\n",
      "precision score = 0.90625\n",
      "accuracy score = 0.9987008883115059\n",
      "f1 score = 0.4393939393939394\n",
      "recall score = 0.29\n"
     ]
    }
   ],
   "source": [
    "from sklearn.metrics import precision_score, f1_score, accuracy_score, recall_score\n",
    "y_pred_poly2 = svm_poly2_model.predict(x_test)\n",
    "print('poly degree2 : \\n')\n",
    "print('precision score =', precision_score(y_test, y_pred_poly2))\n",
    "print('accuracy score =', accuracy_score(y_test, y_pred_poly2))\n",
    "print('f1 score =', f1_score(y_test, y_pred_poly2))\n",
    "print('recall score =', recall_score(y_test, y_pred_poly2))"
   ]
  },
  {
   "cell_type": "code",
   "execution_count": 12,
   "id": "3fb05b1b",
   "metadata": {},
   "outputs": [
    {
     "data": {
      "text/plain": [
       "SVC(kernel='poly')"
      ]
     },
     "execution_count": 12,
     "metadata": {},
     "output_type": "execute_result"
    }
   ],
   "source": [
    "from sklearn.svm import SVC\n",
    "svm_poly3_model = SVC(kernel='poly', degree = 3) #poly degree 3\n",
    "svm_poly3_model.fit(x_train,y_train)"
   ]
  },
  {
   "cell_type": "code",
   "execution_count": 13,
   "id": "522036da",
   "metadata": {},
   "outputs": [
    {
     "name": "stdout",
     "output_type": "stream",
     "text": [
      "poly degree3 : \n",
      "\n",
      "precision score = 0.8125\n",
      "accuracy score = 0.9988413328183702\n",
      "f1 score = 0.5416666666666666\n",
      "recall score = 0.40625\n"
     ]
    }
   ],
   "source": [
    "from sklearn.metrics import precision_score, f1_score, accuracy_score, recall_score\n",
    "y_pred_poly3 = svm_poly3_model.predict(x_test)\n",
    "print('poly degree3 : \\n')\n",
    "print('precision score =', precision_score(y_test, y_pred_poly3))\n",
    "print('accuracy score =', accuracy_score(y_test, y_pred_poly3))\n",
    "print('f1 score =', f1_score(y_test, y_pred_poly3))\n",
    "print('recall score =', recall_score(y_test, y_pred_poly3))"
   ]
  },
  {
   "cell_type": "markdown",
   "id": "1e167078",
   "metadata": {},
   "source": [
    "### rbf kernel"
   ]
  },
  {
   "cell_type": "code",
   "execution_count": null,
   "id": "a2205d66",
   "metadata": {},
   "outputs": [],
   "source": [
    "from sklearn.svm import SVC\n",
    "svm_rbf_model = SVC(kernel='rbf', gamma = 'scale')\n",
    "svm_rbf_model.fit(x_train,y_train)"
   ]
  },
  {
   "cell_type": "code",
   "execution_count": 12,
   "id": "c166b780",
   "metadata": {},
   "outputs": [
    {
     "name": "stdout",
     "output_type": "stream",
     "text": [
      "precision score = 0.8909090909090909 \n",
      "\n",
      "accuracy score = 0.9989993328885924 \n",
      "\n",
      "f1 score = 0.632258064516129 \n",
      "\n",
      "recall score = 0.49 \n",
      "\n"
     ]
    }
   ],
   "source": [
    "from sklearn.metrics import precision_score, f1_score, accuracy_score, recall_score\n",
    "y_pred_rbf = svm_rbf_model.predict(x_test)\n",
    "print('precision score =', precision_score(y_test, y_pred_rbf), '\\n')\n",
    "print('accuracy score =', accuracy_score(y_test, y_pred_rbf), '\\n')\n",
    "print('f1 score =', f1_score(y_test, y_pred_rbf), '\\n')\n",
    "print('recall score =', recall_score(y_test, y_pred_rbf), '\\n')"
   ]
  },
  {
   "cell_type": "markdown",
   "id": "bbc042be",
   "metadata": {},
   "source": [
    "### Sigmoid kernel"
   ]
  },
  {
   "cell_type": "code",
   "execution_count": 10,
   "id": "46c0b318",
   "metadata": {},
   "outputs": [
    {
     "data": {
      "text/plain": [
       "SVC(kernel='sigmoid')"
      ]
     },
     "execution_count": 10,
     "metadata": {},
     "output_type": "execute_result"
    }
   ],
   "source": [
    "from sklearn.svm import SVC\n",
    "svm_sigmoid_model = SVC(kernel='sigmoid')\n",
    "svm_sigmoid_model.fit(x_train,y_train)"
   ]
  },
  {
   "cell_type": "code",
   "execution_count": 11,
   "id": "188c7ef5",
   "metadata": {},
   "outputs": [
    {
     "name": "stdout",
     "output_type": "stream",
     "text": [
      "precision score = 0.011111111111111112 \n",
      "\n",
      "accuracy score = 0.9967697763421228 \n",
      "\n",
      "f1 score = 0.010752688172043012 \n",
      "\n",
      "recall score = 0.010416666666666666 \n",
      "\n"
     ]
    }
   ],
   "source": [
    "from sklearn.metrics import precision_score, f1_score, accuracy_score, recall_score\n",
    "y_pred_sigmoid = svm_sigmoid_model.predict(x_test)\n",
    "print('precision score =', precision_score(y_test, y_pred_sigmoid), '\\n')\n",
    "print('accuracy score =', accuracy_score(y_test, y_pred_sigmoid), '\\n')\n",
    "print('f1 score =', f1_score(y_test, y_pred_sigmoid), '\\n')\n",
    "print('recall score =', recall_score(y_test, y_pred_sigmoid), '\\n')"
   ]
  }
 ],
 "metadata": {
  "kernelspec": {
   "display_name": "Python 3 (ipykernel)",
   "language": "python",
   "name": "python3"
  },
  "language_info": {
   "codemirror_mode": {
    "name": "ipython",
    "version": 3
   },
   "file_extension": ".py",
   "mimetype": "text/x-python",
   "name": "python",
   "nbconvert_exporter": "python",
   "pygments_lexer": "ipython3",
   "version": "3.9.13"
  }
 },
 "nbformat": 4,
 "nbformat_minor": 5
}
