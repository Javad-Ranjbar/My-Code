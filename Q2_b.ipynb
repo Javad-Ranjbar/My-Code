{
 "cells": [
  {
   "cell_type": "markdown",
   "id": "4de10868",
   "metadata": {},
   "source": [
    "## Javad Ranjbar Kermani\n",
    "## 400209795\n",
    "## Question 2 part b\n",
    "## SVM (support vector method)#\n",
    "## balanced data"
   ]
  },
  {
   "cell_type": "code",
   "execution_count": 33,
   "id": "0735d936",
   "metadata": {},
   "outputs": [],
   "source": [
    "# import libreries\n",
    "import numpy as np\n",
    "import pandas as pd\n",
    "import matplotlib.pyplot as plt"
   ]
  },
  {
   "cell_type": "code",
   "execution_count": 34,
   "id": "bb578c6a",
   "metadata": {},
   "outputs": [
    {
     "data": {
      "text/html": [
       "<div>\n",
       "<style scoped>\n",
       "    .dataframe tbody tr th:only-of-type {\n",
       "        vertical-align: middle;\n",
       "    }\n",
       "\n",
       "    .dataframe tbody tr th {\n",
       "        vertical-align: top;\n",
       "    }\n",
       "\n",
       "    .dataframe thead th {\n",
       "        text-align: right;\n",
       "    }\n",
       "</style>\n",
       "<table border=\"1\" class=\"dataframe\">\n",
       "  <thead>\n",
       "    <tr style=\"text-align: right;\">\n",
       "      <th></th>\n",
       "      <th>Time</th>\n",
       "      <th>V1</th>\n",
       "      <th>V2</th>\n",
       "      <th>V3</th>\n",
       "      <th>V4</th>\n",
       "      <th>V5</th>\n",
       "      <th>V6</th>\n",
       "      <th>V7</th>\n",
       "      <th>V8</th>\n",
       "      <th>V9</th>\n",
       "      <th>...</th>\n",
       "      <th>V21</th>\n",
       "      <th>V22</th>\n",
       "      <th>V23</th>\n",
       "      <th>V24</th>\n",
       "      <th>V25</th>\n",
       "      <th>V26</th>\n",
       "      <th>V27</th>\n",
       "      <th>V28</th>\n",
       "      <th>Amount</th>\n",
       "      <th>Class</th>\n",
       "    </tr>\n",
       "  </thead>\n",
       "  <tbody>\n",
       "    <tr>\n",
       "      <th>0</th>\n",
       "      <td>0.0</td>\n",
       "      <td>-1.359807</td>\n",
       "      <td>-0.072781</td>\n",
       "      <td>2.536347</td>\n",
       "      <td>1.378155</td>\n",
       "      <td>-0.338321</td>\n",
       "      <td>0.462388</td>\n",
       "      <td>0.239599</td>\n",
       "      <td>0.098698</td>\n",
       "      <td>0.363787</td>\n",
       "      <td>...</td>\n",
       "      <td>-0.018307</td>\n",
       "      <td>0.277838</td>\n",
       "      <td>-0.110474</td>\n",
       "      <td>0.066928</td>\n",
       "      <td>0.128539</td>\n",
       "      <td>-0.189115</td>\n",
       "      <td>0.133558</td>\n",
       "      <td>-0.021053</td>\n",
       "      <td>149.62</td>\n",
       "      <td>0</td>\n",
       "    </tr>\n",
       "    <tr>\n",
       "      <th>1</th>\n",
       "      <td>0.0</td>\n",
       "      <td>1.191857</td>\n",
       "      <td>0.266151</td>\n",
       "      <td>0.166480</td>\n",
       "      <td>0.448154</td>\n",
       "      <td>0.060018</td>\n",
       "      <td>-0.082361</td>\n",
       "      <td>-0.078803</td>\n",
       "      <td>0.085102</td>\n",
       "      <td>-0.255425</td>\n",
       "      <td>...</td>\n",
       "      <td>-0.225775</td>\n",
       "      <td>-0.638672</td>\n",
       "      <td>0.101288</td>\n",
       "      <td>-0.339846</td>\n",
       "      <td>0.167170</td>\n",
       "      <td>0.125895</td>\n",
       "      <td>-0.008983</td>\n",
       "      <td>0.014724</td>\n",
       "      <td>2.69</td>\n",
       "      <td>0</td>\n",
       "    </tr>\n",
       "    <tr>\n",
       "      <th>2</th>\n",
       "      <td>1.0</td>\n",
       "      <td>-1.358354</td>\n",
       "      <td>-1.340163</td>\n",
       "      <td>1.773209</td>\n",
       "      <td>0.379780</td>\n",
       "      <td>-0.503198</td>\n",
       "      <td>1.800499</td>\n",
       "      <td>0.791461</td>\n",
       "      <td>0.247676</td>\n",
       "      <td>-1.514654</td>\n",
       "      <td>...</td>\n",
       "      <td>0.247998</td>\n",
       "      <td>0.771679</td>\n",
       "      <td>0.909412</td>\n",
       "      <td>-0.689281</td>\n",
       "      <td>-0.327642</td>\n",
       "      <td>-0.139097</td>\n",
       "      <td>-0.055353</td>\n",
       "      <td>-0.059752</td>\n",
       "      <td>378.66</td>\n",
       "      <td>0</td>\n",
       "    </tr>\n",
       "    <tr>\n",
       "      <th>3</th>\n",
       "      <td>1.0</td>\n",
       "      <td>-0.966272</td>\n",
       "      <td>-0.185226</td>\n",
       "      <td>1.792993</td>\n",
       "      <td>-0.863291</td>\n",
       "      <td>-0.010309</td>\n",
       "      <td>1.247203</td>\n",
       "      <td>0.237609</td>\n",
       "      <td>0.377436</td>\n",
       "      <td>-1.387024</td>\n",
       "      <td>...</td>\n",
       "      <td>-0.108300</td>\n",
       "      <td>0.005274</td>\n",
       "      <td>-0.190321</td>\n",
       "      <td>-1.175575</td>\n",
       "      <td>0.647376</td>\n",
       "      <td>-0.221929</td>\n",
       "      <td>0.062723</td>\n",
       "      <td>0.061458</td>\n",
       "      <td>123.50</td>\n",
       "      <td>0</td>\n",
       "    </tr>\n",
       "    <tr>\n",
       "      <th>4</th>\n",
       "      <td>2.0</td>\n",
       "      <td>-1.158233</td>\n",
       "      <td>0.877737</td>\n",
       "      <td>1.548718</td>\n",
       "      <td>0.403034</td>\n",
       "      <td>-0.407193</td>\n",
       "      <td>0.095921</td>\n",
       "      <td>0.592941</td>\n",
       "      <td>-0.270533</td>\n",
       "      <td>0.817739</td>\n",
       "      <td>...</td>\n",
       "      <td>-0.009431</td>\n",
       "      <td>0.798278</td>\n",
       "      <td>-0.137458</td>\n",
       "      <td>0.141267</td>\n",
       "      <td>-0.206010</td>\n",
       "      <td>0.502292</td>\n",
       "      <td>0.219422</td>\n",
       "      <td>0.215153</td>\n",
       "      <td>69.99</td>\n",
       "      <td>0</td>\n",
       "    </tr>\n",
       "  </tbody>\n",
       "</table>\n",
       "<p>5 rows × 31 columns</p>\n",
       "</div>"
      ],
      "text/plain": [
       "   Time        V1        V2        V3        V4        V5        V6        V7  \\\n",
       "0   0.0 -1.359807 -0.072781  2.536347  1.378155 -0.338321  0.462388  0.239599   \n",
       "1   0.0  1.191857  0.266151  0.166480  0.448154  0.060018 -0.082361 -0.078803   \n",
       "2   1.0 -1.358354 -1.340163  1.773209  0.379780 -0.503198  1.800499  0.791461   \n",
       "3   1.0 -0.966272 -0.185226  1.792993 -0.863291 -0.010309  1.247203  0.237609   \n",
       "4   2.0 -1.158233  0.877737  1.548718  0.403034 -0.407193  0.095921  0.592941   \n",
       "\n",
       "         V8        V9  ...       V21       V22       V23       V24       V25  \\\n",
       "0  0.098698  0.363787  ... -0.018307  0.277838 -0.110474  0.066928  0.128539   \n",
       "1  0.085102 -0.255425  ... -0.225775 -0.638672  0.101288 -0.339846  0.167170   \n",
       "2  0.247676 -1.514654  ...  0.247998  0.771679  0.909412 -0.689281 -0.327642   \n",
       "3  0.377436 -1.387024  ... -0.108300  0.005274 -0.190321 -1.175575  0.647376   \n",
       "4 -0.270533  0.817739  ... -0.009431  0.798278 -0.137458  0.141267 -0.206010   \n",
       "\n",
       "        V26       V27       V28  Amount  Class  \n",
       "0 -0.189115  0.133558 -0.021053  149.62      0  \n",
       "1  0.125895 -0.008983  0.014724    2.69      0  \n",
       "2 -0.139097 -0.055353 -0.059752  378.66      0  \n",
       "3 -0.221929  0.062723  0.061458  123.50      0  \n",
       "4  0.502292  0.219422  0.215153   69.99      0  \n",
       "\n",
       "[5 rows x 31 columns]"
      ]
     },
     "execution_count": 34,
     "metadata": {},
     "output_type": "execute_result"
    }
   ],
   "source": [
    "df = pd.read_csv('factory products situation.csv')\n",
    "df.head()"
   ]
  },
  {
   "cell_type": "code",
   "execution_count": 35,
   "id": "017b014d",
   "metadata": {},
   "outputs": [
    {
     "data": {
      "text/html": [
       "<div>\n",
       "<style scoped>\n",
       "    .dataframe tbody tr th:only-of-type {\n",
       "        vertical-align: middle;\n",
       "    }\n",
       "\n",
       "    .dataframe tbody tr th {\n",
       "        vertical-align: top;\n",
       "    }\n",
       "\n",
       "    .dataframe thead th {\n",
       "        text-align: right;\n",
       "    }\n",
       "</style>\n",
       "<table border=\"1\" class=\"dataframe\">\n",
       "  <thead>\n",
       "    <tr style=\"text-align: right;\">\n",
       "      <th></th>\n",
       "      <th>Time</th>\n",
       "      <th>V1</th>\n",
       "      <th>V2</th>\n",
       "      <th>V3</th>\n",
       "      <th>V4</th>\n",
       "      <th>V5</th>\n",
       "      <th>V6</th>\n",
       "      <th>V7</th>\n",
       "      <th>V8</th>\n",
       "      <th>V9</th>\n",
       "      <th>...</th>\n",
       "      <th>V21</th>\n",
       "      <th>V22</th>\n",
       "      <th>V23</th>\n",
       "      <th>V24</th>\n",
       "      <th>V25</th>\n",
       "      <th>V26</th>\n",
       "      <th>V27</th>\n",
       "      <th>V28</th>\n",
       "      <th>Amount</th>\n",
       "      <th>Class</th>\n",
       "    </tr>\n",
       "  </thead>\n",
       "  <tbody>\n",
       "    <tr>\n",
       "      <th>252359</th>\n",
       "      <td>155769.0</td>\n",
       "      <td>1.738824</td>\n",
       "      <td>-0.115495</td>\n",
       "      <td>0.606574</td>\n",
       "      <td>3.619668</td>\n",
       "      <td>-0.677918</td>\n",
       "      <td>0.818215</td>\n",
       "      <td>-1.068147</td>\n",
       "      <td>0.465477</td>\n",
       "      <td>-0.187001</td>\n",
       "      <td>...</td>\n",
       "      <td>0.294065</td>\n",
       "      <td>0.629139</td>\n",
       "      <td>0.213287</td>\n",
       "      <td>-0.426229</td>\n",
       "      <td>-0.600384</td>\n",
       "      <td>-0.053419</td>\n",
       "      <td>0.016171</td>\n",
       "      <td>-0.025736</td>\n",
       "      <td>48.68</td>\n",
       "      <td>0</td>\n",
       "    </tr>\n",
       "    <tr>\n",
       "      <th>65340</th>\n",
       "      <td>51537.0</td>\n",
       "      <td>-0.944670</td>\n",
       "      <td>0.665806</td>\n",
       "      <td>1.700377</td>\n",
       "      <td>-0.008269</td>\n",
       "      <td>0.702929</td>\n",
       "      <td>-1.035995</td>\n",
       "      <td>0.730245</td>\n",
       "      <td>-0.094095</td>\n",
       "      <td>-1.242339</td>\n",
       "      <td>...</td>\n",
       "      <td>0.109915</td>\n",
       "      <td>0.156930</td>\n",
       "      <td>-0.267724</td>\n",
       "      <td>0.592565</td>\n",
       "      <td>0.472245</td>\n",
       "      <td>0.367118</td>\n",
       "      <td>-0.027210</td>\n",
       "      <td>0.057001</td>\n",
       "      <td>7.23</td>\n",
       "      <td>0</td>\n",
       "    </tr>\n",
       "    <tr>\n",
       "      <th>153972</th>\n",
       "      <td>100834.0</td>\n",
       "      <td>1.919498</td>\n",
       "      <td>-0.523770</td>\n",
       "      <td>-0.026501</td>\n",
       "      <td>0.293293</td>\n",
       "      <td>-0.545734</td>\n",
       "      <td>0.387612</td>\n",
       "      <td>-1.017510</td>\n",
       "      <td>0.109304</td>\n",
       "      <td>2.336963</td>\n",
       "      <td>...</td>\n",
       "      <td>-0.080323</td>\n",
       "      <td>0.119881</td>\n",
       "      <td>0.199899</td>\n",
       "      <td>-0.812040</td>\n",
       "      <td>-0.553431</td>\n",
       "      <td>0.468171</td>\n",
       "      <td>-0.040926</td>\n",
       "      <td>-0.055446</td>\n",
       "      <td>39.00</td>\n",
       "      <td>0</td>\n",
       "    </tr>\n",
       "    <tr>\n",
       "      <th>238821</th>\n",
       "      <td>149837.0</td>\n",
       "      <td>1.467823</td>\n",
       "      <td>-0.391802</td>\n",
       "      <td>-0.490174</td>\n",
       "      <td>4.032977</td>\n",
       "      <td>-0.019828</td>\n",
       "      <td>0.759069</td>\n",
       "      <td>-0.003476</td>\n",
       "      <td>0.125634</td>\n",
       "      <td>-0.513309</td>\n",
       "      <td>...</td>\n",
       "      <td>0.240331</td>\n",
       "      <td>0.480302</td>\n",
       "      <td>-0.155208</td>\n",
       "      <td>-0.317146</td>\n",
       "      <td>0.041205</td>\n",
       "      <td>0.112661</td>\n",
       "      <td>-0.046053</td>\n",
       "      <td>-0.024180</td>\n",
       "      <td>208.93</td>\n",
       "      <td>0</td>\n",
       "    </tr>\n",
       "    <tr>\n",
       "      <th>142224</th>\n",
       "      <td>84613.0</td>\n",
       "      <td>1.271017</td>\n",
       "      <td>-0.469918</td>\n",
       "      <td>0.728033</td>\n",
       "      <td>-0.794483</td>\n",
       "      <td>-1.172690</td>\n",
       "      <td>-0.656201</td>\n",
       "      <td>-0.684907</td>\n",
       "      <td>0.077405</td>\n",
       "      <td>2.079616</td>\n",
       "      <td>...</td>\n",
       "      <td>-0.053704</td>\n",
       "      <td>0.021784</td>\n",
       "      <td>-0.061567</td>\n",
       "      <td>0.006984</td>\n",
       "      <td>0.495945</td>\n",
       "      <td>-0.659124</td>\n",
       "      <td>0.083092</td>\n",
       "      <td>0.028338</td>\n",
       "      <td>1.00</td>\n",
       "      <td>0</td>\n",
       "    </tr>\n",
       "  </tbody>\n",
       "</table>\n",
       "<p>5 rows × 31 columns</p>\n",
       "</div>"
      ],
      "text/plain": [
       "            Time        V1        V2        V3        V4        V5        V6  \\\n",
       "252359  155769.0  1.738824 -0.115495  0.606574  3.619668 -0.677918  0.818215   \n",
       "65340    51537.0 -0.944670  0.665806  1.700377 -0.008269  0.702929 -1.035995   \n",
       "153972  100834.0  1.919498 -0.523770 -0.026501  0.293293 -0.545734  0.387612   \n",
       "238821  149837.0  1.467823 -0.391802 -0.490174  4.032977 -0.019828  0.759069   \n",
       "142224   84613.0  1.271017 -0.469918  0.728033 -0.794483 -1.172690 -0.656201   \n",
       "\n",
       "              V7        V8        V9  ...       V21       V22       V23  \\\n",
       "252359 -1.068147  0.465477 -0.187001  ...  0.294065  0.629139  0.213287   \n",
       "65340   0.730245 -0.094095 -1.242339  ...  0.109915  0.156930 -0.267724   \n",
       "153972 -1.017510  0.109304  2.336963  ... -0.080323  0.119881  0.199899   \n",
       "238821 -0.003476  0.125634 -0.513309  ...  0.240331  0.480302 -0.155208   \n",
       "142224 -0.684907  0.077405  2.079616  ... -0.053704  0.021784 -0.061567   \n",
       "\n",
       "             V24       V25       V26       V27       V28  Amount  Class  \n",
       "252359 -0.426229 -0.600384 -0.053419  0.016171 -0.025736   48.68      0  \n",
       "65340   0.592565  0.472245  0.367118 -0.027210  0.057001    7.23      0  \n",
       "153972 -0.812040 -0.553431  0.468171 -0.040926 -0.055446   39.00      0  \n",
       "238821 -0.317146  0.041205  0.112661 -0.046053 -0.024180  208.93      0  \n",
       "142224  0.006984  0.495945 -0.659124  0.083092  0.028338    1.00      0  \n",
       "\n",
       "[5 rows x 31 columns]"
      ]
     },
     "execution_count": 35,
     "metadata": {},
     "output_type": "execute_result"
    }
   ],
   "source": [
    "# balancing data\n",
    "Class1=df[df.Class==1]\n",
    "Class0=df[df.Class==0]\n",
    "Class0_undersampled=Class0.sample(n=492)\n",
    "sampled_data=pd.concat([Class1,Class0_undersampled],axis=0)\n",
    "shuffled_data=sampled_data.sample(frac=1)\n",
    "shuffled_data.head()"
   ]
  },
  {
   "cell_type": "code",
   "execution_count": 36,
   "id": "b3f134d8",
   "metadata": {},
   "outputs": [],
   "source": [
    "values=shuffled_data.values\n",
    "feature_names=shuffled_data.columns"
   ]
  },
  {
   "cell_type": "code",
   "execution_count": 37,
   "id": "e8a73b19",
   "metadata": {},
   "outputs": [
    {
     "name": "stdout",
     "output_type": "stream",
     "text": [
      "(984, 5)\n",
      "(984,)\n"
     ]
    }
   ],
   "source": [
    "target =np.where(feature_names =='Class')\n",
    "tags=values[:,target].reshape((values.shape[0],)) # labels\n",
    "features=values[:,1:6]# features\n",
    "print(features.shape)\n",
    "print(tags.shape)"
   ]
  },
  {
   "cell_type": "code",
   "execution_count": 38,
   "id": "5234ea93",
   "metadata": {},
   "outputs": [
    {
     "name": "stdout",
     "output_type": "stream",
     "text": [
      "number of class 0 : 492\n",
      "number of class 1 : 492\n"
     ]
    },
    {
     "data": {
      "image/png": "[encoded data removed]",
      "text/plain": [
       "<Figure size 640x480 with 1 Axes>"
      ]
     },
     "metadata": {},
     "output_type": "display_data"
    }
   ],
   "source": [
    "# plotting numer of class 0 and 1 after balancing data\n",
    "class0_number=np.size(tags[tags==0])\n",
    "class1_number=np.size(tags[tags==1])\n",
    "print ('number of class 0 :', class0_number)\n",
    "print ('number of class 1 :', class1_number)\n",
    "# plotting number of data in two different label\n",
    "a=['class 0','class 1']\n",
    "plot = plt.bar(a,[class0_number,class1_number],width=0.2 , color='m')\n",
    "for value in plot:\n",
    "    height = value.get_height()\n",
    "    plt.text(value.get_x() + value.get_width()/2.,height,str(height), ha='center', va='bottom')\n",
    "plt.savefig('Q2b2.png', dpi = 200)"
   ]
  },
  {
   "cell_type": "code",
   "execution_count": 39,
   "id": "9e40b0f5",
   "metadata": {},
   "outputs": [],
   "source": [
    "x = shuffled_data.iloc[:,1:6] # first 5 shuffled features\n",
    "y = shuffled_data.iloc[:,-1] # shuffled targets"
   ]
  },
  {
   "cell_type": "code",
   "execution_count": 40,
   "id": "162f52d0",
   "metadata": {},
   "outputs": [],
   "source": [
    "#split the dataset into train and test\n",
    "from sklearn.model_selection import train_test_split\n",
    "x_train, x_test, y_train, y_test = train_test_split(x, y, test_size = 0.2, random_state = 42)"
   ]
  },
  {
   "cell_type": "markdown",
   "id": "272389fe",
   "metadata": {},
   "source": [
    "## SVM Method"
   ]
  },
  {
   "cell_type": "markdown",
   "id": "6c86bdb6",
   "metadata": {},
   "source": [
    "### Linear kernel"
   ]
  },
  {
   "cell_type": "code",
   "execution_count": 41,
   "id": "aea6d6d6",
   "metadata": {},
   "outputs": [
    {
     "data": {
      "text/plain": [
       "SVC(kernel='linear')"
      ]
     },
     "execution_count": 41,
     "metadata": {},
     "output_type": "execute_result"
    }
   ],
   "source": [
    "from sklearn.svm import SVC\n",
    "svm_linear_model = SVC(kernel='linear')\n",
    "svm_linear_model.fit(x_train,y_train)"
   ]
  },
  {
   "cell_type": "code",
   "execution_count": 42,
   "id": "18aa742d",
   "metadata": {},
   "outputs": [
    {
     "name": "stdout",
     "output_type": "stream",
     "text": [
      "precision score = 0.9680851063829787 \n",
      "\n",
      "accuracy score = 0.9035532994923858 \n",
      "\n",
      "f1 score = 0.9054726368159204 \n",
      "\n",
      "recall score = 0.8504672897196262 \n",
      "\n"
     ]
    }
   ],
   "source": [
    "from sklearn.metrics import precision_score, f1_score, accuracy_score, recall_score\n",
    "y_pred_linear = svm_linear_model.predict(x_test)\n",
    "print('precision score =', precision_score(y_test, y_pred_linear), '\\n')\n",
    "print('accuracy score =', accuracy_score(y_test, y_pred_linear), '\\n')\n",
    "print('f1 score =', f1_score(y_test, y_pred_linear), '\\n')\n",
    "print('recall score =', recall_score(y_test, y_pred_linear), '\\n')"
   ]
  },
  {
   "cell_type": "markdown",
   "id": "6055b5ba",
   "metadata": {},
   "source": [
    "### Poly kernel"
   ]
  },
  {
   "cell_type": "code",
   "execution_count": 43,
   "id": "3e7b7b1c",
   "metadata": {},
   "outputs": [
    {
     "data": {
      "text/plain": [
       "SVC(degree=4, kernel='poly')"
      ]
     },
     "execution_count": 43,
     "metadata": {},
     "output_type": "execute_result"
    }
   ],
   "source": [
    "svm_poly2_model = SVC(kernel='poly', degree = 2) #poly degree 2\n",
    "svm_poly3_model = SVC(kernel='poly', degree = 3) #poly degree 3\n",
    "svm_poly4_model = SVC(kernel='poly', degree = 4) #poly degree 4\n",
    "svm_poly2_model.fit(x_train,y_train)\n",
    "svm_poly3_model.fit(x_train,y_train)\n",
    "svm_poly4_model.fit(x_train,y_train)"
   ]
  },
  {
   "cell_type": "code",
   "execution_count": 44,
   "id": "a21b6f3b",
   "metadata": {},
   "outputs": [
    {
     "name": "stdout",
     "output_type": "stream",
     "text": [
      "poly degree2 : \n",
      "\n",
      "precision score = 0.9873417721518988\n",
      "accuracy score = 0.8477157360406091\n",
      "f1 score = 0.8387096774193549\n",
      "recall score = 0.7289719626168224 \n",
      "\n",
      "poly degree3 : \n",
      "\n",
      "precision score = 1.0\n",
      "accuracy score = 0.8121827411167513\n",
      "f1 score = 0.7909604519774012\n",
      "recall score = 0.6542056074766355 \n",
      "\n",
      "poly degree4 : \n",
      "\n",
      "precision score = 1.0\n",
      "accuracy score = 0.766497461928934\n",
      "f1 score = 0.7261904761904762\n",
      "recall score = 0.5700934579439252 \n",
      "\n"
     ]
    }
   ],
   "source": [
    "y_pred_poly2 = svm_poly2_model.predict(x_test)\n",
    "y_pred_poly3 = svm_poly3_model.predict(x_test)\n",
    "y_pred_poly4 = svm_poly4_model.predict(x_test)\n",
    "print('poly degree2 : \\n')\n",
    "print('precision score =', precision_score(y_test, y_pred_poly2))\n",
    "print('accuracy score =', accuracy_score(y_test, y_pred_poly2))\n",
    "print('f1 score =', f1_score(y_test, y_pred_poly2))\n",
    "print('recall score =', recall_score(y_test, y_pred_poly2), '\\n')\n",
    "print('poly degree3 : \\n')\n",
    "print('precision score =', precision_score(y_test, y_pred_poly3))\n",
    "print('accuracy score =', accuracy_score(y_test, y_pred_poly3))\n",
    "print('f1 score =', f1_score(y_test, y_pred_poly3))\n",
    "print('recall score =', recall_score(y_test, y_pred_poly3), '\\n')\n",
    "print('poly degree4 : \\n')\n",
    "print('precision score =', precision_score(y_test, y_pred_poly4))\n",
    "print('accuracy score =', accuracy_score(y_test, y_pred_poly4))\n",
    "print('f1 score =', f1_score(y_test, y_pred_poly4))\n",
    "print('recall score =', recall_score(y_test, y_pred_poly4), '\\n')"
   ]
  },
  {
   "cell_type": "markdown",
   "id": "715e97b9",
   "metadata": {},
   "source": [
    "### rbf kernel"
   ]
  },
  {
   "cell_type": "code",
   "execution_count": 45,
   "id": "1b449503",
   "metadata": {},
   "outputs": [
    {
     "data": {
      "text/plain": [
       "SVC()"
      ]
     },
     "execution_count": 45,
     "metadata": {},
     "output_type": "execute_result"
    }
   ],
   "source": [
    "svm_rbf_model = SVC(kernel='rbf' , gamma = 'scale')\n",
    "svm_rbf_model.fit(x_train,y_train)"
   ]
  },
  {
   "cell_type": "code",
   "execution_count": 46,
   "id": "f8d2b50b",
   "metadata": {},
   "outputs": [
    {
     "name": "stdout",
     "output_type": "stream",
     "text": [
      "precision score = 0.9777777777777777 \n",
      "\n",
      "accuracy score = 0.8934010152284264 \n",
      "\n",
      "f1 score = 0.8934010152284264 \n",
      "\n",
      "recall score = 0.822429906542056 \n",
      "\n"
     ]
    }
   ],
   "source": [
    "y_pred_rbf = svm_rbf_model.predict(x_test)\n",
    "print('precision score =', precision_score(y_test, y_pred_rbf), '\\n')\n",
    "print('accuracy score =', accuracy_score(y_test, y_pred_rbf), '\\n')\n",
    "print('f1 score =', f1_score(y_test, y_pred_rbf), '\\n')\n",
    "print('recall score =', recall_score(y_test, y_pred_rbf), '\\n')"
   ]
  },
  {
   "cell_type": "markdown",
   "id": "c968a7e5",
   "metadata": {},
   "source": [
    "### Sigmoid kernel"
   ]
  },
  {
   "cell_type": "code",
   "execution_count": 47,
   "id": "5a3b8441",
   "metadata": {},
   "outputs": [
    {
     "data": {
      "text/plain": [
       "SVC(kernel='sigmoid')"
      ]
     },
     "execution_count": 47,
     "metadata": {},
     "output_type": "execute_result"
    }
   ],
   "source": [
    "svm_sigmoid_model = SVC(kernel='sigmoid')\n",
    "svm_sigmoid_model.fit(x_train,y_train)"
   ]
  },
  {
   "cell_type": "code",
   "execution_count": 48,
   "id": "de6d6896",
   "metadata": {},
   "outputs": [
    {
     "name": "stdout",
     "output_type": "stream",
     "text": [
      "precision score = 0.8942307692307693 \n",
      "\n",
      "accuracy score = 0.8730964467005076 \n",
      "\n",
      "f1 score = 0.881516587677725 \n",
      "\n",
      "recall score = 0.8691588785046729 \n",
      "\n"
     ]
    }
   ],
   "source": [
    "y_pred_sigmoid = svm_sigmoid_model.predict(x_test)\n",
    "print('precision score =', precision_score(y_test, y_pred_sigmoid), '\\n')\n",
    "print('accuracy score =', accuracy_score(y_test, y_pred_sigmoid), '\\n')\n",
    "print('f1 score =', f1_score(y_test, y_pred_sigmoid), '\\n')\n",
    "print('recall score =', recall_score(y_test, y_pred_sigmoid), '\\n')"
   ]
  }
 ],
 "metadata": {
  "kernelspec": {
   "display_name": "Python 3 (ipykernel)",
   "language": "python",
   "name": "python3"
  },
  "language_info": {
   "codemirror_mode": {
    "name": "ipython",
    "version": 3
   },
   "file_extension": ".py",
   "mimetype": "text/x-python",
   "name": "python",
   "nbconvert_exporter": "python",
   "pygments_lexer": "ipython3",
   "version": "3.9.13"
  }
 },
 "nbformat": 4,
 "nbformat_minor": 5
}
