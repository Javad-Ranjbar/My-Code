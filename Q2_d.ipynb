{
 "cells": [
  {
   "cell_type": "markdown",
   "id": "b5bd7b3e",
   "metadata": {},
   "source": [
    "## Javad Ranjbar Kermani\n",
    "## 400209795\n",
    "## Question 2 part d\n",
    "## SVM (support vector method)#\n",
    "## balanced data with all features"
   ]
  },
  {
   "cell_type": "code",
   "execution_count": 36,
   "id": "b0870aca",
   "metadata": {},
   "outputs": [],
   "source": [
    "# import libreries\n",
    "import numpy as np\n",
    "import pandas as pd\n",
    "import matplotlib.pyplot as plt"
   ]
  },
  {
   "cell_type": "code",
   "execution_count": 37,
   "id": "81c8b4ff",
   "metadata": {},
   "outputs": [
    {
     "data": {
      "text/html": [
       "<div>\n",
       "<style scoped>\n",
       "    .dataframe tbody tr th:only-of-type {\n",
       "        vertical-align: middle;\n",
       "    }\n",
       "\n",
       "    .dataframe tbody tr th {\n",
       "        vertical-align: top;\n",
       "    }\n",
       "\n",
       "    .dataframe thead th {\n",
       "        text-align: right;\n",
       "    }\n",
       "</style>\n",
       "<table border=\"1\" class=\"dataframe\">\n",
       "  <thead>\n",
       "    <tr style=\"text-align: right;\">\n",
       "      <th></th>\n",
       "      <th>Time</th>\n",
       "      <th>V1</th>\n",
       "      <th>V2</th>\n",
       "      <th>V3</th>\n",
       "      <th>V4</th>\n",
       "      <th>V5</th>\n",
       "      <th>V6</th>\n",
       "      <th>V7</th>\n",
       "      <th>V8</th>\n",
       "      <th>V9</th>\n",
       "      <th>...</th>\n",
       "      <th>V21</th>\n",
       "      <th>V22</th>\n",
       "      <th>V23</th>\n",
       "      <th>V24</th>\n",
       "      <th>V25</th>\n",
       "      <th>V26</th>\n",
       "      <th>V27</th>\n",
       "      <th>V28</th>\n",
       "      <th>Amount</th>\n",
       "      <th>Class</th>\n",
       "    </tr>\n",
       "  </thead>\n",
       "  <tbody>\n",
       "    <tr>\n",
       "      <th>0</th>\n",
       "      <td>0.0</td>\n",
       "      <td>-1.359807</td>\n",
       "      <td>-0.072781</td>\n",
       "      <td>2.536347</td>\n",
       "      <td>1.378155</td>\n",
       "      <td>-0.338321</td>\n",
       "      <td>0.462388</td>\n",
       "      <td>0.239599</td>\n",
       "      <td>0.098698</td>\n",
       "      <td>0.363787</td>\n",
       "      <td>...</td>\n",
       "      <td>-0.018307</td>\n",
       "      <td>0.277838</td>\n",
       "      <td>-0.110474</td>\n",
       "      <td>0.066928</td>\n",
       "      <td>0.128539</td>\n",
       "      <td>-0.189115</td>\n",
       "      <td>0.133558</td>\n",
       "      <td>-0.021053</td>\n",
       "      <td>149.62</td>\n",
       "      <td>0</td>\n",
       "    </tr>\n",
       "    <tr>\n",
       "      <th>1</th>\n",
       "      <td>0.0</td>\n",
       "      <td>1.191857</td>\n",
       "      <td>0.266151</td>\n",
       "      <td>0.166480</td>\n",
       "      <td>0.448154</td>\n",
       "      <td>0.060018</td>\n",
       "      <td>-0.082361</td>\n",
       "      <td>-0.078803</td>\n",
       "      <td>0.085102</td>\n",
       "      <td>-0.255425</td>\n",
       "      <td>...</td>\n",
       "      <td>-0.225775</td>\n",
       "      <td>-0.638672</td>\n",
       "      <td>0.101288</td>\n",
       "      <td>-0.339846</td>\n",
       "      <td>0.167170</td>\n",
       "      <td>0.125895</td>\n",
       "      <td>-0.008983</td>\n",
       "      <td>0.014724</td>\n",
       "      <td>2.69</td>\n",
       "      <td>0</td>\n",
       "    </tr>\n",
       "    <tr>\n",
       "      <th>2</th>\n",
       "      <td>1.0</td>\n",
       "      <td>-1.358354</td>\n",
       "      <td>-1.340163</td>\n",
       "      <td>1.773209</td>\n",
       "      <td>0.379780</td>\n",
       "      <td>-0.503198</td>\n",
       "      <td>1.800499</td>\n",
       "      <td>0.791461</td>\n",
       "      <td>0.247676</td>\n",
       "      <td>-1.514654</td>\n",
       "      <td>...</td>\n",
       "      <td>0.247998</td>\n",
       "      <td>0.771679</td>\n",
       "      <td>0.909412</td>\n",
       "      <td>-0.689281</td>\n",
       "      <td>-0.327642</td>\n",
       "      <td>-0.139097</td>\n",
       "      <td>-0.055353</td>\n",
       "      <td>-0.059752</td>\n",
       "      <td>378.66</td>\n",
       "      <td>0</td>\n",
       "    </tr>\n",
       "    <tr>\n",
       "      <th>3</th>\n",
       "      <td>1.0</td>\n",
       "      <td>-0.966272</td>\n",
       "      <td>-0.185226</td>\n",
       "      <td>1.792993</td>\n",
       "      <td>-0.863291</td>\n",
       "      <td>-0.010309</td>\n",
       "      <td>1.247203</td>\n",
       "      <td>0.237609</td>\n",
       "      <td>0.377436</td>\n",
       "      <td>-1.387024</td>\n",
       "      <td>...</td>\n",
       "      <td>-0.108300</td>\n",
       "      <td>0.005274</td>\n",
       "      <td>-0.190321</td>\n",
       "      <td>-1.175575</td>\n",
       "      <td>0.647376</td>\n",
       "      <td>-0.221929</td>\n",
       "      <td>0.062723</td>\n",
       "      <td>0.061458</td>\n",
       "      <td>123.50</td>\n",
       "      <td>0</td>\n",
       "    </tr>\n",
       "    <tr>\n",
       "      <th>4</th>\n",
       "      <td>2.0</td>\n",
       "      <td>-1.158233</td>\n",
       "      <td>0.877737</td>\n",
       "      <td>1.548718</td>\n",
       "      <td>0.403034</td>\n",
       "      <td>-0.407193</td>\n",
       "      <td>0.095921</td>\n",
       "      <td>0.592941</td>\n",
       "      <td>-0.270533</td>\n",
       "      <td>0.817739</td>\n",
       "      <td>...</td>\n",
       "      <td>-0.009431</td>\n",
       "      <td>0.798278</td>\n",
       "      <td>-0.137458</td>\n",
       "      <td>0.141267</td>\n",
       "      <td>-0.206010</td>\n",
       "      <td>0.502292</td>\n",
       "      <td>0.219422</td>\n",
       "      <td>0.215153</td>\n",
       "      <td>69.99</td>\n",
       "      <td>0</td>\n",
       "    </tr>\n",
       "  </tbody>\n",
       "</table>\n",
       "<p>5 rows × 31 columns</p>\n",
       "</div>"
      ],
      "text/plain": [
       "   Time        V1        V2        V3        V4        V5        V6        V7  \\\n",
       "0   0.0 -1.359807 -0.072781  2.536347  1.378155 -0.338321  0.462388  0.239599   \n",
       "1   0.0  1.191857  0.266151  0.166480  0.448154  0.060018 -0.082361 -0.078803   \n",
       "2   1.0 -1.358354 -1.340163  1.773209  0.379780 -0.503198  1.800499  0.791461   \n",
       "3   1.0 -0.966272 -0.185226  1.792993 -0.863291 -0.010309  1.247203  0.237609   \n",
       "4   2.0 -1.158233  0.877737  1.548718  0.403034 -0.407193  0.095921  0.592941   \n",
       "\n",
       "         V8        V9  ...       V21       V22       V23       V24       V25  \\\n",
       "0  0.098698  0.363787  ... -0.018307  0.277838 -0.110474  0.066928  0.128539   \n",
       "1  0.085102 -0.255425  ... -0.225775 -0.638672  0.101288 -0.339846  0.167170   \n",
       "2  0.247676 -1.514654  ...  0.247998  0.771679  0.909412 -0.689281 -0.327642   \n",
       "3  0.377436 -1.387024  ... -0.108300  0.005274 -0.190321 -1.175575  0.647376   \n",
       "4 -0.270533  0.817739  ... -0.009431  0.798278 -0.137458  0.141267 -0.206010   \n",
       "\n",
       "        V26       V27       V28  Amount  Class  \n",
       "0 -0.189115  0.133558 -0.021053  149.62      0  \n",
       "1  0.125895 -0.008983  0.014724    2.69      0  \n",
       "2 -0.139097 -0.055353 -0.059752  378.66      0  \n",
       "3 -0.221929  0.062723  0.061458  123.50      0  \n",
       "4  0.502292  0.219422  0.215153   69.99      0  \n",
       "\n",
       "[5 rows x 31 columns]"
      ]
     },
     "execution_count": 37,
     "metadata": {},
     "output_type": "execute_result"
    }
   ],
   "source": [
    "df = pd.read_csv('factory products situation.csv')\n",
    "df.head()"
   ]
  },
  {
   "cell_type": "code",
   "execution_count": 38,
   "id": "abed4b9b",
   "metadata": {},
   "outputs": [],
   "source": [
    "# balancing data\n",
    "Class1=df[df.Class==1]\n",
    "Class0=df[df.Class==0]\n",
    "Class0_undersampled=Class0.sample(n=492)\n",
    "sampled_data=pd.concat([Class1,Class0_undersampled],axis=0)\n",
    "shuffled_data=sampled_data.sample(frac=1)"
   ]
  },
  {
   "cell_type": "code",
   "execution_count": 39,
   "id": "7351fbb9",
   "metadata": {},
   "outputs": [],
   "source": [
    "x = shuffled_data.iloc[:,1:-2] #all 28 shuffled features\n",
    "y = shuffled_data.iloc[:,-1] # shuffled targets"
   ]
  },
  {
   "cell_type": "code",
   "execution_count": 40,
   "id": "538cb1ca",
   "metadata": {},
   "outputs": [],
   "source": [
    "#split the dataset into train and test\n",
    "from sklearn.model_selection import train_test_split\n",
    "x_train, x_test, y_train, y_test = train_test_split(x, y, test_size = 0.2, random_state = 42)"
   ]
  },
  {
   "cell_type": "markdown",
   "id": "f8e6e4ba",
   "metadata": {},
   "source": [
    "## SVM Method\n",
    "### Linear kernel"
   ]
  },
  {
   "cell_type": "code",
   "execution_count": 41,
   "id": "5e363859",
   "metadata": {},
   "outputs": [
    {
     "data": {
      "text/plain": [
       "SVC(kernel='linear')"
      ]
     },
     "execution_count": 41,
     "metadata": {},
     "output_type": "execute_result"
    }
   ],
   "source": [
    "from sklearn.svm import SVC\n",
    "svm_linear_model = SVC(kernel='linear')\n",
    "svm_linear_model.fit(x_train,y_train)"
   ]
  },
  {
   "cell_type": "code",
   "execution_count": 42,
   "id": "81d51e02",
   "metadata": {},
   "outputs": [
    {
     "name": "stdout",
     "output_type": "stream",
     "text": [
      "precision score = 0.9696969696969697 \n",
      "\n",
      "accuracy score = 0.9289340101522843 \n",
      "\n",
      "f1 score = 0.9320388349514562 \n",
      "\n",
      "recall score = 0.897196261682243 \n",
      "\n"
     ]
    }
   ],
   "source": [
    "from sklearn.metrics import precision_score, f1_score, accuracy_score, recall_score\n",
    "y_pred_linear = svm_linear_model.predict(x_test)\n",
    "print('precision score =', precision_score(y_test, y_pred_linear), '\\n')\n",
    "print('accuracy score =', accuracy_score(y_test, y_pred_linear), '\\n')\n",
    "print('f1 score =', f1_score(y_test, y_pred_linear), '\\n')\n",
    "print('recall score =', recall_score(y_test, y_pred_linear), '\\n')"
   ]
  },
  {
   "cell_type": "markdown",
   "id": "26c3bf97",
   "metadata": {},
   "source": [
    "### Poly kernel"
   ]
  },
  {
   "cell_type": "code",
   "execution_count": 43,
   "id": "0a6742fc",
   "metadata": {},
   "outputs": [
    {
     "data": {
      "text/plain": [
       "SVC(degree=4, kernel='poly')"
      ]
     },
     "execution_count": 43,
     "metadata": {},
     "output_type": "execute_result"
    }
   ],
   "source": [
    "svm_poly2_model = SVC(kernel='poly', degree = 2) #poly degree 2\n",
    "svm_poly3_model = SVC(kernel='poly', degree = 3) #poly degree 3\n",
    "svm_poly4_model = SVC(kernel='poly', degree = 4) #poly degree 4\n",
    "svm_poly2_model.fit(x_train,y_train)\n",
    "svm_poly3_model.fit(x_train,y_train)\n",
    "svm_poly4_model.fit(x_train,y_train)"
   ]
  },
  {
   "cell_type": "code",
   "execution_count": 44,
   "id": "bac8d031",
   "metadata": {},
   "outputs": [
    {
     "name": "stdout",
     "output_type": "stream",
     "text": [
      "poly degree2 : \n",
      "\n",
      "precision score = 1.0\n",
      "accuracy score = 0.9035532994923858\n",
      "f1 score = 0.9025641025641025\n",
      "recall score = 0.822429906542056 \n",
      "\n",
      "poly degree3 : \n",
      "\n",
      "precision score = 1.0\n",
      "accuracy score = 0.883248730964467\n",
      "f1 score = 0.8795811518324607\n",
      "recall score = 0.7850467289719626 \n",
      "\n",
      "poly degree4 : \n",
      "\n",
      "precision score = 1.0\n",
      "accuracy score = 0.7918781725888325\n",
      "f1 score = 0.7630057803468209\n",
      "recall score = 0.616822429906542 \n",
      "\n"
     ]
    }
   ],
   "source": [
    "y_pred_poly2 = svm_poly2_model.predict(x_test)\n",
    "y_pred_poly3 = svm_poly3_model.predict(x_test)\n",
    "y_pred_poly4 = svm_poly4_model.predict(x_test)\n",
    "print('poly degree2 : \\n')\n",
    "print('precision score =', precision_score(y_test, y_pred_poly2))\n",
    "print('accuracy score =', accuracy_score(y_test, y_pred_poly2))\n",
    "print('f1 score =', f1_score(y_test, y_pred_poly2))\n",
    "print('recall score =', recall_score(y_test, y_pred_poly2), '\\n')\n",
    "print('poly degree3 : \\n')\n",
    "print('precision score =', precision_score(y_test, y_pred_poly3))\n",
    "print('accuracy score =', accuracy_score(y_test, y_pred_poly3))\n",
    "print('f1 score =', f1_score(y_test, y_pred_poly3))\n",
    "print('recall score =', recall_score(y_test, y_pred_poly3), '\\n')\n",
    "print('poly degree4 : \\n')\n",
    "print('precision score =', precision_score(y_test, y_pred_poly4))\n",
    "print('accuracy score =', accuracy_score(y_test, y_pred_poly4))\n",
    "print('f1 score =', f1_score(y_test, y_pred_poly4))\n",
    "print('recall score =', recall_score(y_test, y_pred_poly4), '\\n')"
   ]
  },
  {
   "cell_type": "markdown",
   "id": "9ca16990",
   "metadata": {},
   "source": [
    "### rbf kernel"
   ]
  },
  {
   "cell_type": "code",
   "execution_count": 45,
   "id": "36eda640",
   "metadata": {},
   "outputs": [
    {
     "data": {
      "text/plain": [
       "SVC()"
      ]
     },
     "execution_count": 45,
     "metadata": {},
     "output_type": "execute_result"
    }
   ],
   "source": [
    "svm_rbf_model = SVC(kernel='rbf', gamma = 'scale')\n",
    "svm_rbf_model.fit(x_train,y_train)"
   ]
  },
  {
   "cell_type": "code",
   "execution_count": 46,
   "id": "277eb407",
   "metadata": {},
   "outputs": [
    {
     "name": "stdout",
     "output_type": "stream",
     "text": [
      "precision score = 0.9693877551020408 \n",
      "\n",
      "accuracy score = 0.9238578680203046 \n",
      "\n",
      "f1 score = 0.926829268292683 \n",
      "\n",
      "recall score = 0.8878504672897196 \n",
      "\n"
     ]
    }
   ],
   "source": [
    "y_pred_rbf = svm_rbf_model.predict(x_test)\n",
    "print('precision score =', precision_score(y_test, y_pred_rbf), '\\n')\n",
    "print('accuracy score =', accuracy_score(y_test, y_pred_rbf), '\\n')\n",
    "print('f1 score =', f1_score(y_test, y_pred_rbf), '\\n')\n",
    "print('recall score =', recall_score(y_test, y_pred_rbf), '\\n')"
   ]
  },
  {
   "cell_type": "markdown",
   "id": "c1803688",
   "metadata": {},
   "source": [
    "### Sigmoid kernel"
   ]
  },
  {
   "cell_type": "code",
   "execution_count": 47,
   "id": "d4c89aa8",
   "metadata": {},
   "outputs": [
    {
     "data": {
      "text/plain": [
       "SVC(kernel='sigmoid')"
      ]
     },
     "execution_count": 47,
     "metadata": {},
     "output_type": "execute_result"
    }
   ],
   "source": [
    "svm_sigmoid_model = SVC(kernel='sigmoid')\n",
    "svm_sigmoid_model.fit(x_train,y_train)"
   ]
  },
  {
   "cell_type": "code",
   "execution_count": 48,
   "id": "a4a03e0c",
   "metadata": {},
   "outputs": [
    {
     "name": "stdout",
     "output_type": "stream",
     "text": [
      "precision score = 0.912621359223301 \n",
      "\n",
      "accuracy score = 0.8883248730964467 \n",
      "\n",
      "f1 score = 0.8952380952380954 \n",
      "\n",
      "recall score = 0.8785046728971962 \n",
      "\n"
     ]
    }
   ],
   "source": [
    "y_pred_sigmoid = svm_sigmoid_model.predict(x_test)\n",
    "print('precision score =', precision_score(y_test, y_pred_sigmoid), '\\n')\n",
    "print('accuracy score =', accuracy_score(y_test, y_pred_sigmoid), '\\n')\n",
    "print('f1 score =', f1_score(y_test, y_pred_sigmoid), '\\n')\n",
    "print('recall score =', recall_score(y_test, y_pred_sigmoid), '\\n')"
   ]
  }
 ],
 "metadata": {
  "kernelspec": {
   "display_name": "Python 3 (ipykernel)",
   "language": "python",
   "name": "python3"
  },
  "language_info": {
   "codemirror_mode": {
    "name": "ipython",
    "version": 3
   },
   "file_extension": ".py",
   "mimetype": "text/x-python",
   "name": "python",
   "nbconvert_exporter": "python",
   "pygments_lexer": "ipython3",
   "version": "3.9.13"
  }
 },
 "nbformat": 4,
 "nbformat_minor": 5
}
