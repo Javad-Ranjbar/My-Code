{
 "cells": [
  {
   "cell_type": "markdown",
   "id": "4687c275",
   "metadata": {},
   "source": [
    "# Javad Ranjbar Kermani\n",
    "# 400209795\n",
    "# Question 3\n",
    "# Logistic Regression and naive_bayes"
   ]
  },
  {
   "cell_type": "markdown",
   "id": "4658d11a",
   "metadata": {},
   "source": [
    "### import libraries"
   ]
  },
  {
   "cell_type": "code",
   "execution_count": 1,
   "id": "e0a9efc1",
   "metadata": {},
   "outputs": [],
   "source": [
    "import numpy as np\n",
    "import pandas as pd\n",
    "import matplotlib.pyplot as plt"
   ]
  },
  {
   "cell_type": "markdown",
   "id": "36a30a1a",
   "metadata": {},
   "source": [
    "### Data processing"
   ]
  },
  {
   "cell_type": "code",
   "execution_count": 2,
   "id": "b8ed293b",
   "metadata": {},
   "outputs": [
    {
     "data": {
      "text/html": [
       "<div>\n",
       "<style scoped>\n",
       "    .dataframe tbody tr th:only-of-type {\n",
       "        vertical-align: middle;\n",
       "    }\n",
       "\n",
       "    .dataframe tbody tr th {\n",
       "        vertical-align: top;\n",
       "    }\n",
       "\n",
       "    .dataframe thead th {\n",
       "        text-align: right;\n",
       "    }\n",
       "</style>\n",
       "<table border=\"1\" class=\"dataframe\">\n",
       "  <thead>\n",
       "    <tr style=\"text-align: right;\">\n",
       "      <th></th>\n",
       "      <th>Recency (months)</th>\n",
       "      <th>Frequency (times)</th>\n",
       "      <th>Monetary (c.c. blood)</th>\n",
       "      <th>Time (months)</th>\n",
       "      <th>whether he/she donated blood in March 2007</th>\n",
       "    </tr>\n",
       "  </thead>\n",
       "  <tbody>\n",
       "    <tr>\n",
       "      <th>0</th>\n",
       "      <td>2</td>\n",
       "      <td>50</td>\n",
       "      <td>12500</td>\n",
       "      <td>98</td>\n",
       "      <td>1</td>\n",
       "    </tr>\n",
       "    <tr>\n",
       "      <th>1</th>\n",
       "      <td>0</td>\n",
       "      <td>13</td>\n",
       "      <td>3250</td>\n",
       "      <td>28</td>\n",
       "      <td>1</td>\n",
       "    </tr>\n",
       "    <tr>\n",
       "      <th>2</th>\n",
       "      <td>1</td>\n",
       "      <td>16</td>\n",
       "      <td>4000</td>\n",
       "      <td>35</td>\n",
       "      <td>1</td>\n",
       "    </tr>\n",
       "    <tr>\n",
       "      <th>3</th>\n",
       "      <td>2</td>\n",
       "      <td>20</td>\n",
       "      <td>5000</td>\n",
       "      <td>45</td>\n",
       "      <td>1</td>\n",
       "    </tr>\n",
       "    <tr>\n",
       "      <th>4</th>\n",
       "      <td>1</td>\n",
       "      <td>24</td>\n",
       "      <td>6000</td>\n",
       "      <td>77</td>\n",
       "      <td>0</td>\n",
       "    </tr>\n",
       "  </tbody>\n",
       "</table>\n",
       "</div>"
      ],
      "text/plain": [
       "   Recency (months)  Frequency (times)  Monetary (c.c. blood)  Time (months)  \\\n",
       "0                 2                 50                  12500             98   \n",
       "1                 0                 13                   3250             28   \n",
       "2                 1                 16                   4000             35   \n",
       "3                 2                 20                   5000             45   \n",
       "4                 1                 24                   6000             77   \n",
       "\n",
       "   whether he/she donated blood in March 2007  \n",
       "0                                           1  \n",
       "1                                           1  \n",
       "2                                           1  \n",
       "3                                           1  \n",
       "4                                           0  "
      ]
     },
     "execution_count": 2,
     "metadata": {},
     "output_type": "execute_result"
    }
   ],
   "source": [
    "df=pd.read_csv('transfusion.csv')\n",
    "df.head()"
   ]
  },
  {
   "cell_type": "code",
   "execution_count": 3,
   "id": "027be6e9",
   "metadata": {},
   "outputs": [],
   "source": [
    "values=df.values\n",
    "feature_names=df.columns"
   ]
  },
  {
   "cell_type": "code",
   "execution_count": 4,
   "id": "81deb73f",
   "metadata": {},
   "outputs": [
    {
     "name": "stdout",
     "output_type": "stream",
     "text": [
      "(748, 4)\n"
     ]
    }
   ],
   "source": [
    "index_blood_donate=np.where(feature_names=='whether he/she donated blood in March 2007')\n",
    "tags=values[:,index_blood_donate].reshape((values.shape[0],)) # labels\n",
    "features=values[:,0:-1] # features\n",
    "print(features.shape)"
   ]
  },
  {
   "cell_type": "code",
   "execution_count": 5,
   "id": "5e1e4def",
   "metadata": {},
   "outputs": [
    {
     "data": {
      "image/png": "[encoded data removed]",
      "text/plain": [
       "<Figure size 640x480 with 1 Axes>"
      ]
     },
     "metadata": {},
     "output_type": "display_data"
    }
   ],
   "source": [
    "class0_number=np.size(tags[tags==0])\n",
    "class1_number=np.size(tags[tags==1])\n",
    "# plotting number of data in two different label\n",
    "a=['class 0','class 1']\n",
    "plot = plt.bar(a,[class0_number,class1_number],width=0.2 , color='red')"
   ]
  },
  {
   "cell_type": "code",
   "execution_count": 6,
   "id": "6271a39b",
   "metadata": {},
   "outputs": [
    {
     "data": {
      "text/plain": [
       "(748, 4)"
      ]
     },
     "execution_count": 6,
     "metadata": {},
     "output_type": "execute_result"
    }
   ],
   "source": [
    "# normalization of data\n",
    "MV_features_normalized=np.ones((features.shape))\n",
    "for i in range(4):    \n",
    "    MV_features_normalized[:,i]=(features[:,i]-features[:,i].mean())/features[:,i].std()\n",
    "MV_features_normalized.shape"
   ]
  },
  {
   "cell_type": "markdown",
   "id": "5d1a3a99",
   "metadata": {},
   "source": [
    "## a) Logistic regression and naive bayes method and cross validation"
   ]
  },
  {
   "cell_type": "code",
   "execution_count": 7,
   "id": "a4d87d5c",
   "metadata": {},
   "outputs": [],
   "source": [
    "from sklearn.model_selection import train_test_split\n",
    "x_train,x_test,y_train,y_test = train_test_split(MV_features_normalized,tags,test_size=0.2,random_state=42)"
   ]
  },
  {
   "cell_type": "markdown",
   "id": "26948b8a",
   "metadata": {},
   "source": [
    "## Logistic Regression"
   ]
  },
  {
   "cell_type": "code",
   "execution_count": 8,
   "id": "c194547d",
   "metadata": {},
   "outputs": [],
   "source": [
    "from sklearn.linear_model import LogisticRegression\n",
    "from sklearn.model_selection import GridSearchCV"
   ]
  },
  {
   "cell_type": "code",
   "execution_count": 9,
   "id": "05d34fdf",
   "metadata": {},
   "outputs": [],
   "source": [
    "# cross validation\n",
    "grid_param = {'C' : [0.1, 1, 10, 20], 'solver' : ['lbfgs','sag', 'saga'],'tol' :[1e-2, 1e-3, 1e-4]}\n",
    "LR_model = LogisticRegression(class_weight='balanced', max_iter=10000, random_state=42)\n",
    "LR_grid = GridSearchCV(estimator = LR_model, param_grid = grid_param, cv = 5)\n",
    "LR_grid.fit(x_train,y_train)\n",
    "best_LR_grid = LR_grid.best_estimator_"
   ]
  },
  {
   "cell_type": "code",
   "execution_count": 10,
   "id": "c6a45bdb",
   "metadata": {},
   "outputs": [
    {
     "name": "stdout",
     "output_type": "stream",
     "text": [
      "weights1: [[-0.67350987  0.35183304  0.35183304 -0.4688879 ]]\n",
      "bias1: [-0.23335773]\n"
     ]
    }
   ],
   "source": [
    "weights1= np.array(best_LR_grid.coef_)\n",
    "bias1= best_LR_grid.intercept_\n",
    "print('weights1:',weights1)\n",
    "print('bias1:',bias1)"
   ]
  },
  {
   "cell_type": "markdown",
   "id": "59faf3f4",
   "metadata": {},
   "source": [
    "## Naive Bayes\n",
    "### Gaussian"
   ]
  },
  {
   "cell_type": "code",
   "execution_count": 11,
   "id": "37b7fbce",
   "metadata": {},
   "outputs": [],
   "source": [
    "from sklearn.naive_bayes import GaussianNB\n",
    "# cross validation\n",
    "grid_param2 = {'var_smoothing' : [1e-9, 1e-8, 1e-10, 1e-7]}\n",
    "NVG_model = GaussianNB()\n",
    "NVG_grid = GridSearchCV(estimator = NVG_model, param_grid = grid_param2, cv = 5)\n",
    "NVG_grid.fit(x_train,y_train)\n",
    "best_NVG_grid = NVG_grid.best_estimator_"
   ]
  },
  {
   "cell_type": "markdown",
   "id": "e32f56a8",
   "metadata": {},
   "source": [
    "### Bernoulli"
   ]
  },
  {
   "cell_type": "code",
   "execution_count": 12,
   "id": "ee26e741",
   "metadata": {},
   "outputs": [],
   "source": [
    "from sklearn.naive_bayes import BernoulliNB\n",
    "# cross validation\n",
    "grid_param3 = {'alpha' : [0.1, 1, 10, 20], 'binarize' : [0 ,1 , 2, 3]}\n",
    "NVB_model = BernoulliNB()\n",
    "NVB_grid = GridSearchCV(estimator = NVB_model, param_grid = grid_param3, cv = 5)\n",
    "NVB_grid.fit(x_train,y_train)\n",
    "best_NVB_grid = NVB_grid.best_estimator_"
   ]
  },
  {
   "cell_type": "markdown",
   "id": "24b2a6c0",
   "metadata": {},
   "source": [
    "##  b) f1 score, recall, and precision"
   ]
  },
  {
   "cell_type": "code",
   "execution_count": 13,
   "id": "fe4a980d",
   "metadata": {},
   "outputs": [
    {
     "name": "stdout",
     "output_type": "stream",
     "text": [
      "train precision = 0.6468336383129203\n",
      "train recall = 0.7029812064497105\n",
      "train F1 score = 0.6301725510366534\n",
      "\n",
      "test precision = 0.6412515734580111\n",
      "test recall = 0.687873714422387\n",
      "test F1 score = 0.6320643642072213\n",
      "\n",
      "train precision = 0.6272030651340996\n",
      "train recall = 0.5618278318357466\n",
      "train F1 score = 0.5629602374964089\n",
      "\n",
      "test precision = 0.6376811594202898\n",
      "test recall = 0.5545324085147094\n",
      "test F1 score = 0.5487438003089682\n",
      "\n",
      "train precision = 0.6648467432950191\n",
      "train recall = 0.5267082576780422\n",
      "train F1 score = 0.49587283103776625\n",
      "\n",
      "test precision = 0.7585616438356164\n",
      "test recall = 0.5361157617794786\n",
      "test F1 score = 0.5056031641397495\n"
     ]
    }
   ],
   "source": [
    "from sklearn.metrics import recall_score,f1_score,precision_score\n",
    "\n",
    "y_test_predicted_LR = best_LR_grid.predict(x_test) # prediction of tets data logistic regression\n",
    "y_train_predicted_LR = best_LR_grid.predict(x_train) # prediction of train data logistic regression\n",
    "\n",
    "y_test_predicted_NVG = best_NVG_grid.predict(x_test) # prediction of test data naive bayes gaussian\n",
    "y_train_predicted_NVG = best_NVG_grid.predict(x_train) # prediction of train data naive bayes gaussian\n",
    "\n",
    "y_test_predicted_NVB = best_NVB_grid.predict(x_test) # prediction of test data naive bayes bernoulli\n",
    "y_train_predicted_NVB = best_NVB_grid.predict(x_train) # prediction of train data naive bayes bernoulli\n",
    "\n",
    "precision_score_train_LR=precision_score(y_train,y_train_predicted_LR, average='macro')\n",
    "precision_score_test_LR=precision_score(y_test,y_test_predicted_LR, average='macro')\n",
    "\n",
    "precision_score_train_NVG=precision_score(y_train,y_train_predicted_NVG, average='macro')\n",
    "precision_score_test_NVG=precision_score(y_test,y_test_predicted_NVG, average='macro')\n",
    "\n",
    "precision_score_train_NVB=precision_score(y_train,y_train_predicted_NVB, average='macro')\n",
    "precision_score_test_NVB=precision_score(y_test,y_test_predicted_NVB, average='macro')\n",
    "\n",
    "recall_score_train_LR=recall_score(y_train,y_train_predicted_LR, average='macro')\n",
    "recall_score_test_LR=recall_score(y_test,y_test_predicted_LR, average='macro')\n",
    "\n",
    "recall_score_train_NVG=recall_score(y_train,y_train_predicted_NVG, average='macro')\n",
    "recall_score_test_NVG=recall_score(y_test,y_test_predicted_NVG, average='macro')\n",
    "\n",
    "recall_score_train_NVB=recall_score(y_train,y_train_predicted_NVB, average='macro')\n",
    "recall_score_test_NVB=recall_score(y_test,y_test_predicted_NVB, average='macro')\n",
    "\n",
    "f1_score_train_LR=f1_score(y_train,y_train_predicted_LR, average='macro')\n",
    "f1_score_test_LR=f1_score(y_test,y_test_predicted_LR, average='macro')\n",
    "\n",
    "f1_score_train_NVG=f1_score(y_train,y_train_predicted_NVG, average='macro')\n",
    "f1_score_test_NVG=f1_score(y_test,y_test_predicted_NVG, average='macro')\n",
    "\n",
    "f1_score_train_NVB=f1_score(y_train,y_train_predicted_NVB, average='macro')\n",
    "f1_score_test_NVB=f1_score(y_test,y_test_predicted_NVB, average='macro')\n",
    "\n",
    "print('train precision =',precision_score_train_LR)\n",
    "print('train recall =',recall_score_train_LR)\n",
    "print('train F1 score =',f1_score_train_LR)\n",
    "print('\\ntest precision =',precision_score_test_LR)\n",
    "print('test recall =',recall_score_test_LR)\n",
    "print('test F1 score =',f1_score_test_LR)\n",
    "print('\\ntrain precision =',precision_score_train_NVG)\n",
    "print('train recall =',recall_score_train_NVG)\n",
    "print('train F1 score =',f1_score_train_NVG)\n",
    "print('\\ntest precision =',precision_score_test_NVG)\n",
    "print('test recall =',recall_score_test_NVG)\n",
    "print('test F1 score =',f1_score_test_NVG)\n",
    "print('\\ntrain precision =',precision_score_train_NVB)\n",
    "print('train recall =',recall_score_train_NVB)\n",
    "print('train F1 score =',f1_score_train_NVB)\n",
    "print('\\ntest precision =',precision_score_test_NVB)\n",
    "print('test recall =',recall_score_test_NVB)\n",
    "print('test F1 score =',f1_score_test_NVB)"
   ]
  },
  {
   "cell_type": "markdown",
   "id": "cfb1fa35",
   "metadata": {},
   "source": [
    "### Logistic Regression"
   ]
  },
  {
   "cell_type": "code",
   "execution_count": 14,
   "id": "fa7f81a0",
   "metadata": {},
   "outputs": [],
   "source": [
    "LR_model = LogisticRegression(C = 0.1)\n",
    "LR_model.fit(x_train,y_train)\n",
    "y_pred = LR_model.predict(x_test)\n",
    "LR_score_recall = recall_score(y_test, y_pred)\n",
    "LR_score_f1 = f1_score(y_test, y_pred)\n",
    "LR_score_precision = precision_score(y_test, y_pred)"
   ]
  },
  {
   "cell_type": "code",
   "execution_count": 15,
   "id": "00c3dadc",
   "metadata": {},
   "outputs": [
    {
     "name": "stdout",
     "output_type": "stream",
     "text": [
      "0.08108108108108109\n",
      "0.13953488372093023\n"
     ]
    }
   ],
   "source": [
    "print(LR_score_recall)\n",
    "print(LR_score_f1)"
   ]
  },
  {
   "cell_type": "markdown",
   "id": "e2fe173d",
   "metadata": {},
   "source": [
    "## Naive Bayes\n",
    "### Gaussian"
   ]
  },
  {
   "cell_type": "code",
   "execution_count": 16,
   "id": "85c7eea4",
   "metadata": {},
   "outputs": [],
   "source": [
    "NVG_model = GaussianNB(var_smoothing=1e-8)\n",
    "NVG_model.fit(x_train,y_train)\n",
    "y_pred = NVG_model.predict(x_test)\n",
    "NVG_score_recall = recall_score(y_test, y_pred)\n",
    "NVG_score_f1 = f1_score(y_test, y_pred)\n",
    "NVG_score_precision = precision_score(y_test, y_pred)"
   ]
  },
  {
   "cell_type": "code",
   "execution_count": 17,
   "id": "000ed9fe",
   "metadata": {},
   "outputs": [
    {
     "name": "stdout",
     "output_type": "stream",
     "text": [
      "0.16216216216216217\n",
      "0.2448979591836735\n"
     ]
    }
   ],
   "source": [
    "print(NVG_score_recall)\n",
    "print(NVG_score_f1)"
   ]
  },
  {
   "cell_type": "markdown",
   "id": "d59568a7",
   "metadata": {},
   "source": [
    "### Bernoulli"
   ]
  },
  {
   "cell_type": "code",
   "execution_count": 18,
   "id": "d18ebc65",
   "metadata": {},
   "outputs": [],
   "source": [
    "NVB_model = BernoulliNB(alpha = 0.1)\n",
    "NVB_model.fit(x_train,y_train)\n",
    "y_pred = NVB_model.predict(x_test)\n",
    "NVB_score_recall = recall_score(y_test, y_pred)\n",
    "NVB_score_f1 = f1_score(y_test, y_pred)\n",
    "NVB_score_precision = precision_score(y_test, y_pred)"
   ]
  },
  {
   "cell_type": "code",
   "execution_count": 19,
   "id": "9cbd1d57",
   "metadata": {},
   "outputs": [
    {
     "name": "stdout",
     "output_type": "stream",
     "text": [
      "0.43243243243243246\n",
      "0.4507042253521127\n"
     ]
    }
   ],
   "source": [
    "print(NVB_score_recall)\n",
    "print(NVB_score_f1)"
   ]
  },
  {
   "cell_type": "markdown",
   "id": "92687496",
   "metadata": {},
   "source": [
    "## C) Investgating about the low values of  f1 score, recall, and precision"
   ]
  },
  {
   "cell_type": "code",
   "execution_count": 20,
   "id": "28090f76",
   "metadata": {},
   "outputs": [
    {
     "name": "stdout",
     "output_type": "stream",
     "text": [
      "0    570\n",
      "1    178\n",
      "dtype: int64\n"
     ]
    },
    {
     "data": {
      "text/html": [
       "<div>\n",
       "<style scoped>\n",
       "    .dataframe tbody tr th:only-of-type {\n",
       "        vertical-align: middle;\n",
       "    }\n",
       "\n",
       "    .dataframe tbody tr th {\n",
       "        vertical-align: top;\n",
       "    }\n",
       "\n",
       "    .dataframe thead th {\n",
       "        text-align: right;\n",
       "    }\n",
       "</style>\n",
       "<table border=\"1\" class=\"dataframe\">\n",
       "  <thead>\n",
       "    <tr style=\"text-align: right;\">\n",
       "      <th></th>\n",
       "      <th>Recency (months)</th>\n",
       "      <th>Frequency (times)</th>\n",
       "      <th>Monetary (c.c. blood)</th>\n",
       "      <th>Time (months)</th>\n",
       "      <th>whether he/she donated blood in March 2007</th>\n",
       "    </tr>\n",
       "  </thead>\n",
       "  <tbody>\n",
       "    <tr>\n",
       "      <th>0</th>\n",
       "      <td>2</td>\n",
       "      <td>50</td>\n",
       "      <td>12500</td>\n",
       "      <td>98</td>\n",
       "      <td>1</td>\n",
       "    </tr>\n",
       "    <tr>\n",
       "      <th>1</th>\n",
       "      <td>0</td>\n",
       "      <td>13</td>\n",
       "      <td>3250</td>\n",
       "      <td>28</td>\n",
       "      <td>1</td>\n",
       "    </tr>\n",
       "    <tr>\n",
       "      <th>2</th>\n",
       "      <td>1</td>\n",
       "      <td>16</td>\n",
       "      <td>4000</td>\n",
       "      <td>35</td>\n",
       "      <td>1</td>\n",
       "    </tr>\n",
       "    <tr>\n",
       "      <th>3</th>\n",
       "      <td>2</td>\n",
       "      <td>20</td>\n",
       "      <td>5000</td>\n",
       "      <td>45</td>\n",
       "      <td>1</td>\n",
       "    </tr>\n",
       "    <tr>\n",
       "      <th>6</th>\n",
       "      <td>2</td>\n",
       "      <td>7</td>\n",
       "      <td>1750</td>\n",
       "      <td>14</td>\n",
       "      <td>1</td>\n",
       "    </tr>\n",
       "  </tbody>\n",
       "</table>\n",
       "</div>"
      ],
      "text/plain": [
       "   Recency (months)  Frequency (times)  Monetary (c.c. blood)  Time (months)  \\\n",
       "0                 2                 50                  12500             98   \n",
       "1                 0                 13                   3250             28   \n",
       "2                 1                 16                   4000             35   \n",
       "3                 2                 20                   5000             45   \n",
       "6                 2                  7                   1750             14   \n",
       "\n",
       "   whether he/she donated blood in March 2007  \n",
       "0                                           1  \n",
       "1                                           1  \n",
       "2                                           1  \n",
       "3                                           1  \n",
       "6                                           1  "
      ]
     },
     "execution_count": 20,
     "metadata": {},
     "output_type": "execute_result"
    }
   ],
   "source": [
    "print(pd.value_counts(tags))\n",
    "df_new = pd.concat(([df[tags==1],df[tags==0][0:178]]))\n",
    "df_new.head()"
   ]
  },
  {
   "cell_type": "code",
   "execution_count": 21,
   "id": "822c4887",
   "metadata": {},
   "outputs": [
    {
     "name": "stdout",
     "output_type": "stream",
     "text": [
      "(748, 4)\n"
     ]
    }
   ],
   "source": [
    "values_new=df_new.values\n",
    "feature_names_new=df_new.columns\n",
    "index_blood_donate=np.where(feature_names_new=='whether he/she donated blood in March 2007')\n",
    "tags_new=values_new[:,index_blood_donate].reshape((values_new.shape[0],))\n",
    "features_new=values_new[:,0:-1]\n",
    "print(features.shape)"
   ]
  },
  {
   "cell_type": "code",
   "execution_count": 22,
   "id": "8876c869",
   "metadata": {},
   "outputs": [
    {
     "data": {
      "image/png": "[encoded data removed]",
      "text/plain": [
       "<Figure size 640x480 with 1 Axes>"
      ]
     },
     "metadata": {},
     "output_type": "display_data"
    }
   ],
   "source": [
    "class0_number_new=np.size(tags_new[tags_new==0])\n",
    "class1_number_new=np.size(tags_new[tags_new==1])\n",
    "\n",
    "# plotting number of data in two different label\n",
    "a=['class 0','class 1']\n",
    "plot = plt.bar(a,[class0_number_new , class1_number_new],width=0.2 , color='red')"
   ]
  },
  {
   "cell_type": "code",
   "execution_count": 23,
   "id": "753554e9",
   "metadata": {},
   "outputs": [
    {
     "data": {
      "text/plain": [
       "(356, 4)"
      ]
     },
     "execution_count": 23,
     "metadata": {},
     "output_type": "execute_result"
    }
   ],
   "source": [
    "#normalization\n",
    "MV_features_normalized_new=np.ones((features_new.shape))\n",
    "for i in range(4):    \n",
    "    MV_features_normalized_new[:,i]=(features_new[:,i]-features_new[:,i].mean())/features_new[:,i].std()\n",
    "MV_features_normalized_new.shape"
   ]
  },
  {
   "cell_type": "code",
   "execution_count": 24,
   "id": "704dcc84",
   "metadata": {},
   "outputs": [],
   "source": [
    "X_train,X_test,Y_train,Y_test = train_test_split(MV_features_normalized_new , tags_new ,test_size=0.2,random_state=42)"
   ]
  },
  {
   "cell_type": "markdown",
   "id": "920995c8",
   "metadata": {},
   "source": [
    "### logistic regression"
   ]
  },
  {
   "cell_type": "code",
   "execution_count": 25,
   "id": "b3c5a584",
   "metadata": {},
   "outputs": [],
   "source": [
    "LR_model_new = LogisticRegression(C = 0.1)\n",
    "LR_model_new.fit(X_train,Y_train)\n",
    "Y_pred = LR_model_new.predict(X_test)\n",
    "LR_score_recall = recall_score(Y_test, Y_pred)\n",
    "LR_score_f1 = f1_score(Y_test, Y_pred)\n",
    "LR_score_precision = precision_score(Y_test, Y_pred)"
   ]
  },
  {
   "cell_type": "code",
   "execution_count": 26,
   "id": "d9847273",
   "metadata": {},
   "outputs": [
    {
     "name": "stdout",
     "output_type": "stream",
     "text": [
      "0.3055555555555556\n",
      "0.39285714285714285\n"
     ]
    }
   ],
   "source": [
    "print(LR_score_recall)\n",
    "print(LR_score_f1)"
   ]
  },
  {
   "cell_type": "markdown",
   "id": "f5ffd92f",
   "metadata": {},
   "source": [
    "### Naive Bayes\n",
    "### Gaussian"
   ]
  },
  {
   "cell_type": "code",
   "execution_count": 27,
   "id": "870794c4",
   "metadata": {},
   "outputs": [],
   "source": [
    "NVG_model_new = GaussianNB(var_smoothing=1e-8)\n",
    "NVG_model_new.fit(X_train,Y_train)\n",
    "Y_pred = NVG_model_new.predict(X_test)\n",
    "NVG_score_recall = recall_score(Y_test, Y_pred)\n",
    "NVG_score_f1 = f1_score(Y_test, Y_pred)\n",
    "NVG_score_precision = precision_score(Y_test, Y_pred)"
   ]
  },
  {
   "cell_type": "code",
   "execution_count": 28,
   "id": "79954067",
   "metadata": {},
   "outputs": [
    {
     "name": "stdout",
     "output_type": "stream",
     "text": [
      "0.16666666666666666\n",
      "0.25\n"
     ]
    }
   ],
   "source": [
    "print(NVG_score_recall)\n",
    "print(NVG_score_f1)"
   ]
  },
  {
   "cell_type": "code",
   "execution_count": 29,
   "id": "28f464ce",
   "metadata": {},
   "outputs": [],
   "source": [
    "NVB_model_new = BernoulliNB(alpha = 0.1)\n",
    "NVB_model_new.fit(X_train,Y_train)\n",
    "Y_pred = NVB_model_new.predict(X_test)\n",
    "NVB_score_recall = recall_score(Y_test, Y_pred)\n",
    "NVB_score_f1 = f1_score(Y_test, Y_pred)\n",
    "NVB_score_precision = precision_score(Y_test, Y_pred)"
   ]
  },
  {
   "cell_type": "code",
   "execution_count": 30,
   "id": "d342c01c",
   "metadata": {},
   "outputs": [],
   "source": [
    "grid_param_new = {'C' : [0.1, 1, 10, 20], 'solver' : ['lbfgs','sag', 'saga'],'tol' :[1e-2, 1e-3, 1e-4]}\n",
    "LR_model_new1 = LogisticRegression(max_iter=10000, random_state=42)\n",
    "LR_grid_new = GridSearchCV(estimator = LR_model_new1, param_grid = grid_param_new, cv = 5)\n",
    "LR_grid_new.fit(X_train,Y_train)\n",
    "best_LR_grid_new = LR_grid_new.best_estimator_"
   ]
  },
  {
   "cell_type": "code",
   "execution_count": 31,
   "id": "75df1fbe",
   "metadata": {},
   "outputs": [
    {
     "name": "stdout",
     "output_type": "stream",
     "text": [
      "weights2: [[ 0.29472984  0.21996768  0.21996768 -0.19322572]]\n",
      "bias2: [-0.01007945]\n"
     ]
    }
   ],
   "source": [
    "weights2= np.array(best_LR_grid_new.coef_)\n",
    "bias2= best_LR_grid_new.intercept_\n",
    "print('weights2:',weights2)\n",
    "print('bias2:',bias2)"
   ]
  }
 ],
 "metadata": {
  "kernelspec": {
   "display_name": "Python 3 (ipykernel)",
   "language": "python",
   "name": "python3"
  },
  "language_info": {
   "codemirror_mode": {
    "name": "ipython",
    "version": 3
   },
   "file_extension": ".py",
   "mimetype": "text/x-python",
   "name": "python",
   "nbconvert_exporter": "python",
   "pygments_lexer": "ipython3",
   "version": "3.9.13"
  }
 },
 "nbformat": 4,
 "nbformat_minor": 5
}
