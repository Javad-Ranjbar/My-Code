{
 "cells": [
  {
   "cell_type": "markdown",
   "id": "f7766f79",
   "metadata": {},
   "source": [
    "## Javad Ranjbar Kermani\n",
    "## 400209795\n",
    "## Question 5 part c\n",
    "## Ensemble learning (creating 10 bootstrap)"
   ]
  },
  {
   "cell_type": "code",
   "execution_count": 1,
   "id": "98b78a4b",
   "metadata": {},
   "outputs": [],
   "source": [
    "#importing libraries\n",
    "import numpy as np\n",
    "import pandas as pd\n",
    "import matplotlib.pyplot as plt"
   ]
  },
  {
   "cell_type": "code",
   "execution_count": 2,
   "id": "0b1654a5",
   "metadata": {},
   "outputs": [
    {
     "data": {
      "text/html": [
       "<div>\n",
       "<style scoped>\n",
       "    .dataframe tbody tr th:only-of-type {\n",
       "        vertical-align: middle;\n",
       "    }\n",
       "\n",
       "    .dataframe tbody tr th {\n",
       "        vertical-align: top;\n",
       "    }\n",
       "\n",
       "    .dataframe thead th {\n",
       "        text-align: right;\n",
       "    }\n",
       "</style>\n",
       "<table border=\"1\" class=\"dataframe\">\n",
       "  <thead>\n",
       "    <tr style=\"text-align: right;\">\n",
       "      <th></th>\n",
       "      <th>Recency (months)</th>\n",
       "      <th>Frequency (times)</th>\n",
       "      <th>Monetary (c.c. blood)</th>\n",
       "      <th>Time (months)</th>\n",
       "      <th>whether he/she donated blood in March 2007</th>\n",
       "    </tr>\n",
       "  </thead>\n",
       "  <tbody>\n",
       "    <tr>\n",
       "      <th>0</th>\n",
       "      <td>2</td>\n",
       "      <td>50</td>\n",
       "      <td>12500</td>\n",
       "      <td>98</td>\n",
       "      <td>1</td>\n",
       "    </tr>\n",
       "    <tr>\n",
       "      <th>1</th>\n",
       "      <td>0</td>\n",
       "      <td>13</td>\n",
       "      <td>3250</td>\n",
       "      <td>28</td>\n",
       "      <td>1</td>\n",
       "    </tr>\n",
       "    <tr>\n",
       "      <th>2</th>\n",
       "      <td>1</td>\n",
       "      <td>16</td>\n",
       "      <td>4000</td>\n",
       "      <td>35</td>\n",
       "      <td>1</td>\n",
       "    </tr>\n",
       "    <tr>\n",
       "      <th>3</th>\n",
       "      <td>2</td>\n",
       "      <td>20</td>\n",
       "      <td>5000</td>\n",
       "      <td>45</td>\n",
       "      <td>1</td>\n",
       "    </tr>\n",
       "    <tr>\n",
       "      <th>4</th>\n",
       "      <td>1</td>\n",
       "      <td>24</td>\n",
       "      <td>6000</td>\n",
       "      <td>77</td>\n",
       "      <td>0</td>\n",
       "    </tr>\n",
       "  </tbody>\n",
       "</table>\n",
       "</div>"
      ],
      "text/plain": [
       "   Recency (months)  Frequency (times)  Monetary (c.c. blood)  Time (months)  \\\n",
       "0                 2                 50                  12500             98   \n",
       "1                 0                 13                   3250             28   \n",
       "2                 1                 16                   4000             35   \n",
       "3                 2                 20                   5000             45   \n",
       "4                 1                 24                   6000             77   \n",
       "\n",
       "   whether he/she donated blood in March 2007  \n",
       "0                                           1  \n",
       "1                                           1  \n",
       "2                                           1  \n",
       "3                                           1  \n",
       "4                                           0  "
      ]
     },
     "execution_count": 2,
     "metadata": {},
     "output_type": "execute_result"
    }
   ],
   "source": [
    "df = pd.read_csv('transfusion.data')\n",
    "df.head()"
   ]
  },
  {
   "cell_type": "code",
   "execution_count": 3,
   "id": "44f8ace1",
   "metadata": {},
   "outputs": [],
   "source": [
    "x = df.iloc[:, 0:-1] #features\n",
    "y = df.iloc[:, -1] #labels"
   ]
  },
  {
   "cell_type": "code",
   "execution_count": 4,
   "id": "7ea4b414",
   "metadata": {},
   "outputs": [],
   "source": [
    "#split the dataset into train, valid and test\n",
    "from sklearn.model_selection import train_test_split\n",
    "x_train_valid, x_test, y_train_valid, y_test = train_test_split(x, y, test_size=0.2, random_state=42)\n",
    "x_train, x_valid, y_train, y_valid = train_test_split(x_train_valid, y_train_valid, test_size=0.1, random_state=42)"
   ]
  },
  {
   "cell_type": "code",
   "execution_count": 5,
   "id": "dd1adf24",
   "metadata": {},
   "outputs": [
    {
     "data": {
      "text/plain": [
       "BaggingClassifier(max_samples=0.1, random_state=42)"
      ]
     },
     "execution_count": 5,
     "metadata": {},
     "output_type": "execute_result"
    }
   ],
   "source": [
    "# bagging with decision tree estimators\n",
    "# creating 10 bootstrap usuing max_sample=0.1 and bootstrap=True\n",
    "from sklearn.ensemble import BaggingClassifier\n",
    "bagging_model = BaggingClassifier(n_estimators=10, max_samples=0.1, bootstrap=True, random_state=42)\n",
    "bagging_model.fit(x_train, y_train)"
   ]
  },
  {
   "cell_type": "code",
   "execution_count": 6,
   "id": "eb5cfe9c",
   "metadata": {},
   "outputs": [
    {
     "name": "stdout",
     "output_type": "stream",
     "text": [
      "accuracy_score : \n",
      "\n",
      "train : 0.8159851301115242\n",
      "valid : 0.7333333333333333\n",
      "test : 0.7733333333333333 \n",
      "\n",
      "precision_score : \n",
      "\n",
      "train : 0.7450980392156863\n",
      "valid : 0.5555555555555556\n",
      "test : 0.6363636363636364 \n",
      "\n",
      "f1_score : \n",
      "\n",
      "train : 0.4342857142857143\n",
      "valid : 0.3846153846153846\n",
      "test : 0.2916666666666667 \n",
      "\n",
      "recall_score : \n",
      "\n",
      "train : 0.3064516129032258\n",
      "valid : 0.29411764705882354\n",
      "test : 0.1891891891891892 \n",
      "\n"
     ]
    }
   ],
   "source": [
    "from sklearn.metrics import precision_score, f1_score, accuracy_score, recall_score\n",
    "y_pred_train = bagging_model.predict(x_train)\n",
    "y_pred_valid = bagging_model.predict(x_valid)\n",
    "y_pred_test = bagging_model.predict(x_test)\n",
    "print('accuracy_score :', '\\n')\n",
    "print(f'train : {accuracy_score(y_train, y_pred_train)}')\n",
    "print(f'valid : {accuracy_score(y_valid, y_pred_valid)}')\n",
    "print(f'test : {accuracy_score(y_test, y_pred_test)}', '\\n')\n",
    "print('precision_score :', '\\n')\n",
    "print(f'train : {precision_score(y_train, y_pred_train)}')\n",
    "print(f'valid : {precision_score(y_valid, y_pred_valid)}')\n",
    "print(f'test : {precision_score(y_test, y_pred_test)}', '\\n')\n",
    "print('f1_score :', '\\n')\n",
    "print(f'train : {f1_score(y_train, y_pred_train)}')\n",
    "print(f'valid : {f1_score(y_valid, y_pred_valid)}')\n",
    "print(f'test : {f1_score(y_test, y_pred_test)}', '\\n')\n",
    "print('recall_score :', '\\n')\n",
    "print(f'train : {recall_score(y_train, y_pred_train)}')\n",
    "print(f'valid : {recall_score(y_valid, y_pred_valid)}')\n",
    "print(f'test : {recall_score(y_test, y_pred_test)}', '\\n')"
   ]
  },
  {
   "cell_type": "code",
   "execution_count": 7,
   "id": "800c7ea5",
   "metadata": {},
   "outputs": [
    {
     "data": {
      "text/plain": [
       "BaggingClassifier(max_samples=0.1, random_state=42)"
      ]
     },
     "execution_count": 7,
     "metadata": {},
     "output_type": "execute_result"
    }
   ],
   "source": [
    "# random forest with 10 estimators\n",
    "# creating 10 bootstrap usuing max_sample=0.1 and bootstrap=True\n",
    "from sklearn.ensemble import RandomForestClassifier\n",
    "RF_model = BaggingClassifier(n_estimators=10, bootstrap=True, max_samples=0.1, random_state=42)\n",
    "RF_model.fit(x_train, y_train)"
   ]
  },
  {
   "cell_type": "code",
   "execution_count": 8,
   "id": "a31b9430",
   "metadata": {},
   "outputs": [
    {
     "name": "stdout",
     "output_type": "stream",
     "text": [
      "accuracy_score : \n",
      "\n",
      "train : 0.8159851301115242\n",
      "valid : 0.7333333333333333\n",
      "test : 0.7733333333333333 \n",
      "\n",
      "precision_score : \n",
      "\n",
      "train : 0.7450980392156863\n",
      "valid : 0.5555555555555556\n",
      "test : 0.6363636363636364 \n",
      "\n",
      "f1_score : \n",
      "\n",
      "train : 0.4342857142857143\n",
      "valid : 0.3846153846153846\n",
      "test : 0.2916666666666667 \n",
      "\n",
      "recall_score : \n",
      "\n",
      "train : 0.3064516129032258\n",
      "valid : 0.29411764705882354\n",
      "test : 0.1891891891891892 \n",
      "\n"
     ]
    }
   ],
   "source": [
    "y_pred_train = RF_model.predict(x_train)\n",
    "y_pred_valid = RF_model.predict(x_valid)\n",
    "y_pred_test = RF_model.predict(x_test)\n",
    "print('accuracy_score :', '\\n')\n",
    "print(f'train : {accuracy_score(y_train, y_pred_train)}')\n",
    "print(f'valid : {accuracy_score(y_valid, y_pred_valid)}')\n",
    "print(f'test : {accuracy_score(y_test, y_pred_test)}', '\\n')\n",
    "print('precision_score :', '\\n')\n",
    "print(f'train : {precision_score(y_train, y_pred_train)}')\n",
    "print(f'valid : {precision_score(y_valid, y_pred_valid)}')\n",
    "print(f'test : {precision_score(y_test, y_pred_test)}', '\\n')\n",
    "print('f1_score :', '\\n')\n",
    "print(f'train : {f1_score(y_train, y_pred_train)}')\n",
    "print(f'valid : {f1_score(y_valid, y_pred_valid)}')\n",
    "print(f'test : {f1_score(y_test, y_pred_test)}', '\\n')\n",
    "print('recall_score :', '\\n')\n",
    "print(f'train : {recall_score(y_train, y_pred_train)}')\n",
    "print(f'valid : {recall_score(y_valid, y_pred_valid)}')\n",
    "print(f'test : {recall_score(y_test, y_pred_test)}', '\\n')"
   ]
  }
 ],
 "metadata": {
  "kernelspec": {
   "display_name": "Python 3 (ipykernel)",
   "language": "python",
   "name": "python3"
  },
  "language_info": {
   "codemirror_mode": {
    "name": "ipython",
    "version": 3
   },
   "file_extension": ".py",
   "mimetype": "text/x-python",
   "name": "python",
   "nbconvert_exporter": "python",
   "pygments_lexer": "ipython3",
   "version": "3.9.13"
  }
 },
 "nbformat": 4,
 "nbformat_minor": 5
}
