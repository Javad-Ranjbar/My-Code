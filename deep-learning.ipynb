{
  "nbformat": 4,
  "nbformat_minor": 0,
  "metadata": {
    "colab": {
      "provenance": []
    },
    "kernelspec": {
      "name": "python3",
      "display_name": "Python 3"
    },
    "language_info": {
      "name": "python"
    },
    "gpuClass": "standard",
    "accelerator": "GPU",
    "widgets": {
      "application/vnd.jupyter.widget-state+json": {
        "0007d970f246411a8271bbb6936a67ef": {
          "model_module": "@jupyter-widgets/controls",
          "model_name": "HBoxModel",
          "model_module_version": "1.5.0",
          "state": {
            "_dom_classes": [],
            "_model_module": "@jupyter-widgets/controls",
            "_model_module_version": "1.5.0",
            "_model_name": "HBoxModel",
            "_view_count": null,
            "_view_module": "@jupyter-widgets/controls",
            "_view_module_version": "1.5.0",
            "_view_name": "HBoxView",
            "box_style": "",
            "children": [
              "IPY_MODEL_7f79449cf5e24a3c8251de12c8ddb6a0",
              "IPY_MODEL_a85f180c113649059b3494281b973d1a",
              "IPY_MODEL_06c80ca0901b4ae9bf28689941adb84e"
            ],
            "layout": "IPY_MODEL_83c505afb41d402aa3017015cc5d668e"
          }
        },
        "7f79449cf5e24a3c8251de12c8ddb6a0": {
          "model_module": "@jupyter-widgets/controls",
          "model_name": "HTMLModel",
          "model_module_version": "1.5.0",
          "state": {
            "_dom_classes": [],
            "_model_module": "@jupyter-widgets/controls",
            "_model_module_version": "1.5.0",
            "_model_name": "HTMLModel",
            "_view_count": null,
            "_view_module": "@jupyter-widgets/controls",
            "_view_module_version": "1.5.0",
            "_view_name": "HTMLView",
            "description": "",
            "description_tooltip": null,
            "layout": "IPY_MODEL_2a0eb9dfac4a496bb638354c546b9caf",
            "placeholder": "​",
            "style": "IPY_MODEL_75616b7ff4e240fdbbdf049868bdecaf",
            "value": "100%"
          }
        },
        "a85f180c113649059b3494281b973d1a": {
          "model_module": "@jupyter-widgets/controls",
          "model_name": "FloatProgressModel",
          "model_module_version": "1.5.0",
          "state": {
            "_dom_classes": [],
            "_model_module": "@jupyter-widgets/controls",
            "_model_module_version": "1.5.0",
            "_model_name": "FloatProgressModel",
            "_view_count": null,
            "_view_module": "@jupyter-widgets/controls",
            "_view_module_version": "1.5.0",
            "_view_name": "ProgressView",
            "bar_style": "success",
            "description": "",
            "description_tooltip": null,
            "layout": "IPY_MODEL_a1ede0e277744410ba1b1790e167b7c7",
            "max": 170498071,
            "min": 0,
            "orientation": "horizontal",
            "style": "IPY_MODEL_0aa54d6e7b0f4d31b52070d3c68e85ef",
            "value": 170498071
          }
        },
        "06c80ca0901b4ae9bf28689941adb84e": {
          "model_module": "@jupyter-widgets/controls",
          "model_name": "HTMLModel",
          "model_module_version": "1.5.0",
          "state": {
            "_dom_classes": [],
            "_model_module": "@jupyter-widgets/controls",
            "_model_module_version": "1.5.0",
            "_model_name": "HTMLModel",
            "_view_count": null,
            "_view_module": "@jupyter-widgets/controls",
            "_view_module_version": "1.5.0",
            "_view_name": "HTMLView",
            "description": "",
            "description_tooltip": null,
            "layout": "IPY_MODEL_1965e1a32bcd4f4a85b43f2982913bbf",
            "placeholder": "​",
            "style": "IPY_MODEL_9cd20ed571814f15b688784c683fd700",
            "value": " 170498071/170498071 [00:13&lt;00:00, 12899839.46it/s]"
          }
        },
        "83c505afb41d402aa3017015cc5d668e": {
          "model_module": "@jupyter-widgets/base",
          "model_name": "LayoutModel",
          "model_module_version": "1.2.0",
          "state": {
            "_model_module": "@jupyter-widgets/base",
            "_model_module_version": "1.2.0",
            "_model_name": "LayoutModel",
            "_view_count": null,
            "_view_module": "@jupyter-widgets/base",
            "_view_module_version": "1.2.0",
            "_view_name": "LayoutView",
            "align_content": null,
            "align_items": null,
            "align_self": null,
            "border": null,
            "bottom": null,
            "display": null,
            "flex": null,
            "flex_flow": null,
            "grid_area": null,
            "grid_auto_columns": null,
            "grid_auto_flow": null,
            "grid_auto_rows": null,
            "grid_column": null,
            "grid_gap": null,
            "grid_row": null,
            "grid_template_areas": null,
            "grid_template_columns": null,
            "grid_template_rows": null,
            "height": null,
            "justify_content": null,
            "justify_items": null,
            "left": null,
            "margin": null,
            "max_height": null,
            "max_width": null,
            "min_height": null,
            "min_width": null,
            "object_fit": null,
            "object_position": null,
            "order": null,
            "overflow": null,
            "overflow_x": null,
            "overflow_y": null,
            "padding": null,
            "right": null,
            "top": null,
            "visibility": null,
            "width": null
          }
        },
        "2a0eb9dfac4a496bb638354c546b9caf": {
          "model_module": "@jupyter-widgets/base",
          "model_name": "LayoutModel",
          "model_module_version": "1.2.0",
          "state": {
            "_model_module": "@jupyter-widgets/base",
            "_model_module_version": "1.2.0",
            "_model_name": "LayoutModel",
            "_view_count": null,
            "_view_module": "@jupyter-widgets/base",
            "_view_module_version": "1.2.0",
            "_view_name": "LayoutView",
            "align_content": null,
            "align_items": null,
            "align_self": null,
            "border": null,
            "bottom": null,
            "display": null,
            "flex": null,
            "flex_flow": null,
            "grid_area": null,
            "grid_auto_columns": null,
            "grid_auto_flow": null,
            "grid_auto_rows": null,
            "grid_column": null,
            "grid_gap": null,
            "grid_row": null,
            "grid_template_areas": null,
            "grid_template_columns": null,
            "grid_template_rows": null,
            "height": null,
            "justify_content": null,
            "justify_items": null,
            "left": null,
            "margin": null,
            "max_height": null,
            "max_width": null,
            "min_height": null,
            "min_width": null,
            "object_fit": null,
            "object_position": null,
            "order": null,
            "overflow": null,
            "overflow_x": null,
            "overflow_y": null,
            "padding": null,
            "right": null,
            "top": null,
            "visibility": null,
            "width": null
          }
        },
        "75616b7ff4e240fdbbdf049868bdecaf": {
          "model_module": "@jupyter-widgets/controls",
          "model_name": "DescriptionStyleModel",
          "model_module_version": "1.5.0",
          "state": {
            "_model_module": "@jupyter-widgets/controls",
            "_model_module_version": "1.5.0",
            "_model_name": "DescriptionStyleModel",
            "_view_count": null,
            "_view_module": "@jupyter-widgets/base",
            "_view_module_version": "1.2.0",
            "_view_name": "StyleView",
            "description_width": ""
          }
        },
        "a1ede0e277744410ba1b1790e167b7c7": {
          "model_module": "@jupyter-widgets/base",
          "model_name": "LayoutModel",
          "model_module_version": "1.2.0",
          "state": {
            "_model_module": "@jupyter-widgets/base",
            "_model_module_version": "1.2.0",
            "_model_name": "LayoutModel",
            "_view_count": null,
            "_view_module": "@jupyter-widgets/base",
            "_view_module_version": "1.2.0",
            "_view_name": "LayoutView",
            "align_content": null,
            "align_items": null,
            "align_self": null,
            "border": null,
            "bottom": null,
            "display": null,
            "flex": null,
            "flex_flow": null,
            "grid_area": null,
            "grid_auto_columns": null,
            "grid_auto_flow": null,
            "grid_auto_rows": null,
            "grid_column": null,
            "grid_gap": null,
            "grid_row": null,
            "grid_template_areas": null,
            "grid_template_columns": null,
            "grid_template_rows": null,
            "height": null,
            "justify_content": null,
            "justify_items": null,
            "left": null,
            "margin": null,
            "max_height": null,
            "max_width": null,
            "min_height": null,
            "min_width": null,
            "object_fit": null,
            "object_position": null,
            "order": null,
            "overflow": null,
            "overflow_x": null,
            "overflow_y": null,
            "padding": null,
            "right": null,
            "top": null,
            "visibility": null,
            "width": null
          }
        },
        "0aa54d6e7b0f4d31b52070d3c68e85ef": {
          "model_module": "@jupyter-widgets/controls",
          "model_name": "ProgressStyleModel",
          "model_module_version": "1.5.0",
          "state": {
            "_model_module": "@jupyter-widgets/controls",
            "_model_module_version": "1.5.0",
            "_model_name": "ProgressStyleModel",
            "_view_count": null,
            "_view_module": "@jupyter-widgets/base",
            "_view_module_version": "1.2.0",
            "_view_name": "StyleView",
            "bar_color": null,
            "description_width": ""
          }
        },
        "1965e1a32bcd4f4a85b43f2982913bbf": {
          "model_module": "@jupyter-widgets/base",
          "model_name": "LayoutModel",
          "model_module_version": "1.2.0",
          "state": {
            "_model_module": "@jupyter-widgets/base",
            "_model_module_version": "1.2.0",
            "_model_name": "LayoutModel",
            "_view_count": null,
            "_view_module": "@jupyter-widgets/base",
            "_view_module_version": "1.2.0",
            "_view_name": "LayoutView",
            "align_content": null,
            "align_items": null,
            "align_self": null,
            "border": null,
            "bottom": null,
            "display": null,
            "flex": null,
            "flex_flow": null,
            "grid_area": null,
            "grid_auto_columns": null,
            "grid_auto_flow": null,
            "grid_auto_rows": null,
            "grid_column": null,
            "grid_gap": null,
            "grid_row": null,
            "grid_template_areas": null,
            "grid_template_columns": null,
            "grid_template_rows": null,
            "height": null,
            "justify_content": null,
            "justify_items": null,
            "left": null,
            "margin": null,
            "max_height": null,
            "max_width": null,
            "min_height": null,
            "min_width": null,
            "object_fit": null,
            "object_position": null,
            "order": null,
            "overflow": null,
            "overflow_x": null,
            "overflow_y": null,
            "padding": null,
            "right": null,
            "top": null,
            "visibility": null,
            "width": null
          }
        },
        "9cd20ed571814f15b688784c683fd700": {
          "model_module": "@jupyter-widgets/controls",
          "model_name": "DescriptionStyleModel",
          "model_module_version": "1.5.0",
          "state": {
            "_model_module": "@jupyter-widgets/controls",
            "_model_module_version": "1.5.0",
            "_model_name": "DescriptionStyleModel",
            "_view_count": null,
            "_view_module": "@jupyter-widgets/base",
            "_view_module_version": "1.2.0",
            "_view_name": "StyleView",
            "description_width": ""
          }
        },
        "2f3dbcb9e03346e7946a66cfd7ddd8ac": {
          "model_module": "@jupyter-widgets/controls",
          "model_name": "HBoxModel",
          "model_module_version": "1.5.0",
          "state": {
            "_dom_classes": [],
            "_model_module": "@jupyter-widgets/controls",
            "_model_module_version": "1.5.0",
            "_model_name": "HBoxModel",
            "_view_count": null,
            "_view_module": "@jupyter-widgets/controls",
            "_view_module_version": "1.5.0",
            "_view_name": "HBoxView",
            "box_style": "",
            "children": [
              "IPY_MODEL_edfb8a14da7847e18d88c4cb30268a58",
              "IPY_MODEL_ccb61a96a805416c9f9abffb668f2493",
              "IPY_MODEL_1f9a342fc1984472b0fe89536de66368"
            ],
            "layout": "IPY_MODEL_1ecaf9a48e704457bbb6cbf55fd9ed26"
          }
        },
        "edfb8a14da7847e18d88c4cb30268a58": {
          "model_module": "@jupyter-widgets/controls",
          "model_name": "HTMLModel",
          "model_module_version": "1.5.0",
          "state": {
            "_dom_classes": [],
            "_model_module": "@jupyter-widgets/controls",
            "_model_module_version": "1.5.0",
            "_model_name": "HTMLModel",
            "_view_count": null,
            "_view_module": "@jupyter-widgets/controls",
            "_view_module_version": "1.5.0",
            "_view_name": "HTMLView",
            "description": "",
            "description_tooltip": null,
            "layout": "IPY_MODEL_aa21a7af4f744b278c820d1fc46090e1",
            "placeholder": "​",
            "style": "IPY_MODEL_006849238eb2475fa2d9a703f3992c26",
            "value": "100%"
          }
        },
        "ccb61a96a805416c9f9abffb668f2493": {
          "model_module": "@jupyter-widgets/controls",
          "model_name": "FloatProgressModel",
          "model_module_version": "1.5.0",
          "state": {
            "_dom_classes": [],
            "_model_module": "@jupyter-widgets/controls",
            "_model_module_version": "1.5.0",
            "_model_name": "FloatProgressModel",
            "_view_count": null,
            "_view_module": "@jupyter-widgets/controls",
            "_view_module_version": "1.5.0",
            "_view_name": "ProgressView",
            "bar_style": "success",
            "description": "",
            "description_tooltip": null,
            "layout": "IPY_MODEL_9832055a84a34d43af56fe921bdbcad4",
            "max": 553433881,
            "min": 0,
            "orientation": "horizontal",
            "style": "IPY_MODEL_2ed25bfeb9154f20be336ecd3a538959",
            "value": 553433881
          }
        },
        "1f9a342fc1984472b0fe89536de66368": {
          "model_module": "@jupyter-widgets/controls",
          "model_name": "HTMLModel",
          "model_module_version": "1.5.0",
          "state": {
            "_dom_classes": [],
            "_model_module": "@jupyter-widgets/controls",
            "_model_module_version": "1.5.0",
            "_model_name": "HTMLModel",
            "_view_count": null,
            "_view_module": "@jupyter-widgets/controls",
            "_view_module_version": "1.5.0",
            "_view_name": "HTMLView",
            "description": "",
            "description_tooltip": null,
            "layout": "IPY_MODEL_d242401908144214a4c5a43348933d40",
            "placeholder": "​",
            "style": "IPY_MODEL_dec689730946426f9d4ecdebcf3f4184",
            "value": " 528M/528M [00:02&lt;00:00, 255MB/s]"
          }
        },
        "1ecaf9a48e704457bbb6cbf55fd9ed26": {
          "model_module": "@jupyter-widgets/base",
          "model_name": "LayoutModel",
          "model_module_version": "1.2.0",
          "state": {
            "_model_module": "@jupyter-widgets/base",
            "_model_module_version": "1.2.0",
            "_model_name": "LayoutModel",
            "_view_count": null,
            "_view_module": "@jupyter-widgets/base",
            "_view_module_version": "1.2.0",
            "_view_name": "LayoutView",
            "align_content": null,
            "align_items": null,
            "align_self": null,
            "border": null,
            "bottom": null,
            "display": null,
            "flex": null,
            "flex_flow": null,
            "grid_area": null,
            "grid_auto_columns": null,
            "grid_auto_flow": null,
            "grid_auto_rows": null,
            "grid_column": null,
            "grid_gap": null,
            "grid_row": null,
            "grid_template_areas": null,
            "grid_template_columns": null,
            "grid_template_rows": null,
            "height": null,
            "justify_content": null,
            "justify_items": null,
            "left": null,
            "margin": null,
            "max_height": null,
            "max_width": null,
            "min_height": null,
            "min_width": null,
            "object_fit": null,
            "object_position": null,
            "order": null,
            "overflow": null,
            "overflow_x": null,
            "overflow_y": null,
            "padding": null,
            "right": null,
            "top": null,
            "visibility": null,
            "width": null
          }
        },
        "aa21a7af4f744b278c820d1fc46090e1": {
          "model_module": "@jupyter-widgets/base",
          "model_name": "LayoutModel",
          "model_module_version": "1.2.0",
          "state": {
            "_model_module": "@jupyter-widgets/base",
            "_model_module_version": "1.2.0",
            "_model_name": "LayoutModel",
            "_view_count": null,
            "_view_module": "@jupyter-widgets/base",
            "_view_module_version": "1.2.0",
            "_view_name": "LayoutView",
            "align_content": null,
            "align_items": null,
            "align_self": null,
            "border": null,
            "bottom": null,
            "display": null,
            "flex": null,
            "flex_flow": null,
            "grid_area": null,
            "grid_auto_columns": null,
            "grid_auto_flow": null,
            "grid_auto_rows": null,
            "grid_column": null,
            "grid_gap": null,
            "grid_row": null,
            "grid_template_areas": null,
            "grid_template_columns": null,
            "grid_template_rows": null,
            "height": null,
            "justify_content": null,
            "justify_items": null,
            "left": null,
            "margin": null,
            "max_height": null,
            "max_width": null,
            "min_height": null,
            "min_width": null,
            "object_fit": null,
            "object_position": null,
            "order": null,
            "overflow": null,
            "overflow_x": null,
            "overflow_y": null,
            "padding": null,
            "right": null,
            "top": null,
            "visibility": null,
            "width": null
          }
        },
        "006849238eb2475fa2d9a703f3992c26": {
          "model_module": "@jupyter-widgets/controls",
          "model_name": "DescriptionStyleModel",
          "model_module_version": "1.5.0",
          "state": {
            "_model_module": "@jupyter-widgets/controls",
            "_model_module_version": "1.5.0",
            "_model_name": "DescriptionStyleModel",
            "_view_count": null,
            "_view_module": "@jupyter-widgets/base",
            "_view_module_version": "1.2.0",
            "_view_name": "StyleView",
            "description_width": ""
          }
        },
        "9832055a84a34d43af56fe921bdbcad4": {
          "model_module": "@jupyter-widgets/base",
          "model_name": "LayoutModel",
          "model_module_version": "1.2.0",
          "state": {
            "_model_module": "@jupyter-widgets/base",
            "_model_module_version": "1.2.0",
            "_model_name": "LayoutModel",
            "_view_count": null,
            "_view_module": "@jupyter-widgets/base",
            "_view_module_version": "1.2.0",
            "_view_name": "LayoutView",
            "align_content": null,
            "align_items": null,
            "align_self": null,
            "border": null,
            "bottom": null,
            "display": null,
            "flex": null,
            "flex_flow": null,
            "grid_area": null,
            "grid_auto_columns": null,
            "grid_auto_flow": null,
            "grid_auto_rows": null,
            "grid_column": null,
            "grid_gap": null,
            "grid_row": null,
            "grid_template_areas": null,
            "grid_template_columns": null,
            "grid_template_rows": null,
            "height": null,
            "justify_content": null,
            "justify_items": null,
            "left": null,
            "margin": null,
            "max_height": null,
            "max_width": null,
            "min_height": null,
            "min_width": null,
            "object_fit": null,
            "object_position": null,
            "order": null,
            "overflow": null,
            "overflow_x": null,
            "overflow_y": null,
            "padding": null,
            "right": null,
            "top": null,
            "visibility": null,
            "width": null
          }
        },
        "2ed25bfeb9154f20be336ecd3a538959": {
          "model_module": "@jupyter-widgets/controls",
          "model_name": "ProgressStyleModel",
          "model_module_version": "1.5.0",
          "state": {
            "_model_module": "@jupyter-widgets/controls",
            "_model_module_version": "1.5.0",
            "_model_name": "ProgressStyleModel",
            "_view_count": null,
            "_view_module": "@jupyter-widgets/base",
            "_view_module_version": "1.2.0",
            "_view_name": "StyleView",
            "bar_color": null,
            "description_width": ""
          }
        },
        "d242401908144214a4c5a43348933d40": {
          "model_module": "@jupyter-widgets/base",
          "model_name": "LayoutModel",
          "model_module_version": "1.2.0",
          "state": {
            "_model_module": "@jupyter-widgets/base",
            "_model_module_version": "1.2.0",
            "_model_name": "LayoutModel",
            "_view_count": null,
            "_view_module": "@jupyter-widgets/base",
            "_view_module_version": "1.2.0",
            "_view_name": "LayoutView",
            "align_content": null,
            "align_items": null,
            "align_self": null,
            "border": null,
            "bottom": null,
            "display": null,
            "flex": null,
            "flex_flow": null,
            "grid_area": null,
            "grid_auto_columns": null,
            "grid_auto_flow": null,
            "grid_auto_rows": null,
            "grid_column": null,
            "grid_gap": null,
            "grid_row": null,
            "grid_template_areas": null,
            "grid_template_columns": null,
            "grid_template_rows": null,
            "height": null,
            "justify_content": null,
            "justify_items": null,
            "left": null,
            "margin": null,
            "max_height": null,
            "max_width": null,
            "min_height": null,
            "min_width": null,
            "object_fit": null,
            "object_position": null,
            "order": null,
            "overflow": null,
            "overflow_x": null,
            "overflow_y": null,
            "padding": null,
            "right": null,
            "top": null,
            "visibility": null,
            "width": null
          }
        },
        "dec689730946426f9d4ecdebcf3f4184": {
          "model_module": "@jupyter-widgets/controls",
          "model_name": "DescriptionStyleModel",
          "model_module_version": "1.5.0",
          "state": {
            "_model_module": "@jupyter-widgets/controls",
            "_model_module_version": "1.5.0",
            "_model_name": "DescriptionStyleModel",
            "_view_count": null,
            "_view_module": "@jupyter-widgets/base",
            "_view_module_version": "1.2.0",
            "_view_name": "StyleView",
            "description_width": ""
          }
        }
      }
    }
  },
  "cells": [
    {
      "cell_type": "markdown",
      "source": [
        "## Javad Ranjbar Kermani\n",
        "## 400209795\n",
        "## Question 7, part a\n",
        "## CNN- Transfer learning with VGG16"
      ],
      "metadata": {
        "id": "auzpTA5G0w5c"
      }
    },
    {
      "cell_type": "code",
      "source": [
        "## import libraries\n",
        "import torch\n",
        "import torchvision\n",
        "import torchvision.transforms as transforms\n",
        "import numpy as np\n",
        "import matplotlib.pyplot as plt"
      ],
      "metadata": {
        "id": "wQmcNlMq0sFR"
      },
      "execution_count": 1,
      "outputs": []
    },
    {
      "cell_type": "code",
      "source": [
        "print(torch.__version__)\n",
        "device = \"cuda\" if torch.cuda.is_available() else \"cpu\"\n",
        "print(f'The device is {device}')"
      ],
      "metadata": {
        "colab": {
          "base_uri": "https://localhost:8080/"
        },
        "id": "9CJlCm5qACzY",
        "outputId": "f04c01d9-62a4-4cfe-8f56-40ebad4c22ac"
      },
      "execution_count": 2,
      "outputs": [
        {
          "output_type": "stream",
          "name": "stdout",
          "text": [
            "1.13.1+cu116\n",
            "The device is cuda\n"
          ]
        }
      ]
    },
    {
      "cell_type": "code",
      "source": [
        "BATCH_SIZE = 256\n",
        "\n",
        "## transformations\n",
        "transform = transforms.Compose(\n",
        "    [transforms.ToTensor(), transforms.Normalize((0.5,0.5,0.5),(0.5,0.5,0.5))])\n",
        "\n",
        "## download and load training dataset\n",
        "trainset = torchvision.datasets.CIFAR10(root='./data', train=True,\n",
        "                                        download=True, transform=transform)\n",
        "trainloader = torch.utils.data.DataLoader(trainset, batch_size=BATCH_SIZE,\n",
        "                                          shuffle=True, num_workers=2)\n",
        "\n",
        "## download and load testing dataset\n",
        "testset = torchvision.datasets.CIFAR10(root='./data', train=False,\n",
        "                                       download=True, transform=transform)\n",
        "testloader = torch.utils.data.DataLoader(testset, batch_size=BATCH_SIZE,\n",
        "                                         shuffle=False, num_workers=2)\n",
        "\n",
        "classes = ('plane', 'car', 'bird', 'cat', 'deer', 'dog', 'frog',\n",
        "           'horse', 'ship', 'truck')\n",
        "print(type(classes))"
      ],
      "metadata": {
        "colab": {
          "base_uri": "https://localhost:8080/",
          "height": 118,
          "referenced_widgets": [
            "0007d970f246411a8271bbb6936a67ef",
            "7f79449cf5e24a3c8251de12c8ddb6a0",
            "a85f180c113649059b3494281b973d1a",
            "06c80ca0901b4ae9bf28689941adb84e",
            "83c505afb41d402aa3017015cc5d668e",
            "2a0eb9dfac4a496bb638354c546b9caf",
            "75616b7ff4e240fdbbdf049868bdecaf",
            "a1ede0e277744410ba1b1790e167b7c7",
            "0aa54d6e7b0f4d31b52070d3c68e85ef",
            "1965e1a32bcd4f4a85b43f2982913bbf",
            "9cd20ed571814f15b688784c683fd700"
          ]
        },
        "id": "yA8AXq7fAHIC",
        "outputId": "3ffa7b2b-007f-45d5-ad19-8bc2d62525cf"
      },
      "execution_count": 3,
      "outputs": [
        {
          "output_type": "stream",
          "name": "stdout",
          "text": [
            "Downloading https://www.cs.toronto.edu/~kriz/cifar-10-python.tar.gz to ./data/cifar-10-python.tar.gz\n"
          ]
        },
        {
          "output_type": "display_data",
          "data": {
            "text/plain": [
              "  0%|          | 0/170498071 [00:00<?, ?it/s]"
            ],
            "application/vnd.jupyter.widget-view+json": {
              "version_major": 2,
              "version_minor": 0,
              "model_id": "0007d970f246411a8271bbb6936a67ef"
            }
          },
          "metadata": {}
        },
        {
          "output_type": "stream",
          "name": "stdout",
          "text": [
            "Extracting ./data/cifar-10-python.tar.gz to ./data\n",
            "Files already downloaded and verified\n",
            "<class 'tuple'>\n"
          ]
        }
      ]
    },
    {
      "cell_type": "code",
      "source": [
        "import matplotlib.pyplot as plt\n",
        "import numpy as np\n",
        "\n",
        "## functions to show an image\n",
        "def imshow(img):\n",
        "    #img = img / 2 + 0.5     # unnormalize\n",
        "    npimg = img.numpy()\n",
        "    plt.imshow(np.transpose(npimg, (1, 2, 0)))\n",
        "\n",
        "## get some random training images\n",
        "dataiter = iter(trainloader)\n",
        "images, labels = next(dataiter)\n",
        "\n",
        "## show images\n",
        "imshow(torchvision.utils.make_grid(images))\n",
        "print(labels,'\\n')\n",
        "print(' '.join(f'{classes[labels[j]]:5s}' for j in range(BATCH_SIZE)),'\\n')"
      ],
      "metadata": {
        "colab": {
          "base_uri": "https://localhost:8080/",
          "height": 549
        },
        "id": "uHqHKvT9AOqR",
        "outputId": "be36139e-9059-40e3-83cf-dd7fd54a5c75"
      },
      "execution_count": 4,
      "outputs": [
        {
          "output_type": "stream",
          "name": "stderr",
          "text": [
            "WARNING:matplotlib.image:Clipping input data to the valid range for imshow with RGB data ([0..1] for floats or [0..255] for integers).\n"
          ]
        },
        {
          "output_type": "stream",
          "name": "stdout",
          "text": [
            "tensor([6, 4, 1, 2, 9, 2, 1, 5, 8, 7, 8, 0, 5, 0, 9, 8, 4, 3, 4, 3, 4, 0, 7, 9,\n",
            "        3, 6, 8, 5, 4, 8, 9, 1, 2, 1, 0, 0, 0, 6, 4, 5, 0, 6, 4, 1, 6, 7, 5, 9,\n",
            "        1, 8, 6, 6, 0, 1, 8, 1, 0, 3, 4, 8, 7, 9, 0, 7, 5, 3, 1, 1, 4, 0, 0, 2,\n",
            "        2, 2, 2, 3, 0, 5, 3, 8, 1, 6, 3, 5, 4, 2, 0, 1, 6, 6, 5, 3, 2, 6, 4, 9,\n",
            "        7, 3, 1, 9, 9, 8, 2, 1, 3, 8, 8, 4, 6, 8, 9, 5, 2, 5, 1, 2, 2, 9, 5, 7,\n",
            "        1, 8, 0, 9, 4, 4, 5, 0, 2, 9, 5, 4, 0, 3, 1, 8, 5, 2, 2, 8, 4, 0, 0, 0,\n",
            "        1, 9, 0, 5, 3, 3, 5, 2, 7, 5, 2, 8, 1, 1, 9, 4, 8, 8, 9, 8, 5, 3, 9, 4,\n",
            "        2, 2, 3, 2, 3, 4, 5, 6, 5, 4, 5, 3, 6, 0, 9, 2, 5, 3, 4, 8, 0, 2, 1, 3,\n",
            "        7, 2, 1, 3, 7, 4, 1, 8, 1, 6, 4, 7, 3, 0, 9, 6, 1, 1, 5, 8, 8, 5, 7, 5,\n",
            "        1, 4, 1, 5, 9, 8, 2, 9, 0, 9, 6, 3, 1, 3, 0, 9, 0, 8, 0, 5, 6, 2, 2, 0,\n",
            "        5, 9, 2, 2, 7, 8, 2, 6, 5, 4, 7, 9, 8, 1, 5, 9]) \n",
            "\n",
            "frog  deer  car   bird  truck bird  car   dog   ship  horse ship  plane dog   plane truck ship  deer  cat   deer  cat   deer  plane horse truck cat   frog  ship  dog   deer  ship  truck car   bird  car   plane plane plane frog  deer  dog   plane frog  deer  car   frog  horse dog   truck car   ship  frog  frog  plane car   ship  car   plane cat   deer  ship  horse truck plane horse dog   cat   car   car   deer  plane plane bird  bird  bird  bird  cat   plane dog   cat   ship  car   frog  cat   dog   deer  bird  plane car   frog  frog  dog   cat   bird  frog  deer  truck horse cat   car   truck truck ship  bird  car   cat   ship  ship  deer  frog  ship  truck dog   bird  dog   car   bird  bird  truck dog   horse car   ship  plane truck deer  deer  dog   plane bird  truck dog   deer  plane cat   car   ship  dog   bird  bird  ship  deer  plane plane plane car   truck plane dog   cat   cat   dog   bird  horse dog   bird  ship  car   car   truck deer  ship  ship  truck ship  dog   cat   truck deer  bird  bird  cat   bird  cat   deer  dog   frog  dog   deer  dog   cat   frog  plane truck bird  dog   cat   deer  ship  plane bird  car   cat   horse bird  car   cat   horse deer  car   ship  car   frog  deer  horse cat   plane truck frog  car   car   dog   ship  ship  dog   horse dog   car   deer  car   dog   truck ship  bird  truck plane truck frog  cat   car   cat   plane truck plane ship  plane dog   frog  bird  bird  plane dog   truck bird  bird  horse ship  bird  frog  dog   deer  horse truck ship  car   dog   truck \n",
            "\n"
          ]
        },
        {
          "output_type": "display_data",
          "data": {
            "text/plain": [
              "<Figure size 432x288 with 1 Axes>"
            ],
            "image/png": "[encoded data removed]"
          },
          "metadata": {
            "needs_background": "light"
          }
        }
      ]
    },
    {
      "cell_type": "code",
      "source": [
        "for images, labels in trainloader:\n",
        "    print(\"Image batch dimensions:\", images.shape)\n",
        "    print(\"Image label dimensions:\", labels.shape)\n",
        "    break"
      ],
      "metadata": {
        "colab": {
          "base_uri": "https://localhost:8080/"
        },
        "id": "43KhbpVQAnVF",
        "outputId": "07847768-2e80-48c3-ca6f-c2d104434008"
      },
      "execution_count": 5,
      "outputs": [
        {
          "output_type": "stream",
          "name": "stdout",
          "text": [
            "Image batch dimensions: torch.Size([256, 3, 32, 32])\n",
            "Image label dimensions: torch.Size([256])\n"
          ]
        }
      ]
    },
    {
      "cell_type": "code",
      "source": [
        "from torch import nn\n",
        "import torch.nn.functional as F\n",
        "# class for deleting the average pooling in the last convoloutinal layer\n",
        "class delete(nn.Module):\n",
        "  def __init__(self):\n",
        "    super(delete,self).__init__()\n",
        "  def forward(self,x):\n",
        "    return x"
      ],
      "metadata": {
        "id": "AM2pL2E0FpfY"
      },
      "execution_count": 6,
      "outputs": []
    },
    {
      "cell_type": "code",
      "source": [
        "#importing and pretraining the Vgg16 model\n",
        "model = torchvision.models.vgg16(pretrained = True)\n",
        "for params in model.parameters():\n",
        "  params.required_grad = False # the convoloutional layer weight and parameter won't change\n",
        "print(model)"
      ],
      "metadata": {
        "colab": {
          "base_uri": "https://localhost:8080/",
          "height": 937,
          "referenced_widgets": [
            "2f3dbcb9e03346e7946a66cfd7ddd8ac",
            "edfb8a14da7847e18d88c4cb30268a58",
            "ccb61a96a805416c9f9abffb668f2493",
            "1f9a342fc1984472b0fe89536de66368",
            "1ecaf9a48e704457bbb6cbf55fd9ed26",
            "aa21a7af4f744b278c820d1fc46090e1",
            "006849238eb2475fa2d9a703f3992c26",
            "9832055a84a34d43af56fe921bdbcad4",
            "2ed25bfeb9154f20be336ecd3a538959",
            "d242401908144214a4c5a43348933d40",
            "dec689730946426f9d4ecdebcf3f4184"
          ]
        },
        "id": "D-4YTMFiEk_3",
        "outputId": "797758ba-d865-44e0-b877-116ec35e707a"
      },
      "execution_count": 7,
      "outputs": [
        {
          "output_type": "stream",
          "name": "stderr",
          "text": [
            "/usr/local/lib/python3.8/dist-packages/torchvision/models/_utils.py:208: UserWarning: The parameter 'pretrained' is deprecated since 0.13 and may be removed in the future, please use 'weights' instead.\n",
            "  warnings.warn(\n",
            "/usr/local/lib/python3.8/dist-packages/torchvision/models/_utils.py:223: UserWarning: Arguments other than a weight enum or `None` for 'weights' are deprecated since 0.13 and may be removed in the future. The current behavior is equivalent to passing `weights=VGG16_Weights.IMAGENET1K_V1`. You can also use `weights=VGG16_Weights.DEFAULT` to get the most up-to-date weights.\n",
            "  warnings.warn(msg)\n",
            "Downloading: \"https://download.pytorch.org/models/vgg16-397923af.pth\" to /root/.cache/torch/hub/checkpoints/vgg16-397923af.pth\n"
          ]
        },
        {
          "output_type": "display_data",
          "data": {
            "text/plain": [
              "  0%|          | 0.00/528M [00:00<?, ?B/s]"
            ],
            "application/vnd.jupyter.widget-view+json": {
              "version_major": 2,
              "version_minor": 0,
              "model_id": "2f3dbcb9e03346e7946a66cfd7ddd8ac"
            }
          },
          "metadata": {}
        },
        {
          "output_type": "stream",
          "name": "stdout",
          "text": [
            "VGG(\n",
            "  (features): Sequential(\n",
            "    (0): Conv2d(3, 64, kernel_size=(3, 3), stride=(1, 1), padding=(1, 1))\n",
            "    (1): ReLU(inplace=True)\n",
            "    (2): Conv2d(64, 64, kernel_size=(3, 3), stride=(1, 1), padding=(1, 1))\n",
            "    (3): ReLU(inplace=True)\n",
            "    (4): MaxPool2d(kernel_size=2, stride=2, padding=0, dilation=1, ceil_mode=False)\n",
            "    (5): Conv2d(64, 128, kernel_size=(3, 3), stride=(1, 1), padding=(1, 1))\n",
            "    (6): ReLU(inplace=True)\n",
            "    (7): Conv2d(128, 128, kernel_size=(3, 3), stride=(1, 1), padding=(1, 1))\n",
            "    (8): ReLU(inplace=True)\n",
            "    (9): MaxPool2d(kernel_size=2, stride=2, padding=0, dilation=1, ceil_mode=False)\n",
            "    (10): Conv2d(128, 256, kernel_size=(3, 3), stride=(1, 1), padding=(1, 1))\n",
            "    (11): ReLU(inplace=True)\n",
            "    (12): Conv2d(256, 256, kernel_size=(3, 3), stride=(1, 1), padding=(1, 1))\n",
            "    (13): ReLU(inplace=True)\n",
            "    (14): Conv2d(256, 256, kernel_size=(3, 3), stride=(1, 1), padding=(1, 1))\n",
            "    (15): ReLU(inplace=True)\n",
            "    (16): MaxPool2d(kernel_size=2, stride=2, padding=0, dilation=1, ceil_mode=False)\n",
            "    (17): Conv2d(256, 512, kernel_size=(3, 3), stride=(1, 1), padding=(1, 1))\n",
            "    (18): ReLU(inplace=True)\n",
            "    (19): Conv2d(512, 512, kernel_size=(3, 3), stride=(1, 1), padding=(1, 1))\n",
            "    (20): ReLU(inplace=True)\n",
            "    (21): Conv2d(512, 512, kernel_size=(3, 3), stride=(1, 1), padding=(1, 1))\n",
            "    (22): ReLU(inplace=True)\n",
            "    (23): MaxPool2d(kernel_size=2, stride=2, padding=0, dilation=1, ceil_mode=False)\n",
            "    (24): Conv2d(512, 512, kernel_size=(3, 3), stride=(1, 1), padding=(1, 1))\n",
            "    (25): ReLU(inplace=True)\n",
            "    (26): Conv2d(512, 512, kernel_size=(3, 3), stride=(1, 1), padding=(1, 1))\n",
            "    (27): ReLU(inplace=True)\n",
            "    (28): Conv2d(512, 512, kernel_size=(3, 3), stride=(1, 1), padding=(1, 1))\n",
            "    (29): ReLU(inplace=True)\n",
            "    (30): MaxPool2d(kernel_size=2, stride=2, padding=0, dilation=1, ceil_mode=False)\n",
            "  )\n",
            "  (avgpool): AdaptiveAvgPool2d(output_size=(7, 7))\n",
            "  (classifier): Sequential(\n",
            "    (0): Linear(in_features=25088, out_features=4096, bias=True)\n",
            "    (1): ReLU(inplace=True)\n",
            "    (2): Dropout(p=0.5, inplace=False)\n",
            "    (3): Linear(in_features=4096, out_features=4096, bias=True)\n",
            "    (4): ReLU(inplace=True)\n",
            "    (5): Dropout(p=0.5, inplace=False)\n",
            "    (6): Linear(in_features=4096, out_features=1000, bias=True)\n",
            "  )\n",
            ")\n"
          ]
        }
      ]
    },
    {
      "cell_type": "code",
      "source": [
        "model.avgpool = delete() #deleting the average pooling in the last convoloutinal layer\n",
        "model.classifier = nn.Sequential(nn.Linear(512,100),nn.ReLU(),nn.Dropout(0.4),nn.Linear(100,50) #replacing the sequential layer \n",
        "      ,nn.ReLU(),nn.Dropout(0.4),nn.Linear(50,10))\n",
        "model = model.to(device)\n",
        "print(model)"
      ],
      "metadata": {
        "colab": {
          "base_uri": "https://localhost:8080/"
        },
        "id": "h8BZMGmWFXdK",
        "outputId": "7b74e7b9-3900-47f8-a69a-c47015d287bb"
      },
      "execution_count": 8,
      "outputs": [
        {
          "output_type": "stream",
          "name": "stdout",
          "text": [
            "VGG(\n",
            "  (features): Sequential(\n",
            "    (0): Conv2d(3, 64, kernel_size=(3, 3), stride=(1, 1), padding=(1, 1))\n",
            "    (1): ReLU(inplace=True)\n",
            "    (2): Conv2d(64, 64, kernel_size=(3, 3), stride=(1, 1), padding=(1, 1))\n",
            "    (3): ReLU(inplace=True)\n",
            "    (4): MaxPool2d(kernel_size=2, stride=2, padding=0, dilation=1, ceil_mode=False)\n",
            "    (5): Conv2d(64, 128, kernel_size=(3, 3), stride=(1, 1), padding=(1, 1))\n",
            "    (6): ReLU(inplace=True)\n",
            "    (7): Conv2d(128, 128, kernel_size=(3, 3), stride=(1, 1), padding=(1, 1))\n",
            "    (8): ReLU(inplace=True)\n",
            "    (9): MaxPool2d(kernel_size=2, stride=2, padding=0, dilation=1, ceil_mode=False)\n",
            "    (10): Conv2d(128, 256, kernel_size=(3, 3), stride=(1, 1), padding=(1, 1))\n",
            "    (11): ReLU(inplace=True)\n",
            "    (12): Conv2d(256, 256, kernel_size=(3, 3), stride=(1, 1), padding=(1, 1))\n",
            "    (13): ReLU(inplace=True)\n",
            "    (14): Conv2d(256, 256, kernel_size=(3, 3), stride=(1, 1), padding=(1, 1))\n",
            "    (15): ReLU(inplace=True)\n",
            "    (16): MaxPool2d(kernel_size=2, stride=2, padding=0, dilation=1, ceil_mode=False)\n",
            "    (17): Conv2d(256, 512, kernel_size=(3, 3), stride=(1, 1), padding=(1, 1))\n",
            "    (18): ReLU(inplace=True)\n",
            "    (19): Conv2d(512, 512, kernel_size=(3, 3), stride=(1, 1), padding=(1, 1))\n",
            "    (20): ReLU(inplace=True)\n",
            "    (21): Conv2d(512, 512, kernel_size=(3, 3), stride=(1, 1), padding=(1, 1))\n",
            "    (22): ReLU(inplace=True)\n",
            "    (23): MaxPool2d(kernel_size=2, stride=2, padding=0, dilation=1, ceil_mode=False)\n",
            "    (24): Conv2d(512, 512, kernel_size=(3, 3), stride=(1, 1), padding=(1, 1))\n",
            "    (25): ReLU(inplace=True)\n",
            "    (26): Conv2d(512, 512, kernel_size=(3, 3), stride=(1, 1), padding=(1, 1))\n",
            "    (27): ReLU(inplace=True)\n",
            "    (28): Conv2d(512, 512, kernel_size=(3, 3), stride=(1, 1), padding=(1, 1))\n",
            "    (29): ReLU(inplace=True)\n",
            "    (30): MaxPool2d(kernel_size=2, stride=2, padding=0, dilation=1, ceil_mode=False)\n",
            "  )\n",
            "  (avgpool): delete()\n",
            "  (classifier): Sequential(\n",
            "    (0): Linear(in_features=512, out_features=100, bias=True)\n",
            "    (1): ReLU()\n",
            "    (2): Dropout(p=0.4, inplace=False)\n",
            "    (3): Linear(in_features=100, out_features=50, bias=True)\n",
            "    (4): ReLU()\n",
            "    (5): Dropout(p=0.4, inplace=False)\n",
            "    (6): Linear(in_features=50, out_features=10, bias=True)\n",
            "  )\n",
            ")\n"
          ]
        }
      ]
    },
    {
      "cell_type": "code",
      "source": [
        "import torch.optim as optim\n",
        "criterion = nn.CrossEntropyLoss() # loss function\n",
        "optimizer = optim.SGD(model.parameters(), lr=0.01, momentum = 0.9) # stochastic gradient descent optimizer"
      ],
      "metadata": {
        "id": "qUYu1HJKLrHO"
      },
      "execution_count": 9,
      "outputs": []
    },
    {
      "cell_type": "code",
      "source": [
        "epoch = 10 # number of epochs\n",
        "train_loss_history = []\n",
        "train_corrects_history = []\n",
        "test_loss_history = []\n",
        "test_corrects_history = []\n",
        "\n",
        "for e in range(epoch):\n",
        "  train_loss = 0\n",
        "  train_corrects = 0\n",
        "  test_loss = 0\n",
        "  test_corrects = 0\n",
        "\n",
        "  for inputs, labels in trainloader:\n",
        "    inputs = inputs.to(device)\n",
        "    labels = labels.to(device)\n",
        "    outputs = model(inputs) # every batch is put as an input\n",
        "    loss = criterion(outputs, labels) # Calc loss after each batch by comparing it to actual labels\n",
        "\n",
        "    optimizer.zero_grad() # setting the initila gradient to zero\n",
        "    loss.backward() # backpropagation the loss\n",
        "    optimizer.step() # optimizing the weights and bias values for every single step\n",
        "    \n",
        "    _, preds = torch.max(outputs, 1) # taking the highest value of prediction\n",
        "    train_loss += loss.item() # calculating the loss and adding to train_loss\n",
        "    train_corrects += torch.sum(preds == labels.data) # calculating the accuracy by taking the sum of all correct prediction in a batch\n",
        "  with torch.no_grad(): # no need fo gradient\n",
        "    for test_inputs , test_labels in testloader:\n",
        "      test_inputs = test_inputs.to(device)\n",
        "      test_labels = test_labels.to(device)\n",
        "      test_outputs = model(test_inputs) # every batch is put as an input\n",
        "      loss_ = criterion(test_outputs,test_labels) # Calc loss after each batch by comparing it to actual labels\n",
        "      _, test_preds = torch.max(test_outputs, 1) # taking the highest value of prediction\n",
        "      test_loss += loss_.item() # calculating the loss and adding to train_loss\n",
        "      test_corrects += torch.sum(test_preds == test_labels.data) # calculating the accuracy by taking the sum of all correct prediction in a batch\n",
        "  \n",
        "  epoch_loss = train_loss/(len(trainloader)) # training loss per epoch\n",
        "  epoch_acc = train_corrects/(len(trainloader)*BATCH_SIZE)*100 # training accuracy per epoch\n",
        "  train_loss_history.append(epoch_loss)\n",
        "  train_corrects_history.append(epoch_acc.cpu().numpy())\n",
        "\n",
        "  test_epoch_loss = test_loss/(len(testloader))# testing loss per epoch\n",
        "  test_epoch_acc = test_corrects/(len(testloader)*BATCH_SIZE)*100 # testing accuracy per epoch\n",
        "  test_loss_history.append(test_epoch_loss)\n",
        "  test_corrects_history.append(test_epoch_acc.cpu().numpy())\n",
        "\n",
        "  print('epoch :', (e+1))\n",
        "  print('train loss: {:.4f}, train acc: {:.4f} '.format(epoch_loss, epoch_acc.item()))\n",
        "  print('test loss: {:.4f}, test acc: {:.4f} '.format(test_epoch_loss, test_epoch_acc.item()))\n",
        "       "
      ],
      "metadata": {
        "colab": {
          "base_uri": "https://localhost:8080/"
        },
        "id": "AtVuof2oLz22",
        "outputId": "90c55dd5-c8fb-43ea-de73-5b2384c7fa2d"
      },
      "execution_count": 10,
      "outputs": [
        {
          "output_type": "stream",
          "name": "stdout",
          "text": [
            "epoch : 1\n",
            "train loss: 1.1595, train acc: 60.5449 \n",
            "test loss: 0.7083, test acc: 77.1777 \n",
            "epoch : 2\n",
            "train loss: 0.5808, train acc: 82.3083 \n",
            "test loss: 0.5534, test acc: 81.6895 \n",
            "epoch : 3\n",
            "train loss: 0.4380, train acc: 86.6629 \n",
            "test loss: 0.5854, test acc: 81.6211 \n",
            "epoch : 4\n",
            "train loss: 0.3483, train acc: 89.4173 \n",
            "test loss: 0.5126, test acc: 83.7500 \n",
            "epoch : 5\n",
            "train loss: 0.2689, train acc: 91.7012 \n",
            "test loss: 0.4794, test acc: 84.9805 \n",
            "epoch : 6\n",
            "train loss: 0.2106, train acc: 93.5049 \n",
            "test loss: 0.4427, test acc: 85.1074 \n",
            "epoch : 7\n",
            "train loss: 0.1670, train acc: 94.7585 \n",
            "test loss: 0.5654, test acc: 84.7656 \n",
            "epoch : 8\n",
            "train loss: 0.1389, train acc: 95.6792 \n",
            "test loss: 0.5650, test acc: 84.8730 \n",
            "epoch : 9\n",
            "train loss: 0.1123, train acc: 96.4246 \n",
            "test loss: 0.5628, test acc: 85.4492 \n",
            "epoch : 10\n",
            "train loss: 0.1003, train acc: 96.8610 \n",
            "test loss: 0.6360, test acc: 85.3125 \n"
          ]
        }
      ]
    },
    {
      "cell_type": "code",
      "source": [
        "# saving the model\n",
        "PATH2 = './Q7_c.h5'\n",
        "torch.save(model.state_dict(), PATH2)"
      ],
      "metadata": {
        "id": "d0eozfYTMUwt"
      },
      "execution_count": 11,
      "outputs": []
    },
    {
      "cell_type": "code",
      "source": [
        "# plot test and train loss with respect to number of epochs\n",
        "plt.figure(figsize=(6,5))\n",
        "plt.plot(train_loss_history, label= 'training loss')\n",
        "plt.plot(test_loss_history, label= 'testing loss')\n",
        "plt.xlabel('epoch')\n",
        "plt.ylabel('training and testing loss')\n",
        "plt.legend()\n",
        "plt.show()"
      ],
      "metadata": {
        "colab": {
          "base_uri": "https://localhost:8080/",
          "height": 335
        },
        "id": "f4ZJ0-PdMcjN",
        "outputId": "69bd7172-485e-4862-8bb9-ad8af355dc2c"
      },
      "execution_count": 12,
      "outputs": [
        {
          "output_type": "display_data",
          "data": {
            "text/plain": [
              "<Figure size 432x360 with 1 Axes>"
            ],
            "image/png": "[encoded data removed]"
          },
          "metadata": {
            "needs_background": "light"
          }
        }
      ]
    },
    {
      "cell_type": "code",
      "source": [
        "# plot test and train accuracy with respect to number of epochs\n",
        "plt.figure(figsize=(6,5))\n",
        "plt.plot(train_corrects_history, label= 'training accuracy')\n",
        "plt.plot(test_corrects_history, label= 'testing accuracy')\n",
        "plt.xlabel('epoch')\n",
        "plt.ylabel('training and testing loss')\n",
        "plt.legend()\n",
        "plt.show"
      ],
      "metadata": {
        "colab": {
          "base_uri": "https://localhost:8080/",
          "height": 351
        },
        "id": "G-PQPBjPMd03",
        "outputId": "3b33a771-a05e-4500-ba4c-f5a4660c2e12"
      },
      "execution_count": 13,
      "outputs": [
        {
          "output_type": "execute_result",
          "data": {
            "text/plain": [
              "<function matplotlib.pyplot.show(*args, **kw)>"
            ]
          },
          "metadata": {},
          "execution_count": 13
        },
        {
          "output_type": "display_data",
          "data": {
            "text/plain": [
              "<Figure size 432x360 with 1 Axes>"
            ],
            "image/png": "[encoded data removed]"
          },
          "metadata": {
            "needs_background": "light"
          }
        }
      ]
    },
    {
      "cell_type": "code",
      "source": [
        "model.load_state_dict(torch.load(PATH2))\n",
        "images = images.to(device)\n",
        "outputs = model(images)\n",
        "_, predicted = torch.max(outputs, 1)\n",
        "\n",
        "print('Predicted: ', ' '.join(f'{classes[predicted[j]]:5s}'\n",
        "                              for j in range(4)))"
      ],
      "metadata": {
        "colab": {
          "base_uri": "https://localhost:8080/"
        },
        "id": "Ck2WDtz3Mk3B",
        "outputId": "370c910d-25aa-4ccc-e6c3-6060fbf7c1db"
      },
      "execution_count": 14,
      "outputs": [
        {
          "output_type": "stream",
          "name": "stdout",
          "text": [
            "Predicted:  dog   car   horse plane\n"
          ]
        }
      ]
    },
    {
      "cell_type": "code",
      "source": [
        "#accuracy of each class\n",
        "from sklearn.metrics import confusion_matrix\n",
        "correct = 0\n",
        "total = 0\n",
        "correct_pred = {classname: 0 for classname in classes}\n",
        "total_pred = {classname: 0 for classname in classes}\n",
        "\n",
        "with torch.no_grad():\n",
        "    for data in testloader:\n",
        "        images, labels = data\n",
        "        images = images.to(device)\n",
        "        labels = labels.cpu()\n",
        "        outputs = model(images).cpu()\n",
        "        _, predictions = torch.max(outputs, 1)\n",
        "        all\n",
        "        total += labels.size(0)\n",
        "        correct += (predictions == labels).sum().item()\n",
        "        # collect the correct predictions for each class\n",
        "        for label, prediction in zip(labels, predictions):\n",
        "            cm = confusion_matrix(labels, predictions)\n",
        "            if label == prediction:\n",
        "                correct_pred[classes[label]] += 1\n",
        "            total_pred[classes[label]] += 1\n",
        "\n",
        "# print accuracy for each class\n",
        "for classname, correct_count in correct_pred.items():\n",
        "    accuracy = 100 * float(correct_count) / total_pred[classname]\n",
        "    print(f'Accuracy for class: {classname:5s} is {accuracy:.1f} %')\n",
        "print(f'Accuracy of the network on the 10000 test images: {100 * correct // total} %')"
      ],
      "metadata": {
        "colab": {
          "base_uri": "https://localhost:8080/"
        },
        "id": "BkQK-2MwMoLs",
        "outputId": "185afe06-aa9e-4878-acaa-1ad8fd1e412f"
      },
      "execution_count": 15,
      "outputs": [
        {
          "output_type": "stream",
          "name": "stdout",
          "text": [
            "Accuracy for class: plane is 84.8 %\n",
            "Accuracy for class: car   is 94.1 %\n",
            "Accuracy for class: bird  is 84.6 %\n",
            "Accuracy for class: cat   is 75.5 %\n",
            "Accuracy for class: deer  is 91.0 %\n",
            "Accuracy for class: dog   is 79.5 %\n",
            "Accuracy for class: frog  is 96.1 %\n",
            "Accuracy for class: horse is 82.6 %\n",
            "Accuracy for class: ship  is 93.7 %\n",
            "Accuracy for class: truck is 91.6 %\n",
            "Accuracy of the network on the 10000 test images: 87 %\n"
          ]
        }
      ]
    },
    {
      "cell_type": "code",
      "source": [
        "# confusion matrix\n",
        "from itertools import product\n",
        "all_labels, all_predictions = [], []\n",
        "correct = 0\n",
        "total = 0\n",
        "correct_pred = {classname: 0 for classname in classes}\n",
        "total_pred = {classname: 0 for classname in classes}\n",
        "\n",
        "with torch.no_grad():\n",
        "    for data in testloader:\n",
        "        images, labels = data\n",
        "        images = images.to(device)\n",
        "        labels = labels.cpu()\n",
        "        outputs = model(images).cpu()\n",
        "        _, predictions = torch.max(outputs, 1)\n",
        "        all_labels.extend(labels.to('cpu'))\n",
        "        all_predictions.extend(predictions.to('cpu'))\n",
        "        total += labels.size(0)\n",
        "        correct += (predictions == labels).sum().item()\n",
        "        # collect the correct predictions for each class\n",
        "        for label, prediction in zip(labels, predictions):\n",
        "            if label == prediction:\n",
        "                correct_pred[classes[label]] += 1\n",
        "            total_pred[classes[label]] += 1\n",
        "all_predictions = all_predictions\n",
        "all_predictions = np.array(all_predictions)\n",
        "all_labels = np.array(all_labels)\n",
        "class_labels = np.unique(np.concatenate((all_labels, all_predictions)))\n",
        "if class_labels.shape[0] == 1:\n",
        "  if class_labels.shape[0] != 0:\n",
        "    class_labels = np.array([0, class_labels[0]])\n",
        "  else:\n",
        "    class_labels = np.array([class_labels[0], 1])\n",
        "n_labels = class_labels.shape[0]\n",
        "lst =[]\n",
        "z = list(zip(all_labels, all_predictions))\n",
        "for combi in product(class_labels, repeat=2):\n",
        "  lst.append(z.count(combi))\n",
        "mat = np.asarray(lst)[:, None].reshape(n_labels, n_labels)\n",
        "print(mat)\n",
        "\n",
        "\n",
        "# print accuracy for each class\n",
        "for classname, correct_count in correct_pred.items():\n",
        "    accuracy = 100 * float(correct_count) / total_pred[classname]\n",
        "    print(f'Accuracy for class: {classname:5s} is {accuracy:.1f} %')\n",
        "print(f'Accuracy of the network on the 10000 test images: {100 * correct // total} %')"
      ],
      "metadata": {
        "colab": {
          "base_uri": "https://localhost:8080/"
        },
        "id": "xsiPKFqHpx1u",
        "outputId": "a1d1001a-12a9-4a3a-c411-0fb8d894bc78"
      },
      "execution_count": 16,
      "outputs": [
        {
          "output_type": "stream",
          "name": "stdout",
          "text": [
            "[[853   6  23  13  21   2  19   7  28  28]\n",
            " [  3 940   3   2   1   0   9   1   7  34]\n",
            " [ 11   1 841  26  44  22  45   5   3   2]\n",
            " [  5   1  22 752  40  93  77   4   3   3]\n",
            " [  2   1  20  17 918  12  18  11   1   0]\n",
            " [  0   0  17 143  24 787  24   4   0   1]\n",
            " [  1   0   8  16  12   2 960   0   1   0]\n",
            " [  7   1  13  21  46  66  11 832   2   1]\n",
            " [ 20   9   6   3   5   0   8   1 940   8]\n",
            " [  8  38   2   3   4   0  10   2  14 919]]\n",
            "Accuracy for class: plane is 85.3 %\n",
            "Accuracy for class: car   is 94.0 %\n",
            "Accuracy for class: bird  is 84.1 %\n",
            "Accuracy for class: cat   is 75.2 %\n",
            "Accuracy for class: deer  is 91.8 %\n",
            "Accuracy for class: dog   is 78.7 %\n",
            "Accuracy for class: frog  is 96.0 %\n",
            "Accuracy for class: horse is 83.2 %\n",
            "Accuracy for class: ship  is 94.0 %\n",
            "Accuracy for class: truck is 91.9 %\n",
            "Accuracy of the network on the 10000 test images: 87 %\n"
          ]
        }
      ]
    },
    {
      "cell_type": "code",
      "source": [
        "# plotting the confusion matrix\n",
        "classes = {0: 'plane', 1:'car', 2:'bird', 3:'cat', 4:'deer', 5:'dog', 6:'frog',\n",
        "           7:'horse', 8:'ship', 9:'truck'}\n",
        "\n",
        "total_samples = mat.sum(axis=1)[:, np.newaxis]\n",
        "normed_conf_mat = mat.astype('float') / total_samples\n",
        "figsize = (10,7)\n",
        "fig, ax = plt.subplots(figsize=figsize)\n",
        "ax.grid(False)\n",
        "matshow = ax.matshow(normed_conf_mat, cmap=plt.cm.Blues)\n",
        "fig.colorbar(matshow)\n",
        "for i in range(mat.shape[0]):\n",
        "    for j in range(mat.shape[1]):\n",
        "        cell_text = \"\"\n",
        "        cell_text += format(mat[i, j], 'd')\n",
        "        ax.text(x=j,\n",
        "                y=i,\n",
        "                s=cell_text,\n",
        "                va='center',\n",
        "                ha='center',\n",
        "                color=\"white\" if normed_conf_mat[i, j] > 0.5 else \"black\")    \n",
        "tick_marks = np.arange(len(classes.values()))\n",
        "plt.xticks(tick_marks, classes.values(), rotation=90)\n",
        "plt.yticks(tick_marks, classes.values())\n",
        "ax.yaxis.set_ticks_position('left')\n",
        "ax.xaxis.set_ticks_position('bottom')\n",
        "plt.xlabel('predicted label')\n",
        "plt.ylabel('true label')\n",
        "plt.show()"
      ],
      "metadata": {
        "id": "NCSDIAGl3orb",
        "colab": {
          "base_uri": "https://localhost:8080/",
          "height": 460
        },
        "outputId": "2380cf32-59d4-41a4-8dd2-65e283218828"
      },
      "execution_count": 17,
      "outputs": [
        {
          "output_type": "display_data",
          "data": {
            "text/plain": [
              "<Figure size 720x504 with 2 Axes>"
            ],
            "image/png": "[encoded data removed]"
          },
          "metadata": {
            "needs_background": "light"
          }
        }
      ]
    }
  ]
}