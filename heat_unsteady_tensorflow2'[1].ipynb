{
 "cells": [
  {
   "cell_type": "code",
   "execution_count": 1,
   "id": "f6fcfa3d",
   "metadata": {},
   "outputs": [],
   "source": [
    "import numpy as np\n",
    "import time\n",
    "import pandas as pd\n",
    "import tensorflow as tf\n",
    "import matplotlib.pyplot as plt\n",
    "from matplotlib import cm\n",
    "from scipy.stats import qmc"
   ]
  },
  {
   "cell_type": "code",
   "execution_count": 2,
   "id": "e9b11f4f",
   "metadata": {},
   "outputs": [],
   "source": [
    "tf.keras.backend.set_floatx(\"float64\")"
   ]
  },
  {
   "cell_type": "code",
   "execution_count": 3,
   "id": "8ef1060b",
   "metadata": {},
   "outputs": [],
   "source": [
    "### data generation\n",
    "n_bc = 4\n",
    "n_data_per_bc = 25\n",
    "#\n",
    "engine = qmc.LatinHypercube(d=1)\n",
    "data = np.zeros([4, 25, 4])"
   ]
  },
  {
   "cell_type": "code",
   "execution_count": 4,
   "id": "71c836a4",
   "metadata": {},
   "outputs": [],
   "source": [
    "def generate_boundary_condition(n_bc, n_data_per_bc, total_columns, time_range_shifter):\n",
    "    data = np.zeros([n_bc, n_data_per_bc, total_columns])\n",
    "    engine = qmc.LatinHypercube(d=1)\n",
    "    for i, j in zip(range(n_bc), [-1, +1, -1, +1]):\n",
    "        points = (engine.random(n=n_data_per_bc)[:, 0] - 0.5) * 2\n",
    "        #random_time = np.random.random(25) + time_range_shifter  \n",
    "        if i < 2:\n",
    "            data[i, :, 0] = j\n",
    "            data[i, :, 1] = points\n",
    "            data[i, :, 2] = time_range_shifter\n",
    "        else:\n",
    "            data[i, :, 0] = points\n",
    "            data[i, :, 1] = j\n",
    "            data[i, :, 2] = time_range_shifter\n",
    "\n",
    "    data[0, :, 3] = 300/400\n",
    "    data[1, :, 3] = 300/400\n",
    "    data[2, :, 3] = 1\n",
    "    data[3, :, 3] = 273/400\n",
    "    return data"
   ]
  },
  {
   "cell_type": "code",
   "execution_count": 5,
   "id": "3eb968e5",
   "metadata": {},
   "outputs": [],
   "source": [
    "data_0 = generate_boundary_condition(n_bc, n_data_per_bc,4, 0)\n",
    "data_1 = generate_boundary_condition(n_bc, n_data_per_bc,4, 1)\n",
    "data_2 = generate_boundary_condition(n_bc, n_data_per_bc,4, 2)\n",
    "data_3 = generate_boundary_condition(n_bc, n_data_per_bc,4, 3)\n",
    "data_4 = generate_boundary_condition(n_bc, n_data_per_bc,4, 4)\n",
    "data_5 = generate_boundary_condition(n_bc, n_data_per_bc,4, 5)\n",
    "data_6 = generate_boundary_condition(n_bc, n_data_per_bc,4, 6)\n",
    "data_7 = generate_boundary_condition(n_bc, n_data_per_bc,4, 7)\n",
    "data_8 = generate_boundary_condition(n_bc, n_data_per_bc,4, 8)\n",
    "data_9 = generate_boundary_condition(n_bc, n_data_per_bc,4, 9)\n",
    "data_10 = generate_boundary_condition(n_bc, n_data_per_bc,4, 10)\n"
   ]
  },
  {
   "cell_type": "code",
   "execution_count": 6,
   "id": "bb142aa2",
   "metadata": {},
   "outputs": [],
   "source": [
    "data_0 = data_0.reshape(n_data_per_bc * n_bc, 4)\n",
    "data_1 = data_1.reshape(n_data_per_bc * n_bc, 4)\n",
    "data_2 = data_2.reshape(n_data_per_bc * n_bc, 4)\n",
    "data_3 = data_3.reshape(n_data_per_bc * n_bc, 4)\n",
    "data_4 = data_4.reshape(n_data_per_bc * n_bc, 4)\n",
    "data_5 = data_5.reshape(n_data_per_bc * n_bc, 4)\n",
    "data_6 = data_6.reshape(n_data_per_bc * n_bc, 4)\n",
    "data_7 = data_7.reshape(n_data_per_bc * n_bc, 4)\n",
    "data_8 = data_8.reshape(n_data_per_bc * n_bc, 4)\n",
    "data_9 = data_9.reshape(n_data_per_bc * n_bc, 4)\n",
    "data_10 = data_10.reshape(n_data_per_bc * n_bc, 4)\n"
   ]
  },
  {
   "cell_type": "code",
   "execution_count": 7,
   "id": "7edbccaa",
   "metadata": {},
   "outputs": [],
   "source": [
    "data = np.concatenate([data_0,data_1,data_2,data_3,data_4,data_5,data_6,data_7,data_8,data_9,data_10])"
   ]
  },
  {
   "cell_type": "code",
   "execution_count": 8,
   "id": "f092e9d7",
   "metadata": {},
   "outputs": [],
   "source": [
    "x_d, y_d, t_d, T_d = map(lambda x: np.expand_dims(x, axis=1), [data[:, 0], data[:, 1], data[:, 2], data[:, 3]])"
   ]
  },
  {
   "cell_type": "code",
   "execution_count": 9,
   "id": "b4e36226",
   "metadata": {},
   "outputs": [],
   "source": [
    "Nc = 10000\n",
    "engine = qmc.LatinHypercube(d=2)\n",
    "colloc = engine.random(n=Nc)\n",
    "colloc = 2 * (colloc -0.5)\n",
    "#\n",
    "x_c, y_c = map(lambda x: np.expand_dims(x, axis=1), [colloc[:, 0], colloc[:, 1]])\n",
    "\n"
   ]
  },
  {
   "cell_type": "code",
   "execution_count": 10,
   "id": "7b29e2a9",
   "metadata": {},
   "outputs": [],
   "source": [
    "tc_i = np.ones_like(x_c) "
   ]
  },
  {
   "cell_type": "code",
   "execution_count": 11,
   "id": "3d082a51",
   "metadata": {},
   "outputs": [],
   "source": [
    "t_c_full = np.concatenate([tc_i*0,tc_i*1,tc_i*2,tc_i*3,tc_i*4,tc_i*5,tc_i*6,tc_i*7,tc_i*8,tc_i*9,tc_i*10])"
   ]
  },
  {
   "cell_type": "code",
   "execution_count": 12,
   "id": "a637d288",
   "metadata": {},
   "outputs": [],
   "source": [
    "x_c_full = np.concatenate([x_c,x_c,x_c,x_c,x_c,x_c,x_c,x_c,x_c,x_c,x_c])\n",
    "y_c_full = np.concatenate([y_c,y_c,y_c,y_c,y_c,y_c,y_c,y_c,y_c,y_c,y_c])"
   ]
  },
  {
   "cell_type": "code",
   "execution_count": 13,
   "id": "8ac1cbde",
   "metadata": {},
   "outputs": [],
   "source": [
    "time_0 = np.zeros_like(x_c)\n",
    "value_time_o = np.ones_like(x_c) * (300/400)"
   ]
  },
  {
   "cell_type": "code",
   "execution_count": 14,
   "id": "b9916327",
   "metadata": {},
   "outputs": [],
   "source": [
    "### model builder function\n",
    "def DNN_builder(in_shape=3, out_shape=1, n_hidden_layers=10, \n",
    "                neuron_per_layer=20, actfn=\"tanh\"):\n",
    "    # input layer\n",
    "    input_layer = tf.keras.layers.Input(shape=(in_shape,))\n",
    "    # hidden layers\n",
    "    hidden = [tf.keras.layers.Dense(neuron_per_layer, activation=actfn)(input_layer)]\n",
    "    for i in range(n_hidden_layers-1):\n",
    "        new_layer = tf.keras.layers.Dense(neuron_per_layer,\n",
    "                                          activation=actfn,\n",
    "                                          activity_regularizer=None)(hidden[-1])\n",
    "        hidden.append(new_layer)\n",
    "    # output layer\n",
    "    output_layer = tf.keras.layers.Dense(1, activation=None)(hidden[-1])\n",
    "    # building the model\n",
    "    name = f\"DNN-{n_hidden_layers}\"\n",
    "    model = tf.keras.Model(input_layer, output_layer, name=name)\n",
    "    return model\n"
   ]
  },
  {
   "cell_type": "code",
   "execution_count": 20,
   "id": "40ac12d2",
   "metadata": {},
   "outputs": [
    {
     "name": "stdout",
     "output_type": "stream",
     "text": [
      "Model: \"DNN-9\"\n",
      "_________________________________________________________________\n",
      " Layer (type)                Output Shape              Param #   \n",
      "=================================================================\n",
      " input_1 (InputLayer)        [(None, 3)]               0         \n",
      "                                                                 \n",
      " dense (Dense)               (None, 20)                80        \n",
      "                                                                 \n",
      " dense_1 (Dense)             (None, 20)                420       \n",
      "                                                                 \n",
      " dense_2 (Dense)             (None, 20)                420       \n",
      "                                                                 \n",
      " dense_3 (Dense)             (None, 20)                420       \n",
      "                                                                 \n",
      " dense_4 (Dense)             (None, 20)                420       \n",
      "                                                                 \n",
      " dense_5 (Dense)             (None, 20)                420       \n",
      "                                                                 \n",
      " dense_6 (Dense)             (None, 20)                420       \n",
      "                                                                 \n",
      " dense_7 (Dense)             (None, 20)                420       \n",
      "                                                                 \n",
      " dense_8 (Dense)             (None, 20)                420       \n",
      "                                                                 \n",
      " dense_9 (Dense)             (None, 1)                 21        \n",
      "                                                                 \n",
      "=================================================================\n",
      "Total params: 3,461\n",
      "Trainable params: 3,461\n",
      "Non-trainable params: 0\n",
      "_________________________________________________________________\n",
      "You must install pydot (`pip install pydot`) and install graphviz (see instructions at https://graphviz.gitlab.io/download/) for plot_model/model_to_dot to work.\n"
     ]
    }
   ],
   "source": [
    "tf.keras.backend.clear_session()\n",
    "model = DNN_builder(3, 1, 9, 20, \"tanh\")\n",
    "model.summary()\n",
    "tf.keras.utils.plot_model(model, to_file='model_plot.png', show_shapes=True, \n",
    "                          show_layer_names=True, show_dtype=True, \n",
    "                          show_layer_activations=True)"
   ]
  },
  {
   "cell_type": "code",
   "execution_count": 25,
   "id": "a6200364",
   "metadata": {},
   "outputs": [],
   "source": [
    "@tf.function\n",
    "def u(x, y, t):\n",
    "    u = model(tf.concat([x, y,t], axis=1))\n",
    "    return u"
   ]
  },
  {
   "cell_type": "code",
   "execution_count": 26,
   "id": "243518a5",
   "metadata": {},
   "outputs": [],
   "source": [
    "@tf.function\n",
    "def f(x, y,t):\n",
    "    u0 = u(x, y,t)\n",
    "    u_x = tf.gradients(u0, x)[0]\n",
    "    u_y = tf.gradients(u0, y)[0]\n",
    "    u_t = tf.gradients(u0, t)[0]\n",
    "    u_xx = tf.gradients(u_x, x)[0]\n",
    "    u_yy = tf.gradients(u_y, y)[0]\n",
    "    F = u_t - u_xx - u_yy\n",
    "    return tf.reduce_mean(tf.square(F))"
   ]
  },
  {
   "cell_type": "code",
   "execution_count": 27,
   "id": "d6b6d4fb",
   "metadata": {},
   "outputs": [],
   "source": [
    "@tf.function\n",
    "def mse(y, y_):\n",
    "    return tf.reduce_mean(tf.square(y-y_))"
   ]
  },
  {
   "cell_type": "code",
   "execution_count": 30,
   "id": "5a0134e2",
   "metadata": {},
   "outputs": [
    {
     "name": "stdout",
     "output_type": "stream",
     "text": [
      "    0, 0.004\n",
      "  199, 0.003\n",
      "\n",
      "computation time: 1652.744\n",
      "\n"
     ]
    },
    {
     "data": {
      "text/plain": [
       "<matplotlib.legend.Legend at 0x224032403d0>"
      ]
     },
     "execution_count": 30,
     "metadata": {},
     "output_type": "execute_result"
    },
    {
     "data": {
      "image/png": "[encoded data removed]",
      "text/plain": [
       "<Figure size 432x288 with 1 Axes>"
      ]
     },
     "metadata": {
      "needs_background": "light"
     },
     "output_type": "display_data"
    }
   ],
   "source": [
    "loss = 0\n",
    "epochs = 200\n",
    "opt = tf.keras.optimizers.Adam(learning_rate=5e-4)\n",
    "epoch = 0\n",
    "loss_values = np.array([])\n",
    "#\n",
    "start = time.time()\n",
    "#\n",
    "for epoch in range(epochs):\n",
    "    with tf.GradientTape() as tape:\n",
    "        T_ = u(x_d, y_d, t_d)\n",
    "        l = mse(T_d, T_)        \n",
    "        intial = u(x_c, y_c, time_0 ) \n",
    "        intial_loss = mse(value_time_o, intial)\n",
    "        L = f(x_c_full, y_c_full, t_c_full)\n",
    "        loss = l +L +intial_loss\n",
    "    g = tape.gradient(loss, model.trainable_weights)\n",
    "    opt.apply_gradients(zip(g, model.trainable_weights))\n",
    "    loss_values = np.append(loss_values, loss)\n",
    "    if epoch % 200 == 0 or epoch == epochs-1:\n",
    "        print(f\"{epoch:5}, {loss.numpy():.3f}\")\n",
    "\n",
    "#\n",
    "end = time.time()\n",
    "computation_time = {}\n",
    "computation_time[\"pinn\"] = end - start\n",
    "print(f\"\\ncomputation time: {end-start:.3f}\\n\")\n",
    "#\n",
    "plt.semilogy(loss_values, label=model.name)\n",
    "plt.legend()"
   ]
  },
  {
   "cell_type": "code",
   "execution_count": 31,
   "id": "96b1073a",
   "metadata": {},
   "outputs": [],
   "source": [
    "zaman = np.zeros_like()"
   ]
  },
  {
   "cell_type": "code",
   "execution_count": 34,
   "id": "485a7c95",
   "metadata": {},
   "outputs": [],
   "source": [
    "n = 100\n",
    "l = 1.\n",
    "r = 2*l/(n+1)\n",
    "T = np.zeros([n*n, n*n])\n",
    "bc = {\n",
    "    \"x=-l\": 300.,\n",
    "    \"x=+l\": 300.,\n",
    "    \"y=-l\": 374.,\n",
    "    \"y=+l\": 400.\n",
    "}\n",
    "X = np.linspace(-1, +1, n)\n",
    "Y = np.linspace(-1, +1, n)\n",
    "X0, Y0 = np.meshgrid(X, Y)\n",
    "X = X0.reshape([n*n, 1])\n",
    "Y = Y0.reshape([n*n, 1])\n",
    "X_T = tf.convert_to_tensor(X)\n",
    "Y_T = tf.convert_to_tensor(Y)\n"
   ]
  },
  {
   "cell_type": "code",
   "execution_count": 50,
   "id": "64a0172a",
   "metadata": {},
   "outputs": [
    {
     "data": {
      "text/plain": [
       "<tf.Tensor: shape=(10000, 1), dtype=float64, numpy=\n",
       "array([[0.2],\n",
       "       [0.2],\n",
       "       [0.2],\n",
       "       ...,\n",
       "       [0.2],\n",
       "       [0.2],\n",
       "       [0.2]])>"
      ]
     },
     "execution_count": 50,
     "metadata": {},
     "output_type": "execute_result"
    }
   ],
   "source": [
    "zaman = tf.ones_like(X_T) * 0.2 \n",
    "zaman"
   ]
  },
  {
   "cell_type": "code",
   "execution_count": 52,
   "id": "d6a103ca",
   "metadata": {},
   "outputs": [
    {
     "data": {
      "image/png": "[encoded data removed]",
      "text/plain": [
       "<Figure size 864x432 with 2 Axes>"
      ]
     },
     "metadata": {
      "needs_background": "light"
     },
     "output_type": "display_data"
    }
   ],
   "source": [
    "S = u(X_T, Y_T,zaman)\n",
    "S = S.numpy().reshape(n, n)\n",
    "plt.figure(\"\", figsize=(12, 6))\n",
    "plt.subplot(221)\n",
    "plt.pcolormesh(X0, Y0, 400.*S, cmap=\"magma\")\n",
    "plt.colorbar()\n",
    "plt.xlabel(\"x\")\n",
    "plt.ylabel(\"y\")\n",
    "plt.title(\"PINN time = 0.2 s\")\n",
    "plt.tight_layout()\n",
    "plt.axis(\"square\")\n",
    "plt.show()\n"
   ]
  },
  {
   "cell_type": "code",
   "execution_count": null,
   "id": "07c9b7c8",
   "metadata": {},
   "outputs": [],
   "source": []
  }
 ],
 "metadata": {
  "kernelspec": {
   "display_name": "Python 3 (ipykernel)",
   "language": "python",
   "name": "python3"
  },
  "language_info": {
   "codemirror_mode": {
    "name": "ipython",
    "version": 3
   },
   "file_extension": ".py",
   "mimetype": "text/x-python",
   "name": "python",
   "nbconvert_exporter": "python",
   "pygments_lexer": "ipython3",
   "version": "3.10.4"
  }
 },
 "nbformat": 4,
 "nbformat_minor": 5
}
